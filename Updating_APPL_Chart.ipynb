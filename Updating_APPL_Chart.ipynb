{
 "cells": [
  {
   "cell_type": "code",
   "execution_count": 13,
   "metadata": {},
   "outputs": [],
   "source": [
    "import pandas as pd\n",
    "import numpy as np\n",
    "import matplotlib.pyplot as plt\n",
    "%matplotlib inline\n",
    "import requests\n",
    "from bs4 import BeautifulSoup"
   ]
  },
  {
   "cell_type": "code",
   "execution_count": 272,
   "metadata": {},
   "outputs": [],
   "source": [
    "# Import csv file downloaded from yahoo finance from August 11, 2020\n",
    "apple_chart = pd.read_csv('AAPL.csv')"
   ]
  },
  {
   "cell_type": "code",
   "execution_count": 273,
   "metadata": {},
   "outputs": [
    {
     "data": {
      "text/html": [
       "<div>\n",
       "<style scoped>\n",
       "    .dataframe tbody tr th:only-of-type {\n",
       "        vertical-align: middle;\n",
       "    }\n",
       "\n",
       "    .dataframe tbody tr th {\n",
       "        vertical-align: top;\n",
       "    }\n",
       "\n",
       "    .dataframe thead th {\n",
       "        text-align: right;\n",
       "    }\n",
       "</style>\n",
       "<table border=\"1\" class=\"dataframe\">\n",
       "  <thead>\n",
       "    <tr style=\"text-align: right;\">\n",
       "      <th></th>\n",
       "      <th>Date</th>\n",
       "      <th>Open</th>\n",
       "      <th>Adj Close</th>\n",
       "    </tr>\n",
       "  </thead>\n",
       "  <tbody>\n",
       "    <tr>\n",
       "      <td>0</td>\n",
       "      <td>2015-08-11</td>\n",
       "      <td>117.809998</td>\n",
       "      <td>104.877724</td>\n",
       "    </tr>\n",
       "    <tr>\n",
       "      <td>1</td>\n",
       "      <td>2015-08-12</td>\n",
       "      <td>112.529999</td>\n",
       "      <td>106.494896</td>\n",
       "    </tr>\n",
       "    <tr>\n",
       "      <td>2</td>\n",
       "      <td>2015-08-13</td>\n",
       "      <td>116.040001</td>\n",
       "      <td>106.411743</td>\n",
       "    </tr>\n",
       "    <tr>\n",
       "      <td>3</td>\n",
       "      <td>2015-08-14</td>\n",
       "      <td>114.320000</td>\n",
       "      <td>107.160263</td>\n",
       "    </tr>\n",
       "    <tr>\n",
       "      <td>4</td>\n",
       "      <td>2015-08-17</td>\n",
       "      <td>116.040001</td>\n",
       "      <td>108.269211</td>\n",
       "    </tr>\n",
       "    <tr>\n",
       "      <td>...</td>\n",
       "      <td>...</td>\n",
       "      <td>...</td>\n",
       "      <td>...</td>\n",
       "    </tr>\n",
       "    <tr>\n",
       "      <td>1255</td>\n",
       "      <td>2020-08-05</td>\n",
       "      <td>437.510010</td>\n",
       "      <td>439.457642</td>\n",
       "    </tr>\n",
       "    <tr>\n",
       "      <td>1256</td>\n",
       "      <td>2020-08-06</td>\n",
       "      <td>441.619995</td>\n",
       "      <td>454.790009</td>\n",
       "    </tr>\n",
       "    <tr>\n",
       "      <td>1257</td>\n",
       "      <td>2020-08-07</td>\n",
       "      <td>452.820007</td>\n",
       "      <td>444.450012</td>\n",
       "    </tr>\n",
       "    <tr>\n",
       "      <td>1258</td>\n",
       "      <td>2020-08-10</td>\n",
       "      <td>450.399994</td>\n",
       "      <td>450.910004</td>\n",
       "    </tr>\n",
       "    <tr>\n",
       "      <td>1259</td>\n",
       "      <td>2020-08-11</td>\n",
       "      <td>447.875000</td>\n",
       "      <td>443.695007</td>\n",
       "    </tr>\n",
       "  </tbody>\n",
       "</table>\n",
       "<p>1260 rows × 3 columns</p>\n",
       "</div>"
      ],
      "text/plain": [
       "            Date        Open   Adj Close\n",
       "0     2015-08-11  117.809998  104.877724\n",
       "1     2015-08-12  112.529999  106.494896\n",
       "2     2015-08-13  116.040001  106.411743\n",
       "3     2015-08-14  114.320000  107.160263\n",
       "4     2015-08-17  116.040001  108.269211\n",
       "...          ...         ...         ...\n",
       "1255  2020-08-05  437.510010  439.457642\n",
       "1256  2020-08-06  441.619995  454.790009\n",
       "1257  2020-08-07  452.820007  444.450012\n",
       "1258  2020-08-10  450.399994  450.910004\n",
       "1259  2020-08-11  447.875000  443.695007\n",
       "\n",
       "[1260 rows x 3 columns]"
      ]
     },
     "execution_count": 273,
     "metadata": {},
     "output_type": "execute_result"
    }
   ],
   "source": [
    "# Drop the unneccessary columns\n",
    "apple_chart.drop(columns = ['High', 'Close','Low', 'Volume'],inplace = True)\n",
    "apple_chart"
   ]
  },
  {
   "cell_type": "markdown",
   "metadata": {},
   "source": [
    "### The purpose of this notebook is to get updates from yahoo finance daily to not download a csv file everyday"
   ]
  },
  {
   "cell_type": "code",
   "execution_count": 436,
   "metadata": {},
   "outputs": [],
   "source": [
    "# Request the yahoo finance historical data\n",
    "page = requests.get('https://finance.yahoo.com/quote/AAPL/history?p=AAPL')\n",
    "soup = BeautifulSoup(page.content, 'html.parser')"
   ]
  },
  {
   "cell_type": "code",
   "execution_count": 437,
   "metadata": {
    "collapsed": true,
    "jupyter": {
     "outputs_hidden": true
    }
   },
   "outputs": [
    {
     "data": {
      "text/plain": [
       "<table class=\"W(100%) M(0)\" data-reactid=\"33\" data-test=\"historical-prices\"><thead data-reactid=\"34\"><tr class=\"C($tertiaryColor) Fz(xs) Ta(end)\" data-reactid=\"35\"><th class=\"Ta(start) W(100px) Fw(400) Py(6px)\" data-reactid=\"36\"><span data-reactid=\"37\">Date</span></th><th class=\"Fw(400) Py(6px)\" data-reactid=\"38\"><span data-reactid=\"39\">Open</span></th><th class=\"Fw(400) Py(6px)\" data-reactid=\"40\"><span data-reactid=\"41\">High</span></th><th class=\"Fw(400) Py(6px)\" data-reactid=\"42\"><span data-reactid=\"43\">Low</span></th><th class=\"Fw(400) Py(6px)\" data-reactid=\"44\"><span data-reactid=\"45\">Close*</span></th><th class=\"Fw(400) Py(6px)\" data-reactid=\"46\"><span data-reactid=\"47\">Adj Close**</span></th><th class=\"Fw(400) Py(6px)\" data-reactid=\"48\"><span data-reactid=\"49\">Volume</span></th></tr></thead><tbody data-reactid=\"50\"><tr class=\"BdT Bdc($seperatorColor) Ta(end) Fz(s) Whs(nw)\" data-reactid=\"51\"><td class=\"Py(10px) Ta(start) Pend(10px)\" data-reactid=\"52\"><span data-reactid=\"53\">Aug 17, 2020</span></td><td class=\"Py(10px) Pstart(10px)\" data-reactid=\"54\"><span data-reactid=\"55\">464.25</span></td><td class=\"Py(10px) Pstart(10px)\" data-reactid=\"56\"><span data-reactid=\"57\">464.35</span></td><td class=\"Py(10px) Pstart(10px)\" data-reactid=\"58\"><span data-reactid=\"59\">455.85</span></td><td class=\"Py(10px) Pstart(10px)\" data-reactid=\"60\"><span data-reactid=\"61\">457.23</span></td><td class=\"Py(10px) Pstart(10px)\" data-reactid=\"62\"><span data-reactid=\"63\">457.23</span></td><td class=\"Py(10px) Pstart(10px)\" data-reactid=\"64\"><span data-reactid=\"65\">16,521,676</span></td></tr><tr class=\"BdT Bdc($seperatorColor) Ta(end) Fz(s) Whs(nw)\" data-reactid=\"66\"><td class=\"Py(10px) Ta(start) Pend(10px)\" data-reactid=\"67\"><span data-reactid=\"68\">Aug 14, 2020</span></td><td class=\"Py(10px) Pstart(10px)\" data-reactid=\"69\"><span data-reactid=\"70\">459.32</span></td><td class=\"Py(10px) Pstart(10px)\" data-reactid=\"71\"><span data-reactid=\"72\">460.00</span></td><td class=\"Py(10px) Pstart(10px)\" data-reactid=\"73\"><span data-reactid=\"74\">452.18</span></td><td class=\"Py(10px) Pstart(10px)\" data-reactid=\"75\"><span data-reactid=\"76\">459.63</span></td><td class=\"Py(10px) Pstart(10px)\" data-reactid=\"77\"><span data-reactid=\"78\">459.63</span></td><td class=\"Py(10px) Pstart(10px)\" data-reactid=\"79\"><span data-reactid=\"80\">41,352,800</span></td></tr><tr class=\"BdT Bdc($seperatorColor) Ta(end) Fz(s) Whs(nw)\" data-reactid=\"81\"><td class=\"Py(10px) Ta(start) Pend(10px)\" data-reactid=\"82\"><span data-reactid=\"83\">Aug 13, 2020</span></td><td class=\"Py(10px) Pstart(10px)\" data-reactid=\"84\"><span data-reactid=\"85\">457.72</span></td><td class=\"Py(10px) Pstart(10px)\" data-reactid=\"86\"><span data-reactid=\"87\">464.17</span></td><td class=\"Py(10px) Pstart(10px)\" data-reactid=\"88\"><span data-reactid=\"89\">455.71</span></td><td class=\"Py(10px) Pstart(10px)\" data-reactid=\"90\"><span data-reactid=\"91\">460.04</span></td><td class=\"Py(10px) Pstart(10px)\" data-reactid=\"92\"><span data-reactid=\"93\">460.04</span></td><td class=\"Py(10px) Pstart(10px)\" data-reactid=\"94\"><span data-reactid=\"95\">52,520,500</span></td></tr><tr class=\"BdT Bdc($seperatorColor) Ta(end) Fz(s) Whs(nw)\" data-reactid=\"96\"><td class=\"Py(10px) Ta(start) Pend(10px)\" data-reactid=\"97\"><span data-reactid=\"98\">Aug 12, 2020</span></td><td class=\"Py(10px) Pstart(10px)\" data-reactid=\"99\"><span data-reactid=\"100\">441.99</span></td><td class=\"Py(10px) Pstart(10px)\" data-reactid=\"101\"><span data-reactid=\"102\">453.10</span></td><td class=\"Py(10px) Pstart(10px)\" data-reactid=\"103\"><span data-reactid=\"104\">441.19</span></td><td class=\"Py(10px) Pstart(10px)\" data-reactid=\"105\"><span data-reactid=\"106\">452.04</span></td><td class=\"Py(10px) Pstart(10px)\" data-reactid=\"107\"><span data-reactid=\"108\">452.04</span></td><td class=\"Py(10px) Pstart(10px)\" data-reactid=\"109\"><span data-reactid=\"110\">41,486,200</span></td></tr><tr class=\"BdT Bdc($seperatorColor) Ta(end) Fz(s) Whs(nw)\" data-reactid=\"111\"><td class=\"Py(10px) Ta(start) Pend(10px)\" data-reactid=\"112\"><span data-reactid=\"113\">Aug 11, 2020</span></td><td class=\"Py(10px) Pstart(10px)\" data-reactid=\"114\"><span data-reactid=\"115\">447.88</span></td><td class=\"Py(10px) Pstart(10px)\" data-reactid=\"116\"><span data-reactid=\"117\">449.93</span></td><td class=\"Py(10px) Pstart(10px)\" data-reactid=\"118\"><span data-reactid=\"119\">436.43</span></td><td class=\"Py(10px) Pstart(10px)\" data-reactid=\"120\"><span data-reactid=\"121\">437.50</span></td><td class=\"Py(10px) Pstart(10px)\" data-reactid=\"122\"><span data-reactid=\"123\">437.50</span></td><td class=\"Py(10px) Pstart(10px)\" data-reactid=\"124\"><span data-reactid=\"125\">46,975,600</span></td></tr><tr class=\"BdT Bdc($seperatorColor) Ta(end) Fz(s) Whs(nw)\" data-reactid=\"126\"><td class=\"Py(10px) Ta(start) Pend(10px)\" data-reactid=\"127\"><span data-reactid=\"128\">Aug 10, 2020</span></td><td class=\"Py(10px) Pstart(10px)\" data-reactid=\"129\"><span data-reactid=\"130\">450.40</span></td><td class=\"Py(10px) Pstart(10px)\" data-reactid=\"131\"><span data-reactid=\"132\">455.10</span></td><td class=\"Py(10px) Pstart(10px)\" data-reactid=\"133\"><span data-reactid=\"134\">440.00</span></td><td class=\"Py(10px) Pstart(10px)\" data-reactid=\"135\"><span data-reactid=\"136\">450.91</span></td><td class=\"Py(10px) Pstart(10px)\" data-reactid=\"137\"><span data-reactid=\"138\">450.91</span></td><td class=\"Py(10px) Pstart(10px)\" data-reactid=\"139\"><span data-reactid=\"140\">53,100,900</span></td></tr><tr class=\"BdT Bdc($seperatorColor) Ta(end) Fz(s) Whs(nw)\" data-reactid=\"141\"><td class=\"Py(10px) Ta(start) Pend(10px)\" data-reactid=\"142\"><span data-reactid=\"143\">Aug 07, 2020</span></td><td class=\"Py(10px) Pstart(10px)\" data-reactid=\"144\"><span data-reactid=\"145\">452.82</span></td><td class=\"Py(10px) Pstart(10px)\" data-reactid=\"146\"><span data-reactid=\"147\">454.70</span></td><td class=\"Py(10px) Pstart(10px)\" data-reactid=\"148\"><span data-reactid=\"149\">441.17</span></td><td class=\"Py(10px) Pstart(10px)\" data-reactid=\"150\"><span data-reactid=\"151\">444.45</span></td><td class=\"Py(10px) Pstart(10px)\" data-reactid=\"152\"><span data-reactid=\"153\">444.45</span></td><td class=\"Py(10px) Pstart(10px)\" data-reactid=\"154\"><span data-reactid=\"155\">49,453,300</span></td></tr><tr class=\"BdT Bdc($seperatorColor) Ta(end) Fz(s) Whs(nw)\" data-reactid=\"156\"><td class=\"Py(10px) Ta(start) Pend(10px)\" data-reactid=\"157\"><span data-reactid=\"158\">Aug 07, 2020</span></td><td class=\"Ta(c) Py(10px) Pstart(10px)\" colspan=\"6\" data-reactid=\"159\"><strong data-reactid=\"160\">0.82</strong><!-- react-text: 161 --> <!-- /react-text --><span data-reactid=\"162\">Dividend</span></td></tr><tr class=\"BdT Bdc($seperatorColor) Ta(end) Fz(s) Whs(nw)\" data-reactid=\"163\"><td class=\"Py(10px) Ta(start) Pend(10px)\" data-reactid=\"164\"><span data-reactid=\"165\">Aug 06, 2020</span></td><td class=\"Py(10px) Pstart(10px)\" data-reactid=\"166\"><span data-reactid=\"167\">441.62</span></td><td class=\"Py(10px) Pstart(10px)\" data-reactid=\"168\"><span data-reactid=\"169\">457.65</span></td><td class=\"Py(10px) Pstart(10px)\" data-reactid=\"170\"><span data-reactid=\"171\">439.19</span></td><td class=\"Py(10px) Pstart(10px)\" data-reactid=\"172\"><span data-reactid=\"173\">455.61</span></td><td class=\"Py(10px) Pstart(10px)\" data-reactid=\"174\"><span data-reactid=\"175\">454.79</span></td><td class=\"Py(10px) Pstart(10px)\" data-reactid=\"176\"><span data-reactid=\"177\">50,607,200</span></td></tr><tr class=\"BdT Bdc($seperatorColor) Ta(end) Fz(s) Whs(nw)\" data-reactid=\"178\"><td class=\"Py(10px) Ta(start) Pend(10px)\" data-reactid=\"179\"><span data-reactid=\"180\">Aug 05, 2020</span></td><td class=\"Py(10px) Pstart(10px)\" data-reactid=\"181\"><span data-reactid=\"182\">437.51</span></td><td class=\"Py(10px) Pstart(10px)\" data-reactid=\"183\"><span data-reactid=\"184\">441.57</span></td><td class=\"Py(10px) Pstart(10px)\" data-reactid=\"185\"><span data-reactid=\"186\">435.59</span></td><td class=\"Py(10px) Pstart(10px)\" data-reactid=\"187\"><span data-reactid=\"188\">440.25</span></td><td class=\"Py(10px) Pstart(10px)\" data-reactid=\"189\"><span data-reactid=\"190\">439.46</span></td><td class=\"Py(10px) Pstart(10px)\" data-reactid=\"191\"><span data-reactid=\"192\">30,498,000</span></td></tr><tr class=\"BdT Bdc($seperatorColor) Ta(end) Fz(s) Whs(nw)\" data-reactid=\"193\"><td class=\"Py(10px) Ta(start) Pend(10px)\" data-reactid=\"194\"><span data-reactid=\"195\">Aug 04, 2020</span></td><td class=\"Py(10px) Pstart(10px)\" data-reactid=\"196\"><span data-reactid=\"197\">436.53</span></td><td class=\"Py(10px) Pstart(10px)\" data-reactid=\"198\"><span data-reactid=\"199\">443.16</span></td><td class=\"Py(10px) Pstart(10px)\" data-reactid=\"200\"><span data-reactid=\"201\">433.55</span></td><td class=\"Py(10px) Pstart(10px)\" data-reactid=\"202\"><span data-reactid=\"203\">438.66</span></td><td class=\"Py(10px) Pstart(10px)\" data-reactid=\"204\"><span data-reactid=\"205\">437.87</span></td><td class=\"Py(10px) Pstart(10px)\" data-reactid=\"206\"><span data-reactid=\"207\">43,267,900</span></td></tr><tr class=\"BdT Bdc($seperatorColor) Ta(end) Fz(s) Whs(nw)\" data-reactid=\"208\"><td class=\"Py(10px) Ta(start) Pend(10px)\" data-reactid=\"209\"><span data-reactid=\"210\">Aug 03, 2020</span></td><td class=\"Py(10px) Pstart(10px)\" data-reactid=\"211\"><span data-reactid=\"212\">432.80</span></td><td class=\"Py(10px) Pstart(10px)\" data-reactid=\"213\"><span data-reactid=\"214\">446.55</span></td><td class=\"Py(10px) Pstart(10px)\" data-reactid=\"215\"><span data-reactid=\"216\">431.57</span></td><td class=\"Py(10px) Pstart(10px)\" data-reactid=\"217\"><span data-reactid=\"218\">435.75</span></td><td class=\"Py(10px) Pstart(10px)\" data-reactid=\"219\"><span data-reactid=\"220\">434.97</span></td><td class=\"Py(10px) Pstart(10px)\" data-reactid=\"221\"><span data-reactid=\"222\">77,037,800</span></td></tr><tr class=\"BdT Bdc($seperatorColor) Ta(end) Fz(s) Whs(nw)\" data-reactid=\"223\"><td class=\"Py(10px) Ta(start) Pend(10px)\" data-reactid=\"224\"><span data-reactid=\"225\">Jul 31, 2020</span></td><td class=\"Py(10px) Pstart(10px)\" data-reactid=\"226\"><span data-reactid=\"227\">411.54</span></td><td class=\"Py(10px) Pstart(10px)\" data-reactid=\"228\"><span data-reactid=\"229\">425.66</span></td><td class=\"Py(10px) Pstart(10px)\" data-reactid=\"230\"><span data-reactid=\"231\">403.30</span></td><td class=\"Py(10px) Pstart(10px)\" data-reactid=\"232\"><span data-reactid=\"233\">425.04</span></td><td class=\"Py(10px) Pstart(10px)\" data-reactid=\"234\"><span data-reactid=\"235\">424.28</span></td><td class=\"Py(10px) Pstart(10px)\" data-reactid=\"236\"><span data-reactid=\"237\">93,584,200</span></td></tr><tr class=\"BdT Bdc($seperatorColor) Ta(end) Fz(s) Whs(nw)\" data-reactid=\"238\"><td class=\"Py(10px) Ta(start) Pend(10px)\" data-reactid=\"239\"><span data-reactid=\"240\">Jul 30, 2020</span></td><td class=\"Py(10px) Pstart(10px)\" data-reactid=\"241\"><span data-reactid=\"242\">376.75</span></td><td class=\"Py(10px) Pstart(10px)\" data-reactid=\"243\"><span data-reactid=\"244\">385.19</span></td><td class=\"Py(10px) Pstart(10px)\" data-reactid=\"245\"><span data-reactid=\"246\">375.07</span></td><td class=\"Py(10px) Pstart(10px)\" data-reactid=\"247\"><span data-reactid=\"248\">384.76</span></td><td class=\"Py(10px) Pstart(10px)\" data-reactid=\"249\"><span data-reactid=\"250\">384.07</span></td><td class=\"Py(10px) Pstart(10px)\" data-reactid=\"251\"><span data-reactid=\"252\">39,532,500</span></td></tr><tr class=\"BdT Bdc($seperatorColor) Ta(end) Fz(s) Whs(nw)\" data-reactid=\"253\"><td class=\"Py(10px) Ta(start) Pend(10px)\" data-reactid=\"254\"><span data-reactid=\"255\">Jul 29, 2020</span></td><td class=\"Py(10px) Pstart(10px)\" data-reactid=\"256\"><span data-reactid=\"257\">375.00</span></td><td class=\"Py(10px) Pstart(10px)\" data-reactid=\"258\"><span data-reactid=\"259\">380.92</span></td><td class=\"Py(10px) Pstart(10px)\" data-reactid=\"260\"><span data-reactid=\"261\">374.85</span></td><td class=\"Py(10px) Pstart(10px)\" data-reactid=\"262\"><span data-reactid=\"263\">380.16</span></td><td class=\"Py(10px) Pstart(10px)\" data-reactid=\"264\"><span data-reactid=\"265\">379.48</span></td><td class=\"Py(10px) Pstart(10px)\" data-reactid=\"266\"><span data-reactid=\"267\">22,582,300</span></td></tr><tr class=\"BdT Bdc($seperatorColor) Ta(end) Fz(s) Whs(nw)\" data-reactid=\"268\"><td class=\"Py(10px) Ta(start) Pend(10px)\" data-reactid=\"269\"><span data-reactid=\"270\">Jul 28, 2020</span></td><td class=\"Py(10px) Pstart(10px)\" data-reactid=\"271\"><span data-reactid=\"272\">377.47</span></td><td class=\"Py(10px) Pstart(10px)\" data-reactid=\"273\"><span data-reactid=\"274\">378.20</span></td><td class=\"Py(10px) Pstart(10px)\" data-reactid=\"275\"><span data-reactid=\"276\">372.99</span></td><td class=\"Py(10px) Pstart(10px)\" data-reactid=\"277\"><span data-reactid=\"278\">373.01</span></td><td class=\"Py(10px) Pstart(10px)\" data-reactid=\"279\"><span data-reactid=\"280\">372.34</span></td><td class=\"Py(10px) Pstart(10px)\" data-reactid=\"281\"><span data-reactid=\"282\">25,906,400</span></td></tr><tr class=\"BdT Bdc($seperatorColor) Ta(end) Fz(s) Whs(nw)\" data-reactid=\"283\"><td class=\"Py(10px) Ta(start) Pend(10px)\" data-reactid=\"284\"><span data-reactid=\"285\">Jul 27, 2020</span></td><td class=\"Py(10px) Pstart(10px)\" data-reactid=\"286\"><span data-reactid=\"287\">374.84</span></td><td class=\"Py(10px) Pstart(10px)\" data-reactid=\"288\"><span data-reactid=\"289\">379.62</span></td><td class=\"Py(10px) Pstart(10px)\" data-reactid=\"290\"><span data-reactid=\"291\">373.92</span></td><td class=\"Py(10px) Pstart(10px)\" data-reactid=\"292\"><span data-reactid=\"293\">379.24</span></td><td class=\"Py(10px) Pstart(10px)\" data-reactid=\"294\"><span data-reactid=\"295\">378.56</span></td><td class=\"Py(10px) Pstart(10px)\" data-reactid=\"296\"><span data-reactid=\"297\">30,303,500</span></td></tr><tr class=\"BdT Bdc($seperatorColor) Ta(end) Fz(s) Whs(nw)\" data-reactid=\"298\"><td class=\"Py(10px) Ta(start) Pend(10px)\" data-reactid=\"299\"><span data-reactid=\"300\">Jul 24, 2020</span></td><td class=\"Py(10px) Pstart(10px)\" data-reactid=\"301\"><span data-reactid=\"302\">363.95</span></td><td class=\"Py(10px) Pstart(10px)\" data-reactid=\"303\"><span data-reactid=\"304\">371.88</span></td><td class=\"Py(10px) Pstart(10px)\" data-reactid=\"305\"><span data-reactid=\"306\">356.58</span></td><td class=\"Py(10px) Pstart(10px)\" data-reactid=\"307\"><span data-reactid=\"308\">370.46</span></td><td class=\"Py(10px) Pstart(10px)\" data-reactid=\"309\"><span data-reactid=\"310\">369.79</span></td><td class=\"Py(10px) Pstart(10px)\" data-reactid=\"311\"><span data-reactid=\"312\">46,359,700</span></td></tr><tr class=\"BdT Bdc($seperatorColor) Ta(end) Fz(s) Whs(nw)\" data-reactid=\"313\"><td class=\"Py(10px) Ta(start) Pend(10px)\" data-reactid=\"314\"><span data-reactid=\"315\">Jul 23, 2020</span></td><td class=\"Py(10px) Pstart(10px)\" data-reactid=\"316\"><span data-reactid=\"317\">387.99</span></td><td class=\"Py(10px) Pstart(10px)\" data-reactid=\"318\"><span data-reactid=\"319\">388.31</span></td><td class=\"Py(10px) Pstart(10px)\" data-reactid=\"320\"><span data-reactid=\"321\">368.04</span></td><td class=\"Py(10px) Pstart(10px)\" data-reactid=\"322\"><span data-reactid=\"323\">371.38</span></td><td class=\"Py(10px) Pstart(10px)\" data-reactid=\"324\"><span data-reactid=\"325\">370.71</span></td><td class=\"Py(10px) Pstart(10px)\" data-reactid=\"326\"><span data-reactid=\"327\">49,251,100</span></td></tr><tr class=\"BdT Bdc($seperatorColor) Ta(end) Fz(s) Whs(nw)\" data-reactid=\"328\"><td class=\"Py(10px) Ta(start) Pend(10px)\" data-reactid=\"329\"><span data-reactid=\"330\">Jul 22, 2020</span></td><td class=\"Py(10px) Pstart(10px)\" data-reactid=\"331\"><span data-reactid=\"332\">386.77</span></td><td class=\"Py(10px) Pstart(10px)\" data-reactid=\"333\"><span data-reactid=\"334\">391.90</span></td><td class=\"Py(10px) Pstart(10px)\" data-reactid=\"335\"><span data-reactid=\"336\">386.41</span></td><td class=\"Py(10px) Pstart(10px)\" data-reactid=\"337\"><span data-reactid=\"338\">389.09</span></td><td class=\"Py(10px) Pstart(10px)\" data-reactid=\"339\"><span data-reactid=\"340\">388.39</span></td><td class=\"Py(10px) Pstart(10px)\" data-reactid=\"341\"><span data-reactid=\"342\">22,250,400</span></td></tr><tr class=\"BdT Bdc($seperatorColor) Ta(end) Fz(s) Whs(nw)\" data-reactid=\"343\"><td class=\"Py(10px) Ta(start) Pend(10px)\" data-reactid=\"344\"><span data-reactid=\"345\">Jul 21, 2020</span></td><td class=\"Py(10px) Pstart(10px)\" data-reactid=\"346\"><span data-reactid=\"347\">396.69</span></td><td class=\"Py(10px) Pstart(10px)\" data-reactid=\"348\"><span data-reactid=\"349\">397.00</span></td><td class=\"Py(10px) Pstart(10px)\" data-reactid=\"350\"><span data-reactid=\"351\">386.97</span></td><td class=\"Py(10px) Pstart(10px)\" data-reactid=\"352\"><span data-reactid=\"353\">388.00</span></td><td class=\"Py(10px) Pstart(10px)\" data-reactid=\"354\"><span data-reactid=\"355\">387.30</span></td><td class=\"Py(10px) Pstart(10px)\" data-reactid=\"356\"><span data-reactid=\"357\">25,911,500</span></td></tr><tr class=\"BdT Bdc($seperatorColor) Ta(end) Fz(s) Whs(nw)\" data-reactid=\"358\"><td class=\"Py(10px) Ta(start) Pend(10px)\" data-reactid=\"359\"><span data-reactid=\"360\">Jul 20, 2020</span></td><td class=\"Py(10px) Pstart(10px)\" data-reactid=\"361\"><span data-reactid=\"362\">385.67</span></td><td class=\"Py(10px) Pstart(10px)\" data-reactid=\"363\"><span data-reactid=\"364\">394.00</span></td><td class=\"Py(10px) Pstart(10px)\" data-reactid=\"365\"><span data-reactid=\"366\">384.25</span></td><td class=\"Py(10px) Pstart(10px)\" data-reactid=\"367\"><span data-reactid=\"368\">393.43</span></td><td class=\"Py(10px) Pstart(10px)\" data-reactid=\"369\"><span data-reactid=\"370\">392.72</span></td><td class=\"Py(10px) Pstart(10px)\" data-reactid=\"371\"><span data-reactid=\"372\">22,579,500</span></td></tr><tr class=\"BdT Bdc($seperatorColor) Ta(end) Fz(s) Whs(nw)\" data-reactid=\"373\"><td class=\"Py(10px) Ta(start) Pend(10px)\" data-reactid=\"374\"><span data-reactid=\"375\">Jul 17, 2020</span></td><td class=\"Py(10px) Pstart(10px)\" data-reactid=\"376\"><span data-reactid=\"377\">387.95</span></td><td class=\"Py(10px) Pstart(10px)\" data-reactid=\"378\"><span data-reactid=\"379\">388.59</span></td><td class=\"Py(10px) Pstart(10px)\" data-reactid=\"380\"><span data-reactid=\"381\">383.36</span></td><td class=\"Py(10px) Pstart(10px)\" data-reactid=\"382\"><span data-reactid=\"383\">385.31</span></td><td class=\"Py(10px) Pstart(10px)\" data-reactid=\"384\"><span data-reactid=\"385\">384.62</span></td><td class=\"Py(10px) Pstart(10px)\" data-reactid=\"386\"><span data-reactid=\"387\">23,046,700</span></td></tr><tr class=\"BdT Bdc($seperatorColor) Ta(end) Fz(s) Whs(nw)\" data-reactid=\"388\"><td class=\"Py(10px) Ta(start) Pend(10px)\" data-reactid=\"389\"><span data-reactid=\"390\">Jul 16, 2020</span></td><td class=\"Py(10px) Pstart(10px)\" data-reactid=\"391\"><span data-reactid=\"392\">386.25</span></td><td class=\"Py(10px) Pstart(10px)\" data-reactid=\"393\"><span data-reactid=\"394\">389.62</span></td><td class=\"Py(10px) Pstart(10px)\" data-reactid=\"395\"><span data-reactid=\"396\">383.62</span></td><td class=\"Py(10px) Pstart(10px)\" data-reactid=\"397\"><span data-reactid=\"398\">386.09</span></td><td class=\"Py(10px) Pstart(10px)\" data-reactid=\"399\"><span data-reactid=\"400\">385.40</span></td><td class=\"Py(10px) Pstart(10px)\" data-reactid=\"401\"><span data-reactid=\"402\">27,644,400</span></td></tr><tr class=\"BdT Bdc($seperatorColor) Ta(end) Fz(s) Whs(nw)\" data-reactid=\"403\"><td class=\"Py(10px) Ta(start) Pend(10px)\" data-reactid=\"404\"><span data-reactid=\"405\">Jul 15, 2020</span></td><td class=\"Py(10px) Pstart(10px)\" data-reactid=\"406\"><span data-reactid=\"407\">395.96</span></td><td class=\"Py(10px) Pstart(10px)\" data-reactid=\"408\"><span data-reactid=\"409\">396.99</span></td><td class=\"Py(10px) Pstart(10px)\" data-reactid=\"410\"><span data-reactid=\"411\">385.96</span></td><td class=\"Py(10px) Pstart(10px)\" data-reactid=\"412\"><span data-reactid=\"413\">390.90</span></td><td class=\"Py(10px) Pstart(10px)\" data-reactid=\"414\"><span data-reactid=\"415\">390.20</span></td><td class=\"Py(10px) Pstart(10px)\" data-reactid=\"416\"><span data-reactid=\"417\">38,299,500</span></td></tr><tr class=\"BdT Bdc($seperatorColor) Ta(end) Fz(s) Whs(nw)\" data-reactid=\"418\"><td class=\"Py(10px) Ta(start) Pend(10px)\" data-reactid=\"419\"><span data-reactid=\"420\">Jul 14, 2020</span></td><td class=\"Py(10px) Pstart(10px)\" data-reactid=\"421\"><span data-reactid=\"422\">379.36</span></td><td class=\"Py(10px) Pstart(10px)\" data-reactid=\"423\"><span data-reactid=\"424\">389.02</span></td><td class=\"Py(10px) Pstart(10px)\" data-reactid=\"425\"><span data-reactid=\"426\">375.51</span></td><td class=\"Py(10px) Pstart(10px)\" data-reactid=\"427\"><span data-reactid=\"428\">388.23</span></td><td class=\"Py(10px) Pstart(10px)\" data-reactid=\"429\"><span data-reactid=\"430\">387.53</span></td><td class=\"Py(10px) Pstart(10px)\" data-reactid=\"431\"><span data-reactid=\"432\">42,747,300</span></td></tr><tr class=\"BdT Bdc($seperatorColor) Ta(end) Fz(s) Whs(nw)\" data-reactid=\"433\"><td class=\"Py(10px) Ta(start) Pend(10px)\" data-reactid=\"434\"><span data-reactid=\"435\">Jul 13, 2020</span></td><td class=\"Py(10px) Pstart(10px)\" data-reactid=\"436\"><span data-reactid=\"437\">389.06</span></td><td class=\"Py(10px) Pstart(10px)\" data-reactid=\"438\"><span data-reactid=\"439\">399.82</span></td><td class=\"Py(10px) Pstart(10px)\" data-reactid=\"440\"><span data-reactid=\"441\">381.03</span></td><td class=\"Py(10px) Pstart(10px)\" data-reactid=\"442\"><span data-reactid=\"443\">381.91</span></td><td class=\"Py(10px) Pstart(10px)\" data-reactid=\"444\"><span data-reactid=\"445\">381.22</span></td><td class=\"Py(10px) Pstart(10px)\" data-reactid=\"446\"><span data-reactid=\"447\">47,912,300</span></td></tr><tr class=\"BdT Bdc($seperatorColor) Ta(end) Fz(s) Whs(nw)\" data-reactid=\"448\"><td class=\"Py(10px) Ta(start) Pend(10px)\" data-reactid=\"449\"><span data-reactid=\"450\">Jul 10, 2020</span></td><td class=\"Py(10px) Pstart(10px)\" data-reactid=\"451\"><span data-reactid=\"452\">381.34</span></td><td class=\"Py(10px) Pstart(10px)\" data-reactid=\"453\"><span data-reactid=\"454\">383.92</span></td><td class=\"Py(10px) Pstart(10px)\" data-reactid=\"455\"><span data-reactid=\"456\">378.82</span></td><td class=\"Py(10px) Pstart(10px)\" data-reactid=\"457\"><span data-reactid=\"458\">383.68</span></td><td class=\"Py(10px) Pstart(10px)\" data-reactid=\"459\"><span data-reactid=\"460\">382.99</span></td><td class=\"Py(10px) Pstart(10px)\" data-reactid=\"461\"><span data-reactid=\"462\">22,564,300</span></td></tr><tr class=\"BdT Bdc($seperatorColor) Ta(end) Fz(s) Whs(nw)\" data-reactid=\"463\"><td class=\"Py(10px) Ta(start) Pend(10px)\" data-reactid=\"464\"><span data-reactid=\"465\">Jul 09, 2020</span></td><td class=\"Py(10px) Pstart(10px)\" data-reactid=\"466\"><span data-reactid=\"467\">385.05</span></td><td class=\"Py(10px) Pstart(10px)\" data-reactid=\"468\"><span data-reactid=\"469\">385.27</span></td><td class=\"Py(10px) Pstart(10px)\" data-reactid=\"470\"><span data-reactid=\"471\">378.69</span></td><td class=\"Py(10px) Pstart(10px)\" data-reactid=\"472\"><span data-reactid=\"473\">383.01</span></td><td class=\"Py(10px) Pstart(10px)\" data-reactid=\"474\"><span data-reactid=\"475\">382.32</span></td><td class=\"Py(10px) Pstart(10px)\" data-reactid=\"476\"><span data-reactid=\"477\">31,410,700</span></td></tr><tr class=\"BdT Bdc($seperatorColor) Ta(end) Fz(s) Whs(nw)\" data-reactid=\"478\"><td class=\"Py(10px) Ta(start) Pend(10px)\" data-reactid=\"479\"><span data-reactid=\"480\">Jul 08, 2020</span></td><td class=\"Py(10px) Pstart(10px)\" data-reactid=\"481\"><span data-reactid=\"482\">376.72</span></td><td class=\"Py(10px) Pstart(10px)\" data-reactid=\"483\"><span data-reactid=\"484\">381.50</span></td><td class=\"Py(10px) Pstart(10px)\" data-reactid=\"485\"><span data-reactid=\"486\">376.36</span></td><td class=\"Py(10px) Pstart(10px)\" data-reactid=\"487\"><span data-reactid=\"488\">381.37</span></td><td class=\"Py(10px) Pstart(10px)\" data-reactid=\"489\"><span data-reactid=\"490\">380.68</span></td><td class=\"Py(10px) Pstart(10px)\" data-reactid=\"491\"><span data-reactid=\"492\">29,273,000</span></td></tr><tr class=\"BdT Bdc($seperatorColor) Ta(end) Fz(s) Whs(nw)\" data-reactid=\"493\"><td class=\"Py(10px) Ta(start) Pend(10px)\" data-reactid=\"494\"><span data-reactid=\"495\">Jul 07, 2020</span></td><td class=\"Py(10px) Pstart(10px)\" data-reactid=\"496\"><span data-reactid=\"497\">375.41</span></td><td class=\"Py(10px) Pstart(10px)\" data-reactid=\"498\"><span data-reactid=\"499\">378.62</span></td><td class=\"Py(10px) Pstart(10px)\" data-reactid=\"500\"><span data-reactid=\"501\">372.23</span></td><td class=\"Py(10px) Pstart(10px)\" data-reactid=\"502\"><span data-reactid=\"503\">372.69</span></td><td class=\"Py(10px) Pstart(10px)\" data-reactid=\"504\"><span data-reactid=\"505\">372.02</span></td><td class=\"Py(10px) Pstart(10px)\" data-reactid=\"506\"><span data-reactid=\"507\">28,106,100</span></td></tr><tr class=\"BdT Bdc($seperatorColor) Ta(end) Fz(s) Whs(nw)\" data-reactid=\"508\"><td class=\"Py(10px) Ta(start) Pend(10px)\" data-reactid=\"509\"><span data-reactid=\"510\">Jul 06, 2020</span></td><td class=\"Py(10px) Pstart(10px)\" data-reactid=\"511\"><span data-reactid=\"512\">370.00</span></td><td class=\"Py(10px) Pstart(10px)\" data-reactid=\"513\"><span data-reactid=\"514\">375.78</span></td><td class=\"Py(10px) Pstart(10px)\" data-reactid=\"515\"><span data-reactid=\"516\">369.87</span></td><td class=\"Py(10px) Pstart(10px)\" data-reactid=\"517\"><span data-reactid=\"518\">373.85</span></td><td class=\"Py(10px) Pstart(10px)\" data-reactid=\"519\"><span data-reactid=\"520\">373.18</span></td><td class=\"Py(10px) Pstart(10px)\" data-reactid=\"521\"><span data-reactid=\"522\">29,663,900</span></td></tr><tr class=\"BdT Bdc($seperatorColor) Ta(end) Fz(s) Whs(nw)\" data-reactid=\"523\"><td class=\"Py(10px) Ta(start) Pend(10px)\" data-reactid=\"524\"><span data-reactid=\"525\">Jul 02, 2020</span></td><td class=\"Py(10px) Pstart(10px)\" data-reactid=\"526\"><span data-reactid=\"527\">367.85</span></td><td class=\"Py(10px) Pstart(10px)\" data-reactid=\"528\"><span data-reactid=\"529\">370.47</span></td><td class=\"Py(10px) Pstart(10px)\" data-reactid=\"530\"><span data-reactid=\"531\">363.64</span></td><td class=\"Py(10px) Pstart(10px)\" data-reactid=\"532\"><span data-reactid=\"533\">364.11</span></td><td class=\"Py(10px) Pstart(10px)\" data-reactid=\"534\"><span data-reactid=\"535\">363.45</span></td><td class=\"Py(10px) Pstart(10px)\" data-reactid=\"536\"><span data-reactid=\"537\">28,510,400</span></td></tr><tr class=\"BdT Bdc($seperatorColor) Ta(end) Fz(s) Whs(nw)\" data-reactid=\"538\"><td class=\"Py(10px) Ta(start) Pend(10px)\" data-reactid=\"539\"><span data-reactid=\"540\">Jul 01, 2020</span></td><td class=\"Py(10px) Pstart(10px)\" data-reactid=\"541\"><span data-reactid=\"542\">365.12</span></td><td class=\"Py(10px) Pstart(10px)\" data-reactid=\"543\"><span data-reactid=\"544\">367.36</span></td><td class=\"Py(10px) Pstart(10px)\" data-reactid=\"545\"><span data-reactid=\"546\">363.91</span></td><td class=\"Py(10px) Pstart(10px)\" data-reactid=\"547\"><span data-reactid=\"548\">364.11</span></td><td class=\"Py(10px) Pstart(10px)\" data-reactid=\"549\"><span data-reactid=\"550\">363.45</span></td><td class=\"Py(10px) Pstart(10px)\" data-reactid=\"551\"><span data-reactid=\"552\">27,684,300</span></td></tr><tr class=\"BdT Bdc($seperatorColor) Ta(end) Fz(s) Whs(nw)\" data-reactid=\"553\"><td class=\"Py(10px) Ta(start) Pend(10px)\" data-reactid=\"554\"><span data-reactid=\"555\">Jun 30, 2020</span></td><td class=\"Py(10px) Pstart(10px)\" data-reactid=\"556\"><span data-reactid=\"557\">360.08</span></td><td class=\"Py(10px) Pstart(10px)\" data-reactid=\"558\"><span data-reactid=\"559\">365.98</span></td><td class=\"Py(10px) Pstart(10px)\" data-reactid=\"560\"><span data-reactid=\"561\">360.00</span></td><td class=\"Py(10px) Pstart(10px)\" data-reactid=\"562\"><span data-reactid=\"563\">364.80</span></td><td class=\"Py(10px) Pstart(10px)\" data-reactid=\"564\"><span data-reactid=\"565\">364.14</span></td><td class=\"Py(10px) Pstart(10px)\" data-reactid=\"566\"><span data-reactid=\"567\">35,055,800</span></td></tr><tr class=\"BdT Bdc($seperatorColor) Ta(end) Fz(s) Whs(nw)\" data-reactid=\"568\"><td class=\"Py(10px) Ta(start) Pend(10px)\" data-reactid=\"569\"><span data-reactid=\"570\">Jun 29, 2020</span></td><td class=\"Py(10px) Pstart(10px)\" data-reactid=\"571\"><span data-reactid=\"572\">353.25</span></td><td class=\"Py(10px) Pstart(10px)\" data-reactid=\"573\"><span data-reactid=\"574\">362.17</span></td><td class=\"Py(10px) Pstart(10px)\" data-reactid=\"575\"><span data-reactid=\"576\">351.28</span></td><td class=\"Py(10px) Pstart(10px)\" data-reactid=\"577\"><span data-reactid=\"578\">361.78</span></td><td class=\"Py(10px) Pstart(10px)\" data-reactid=\"579\"><span data-reactid=\"580\">361.13</span></td><td class=\"Py(10px) Pstart(10px)\" data-reactid=\"581\"><span data-reactid=\"582\">32,661,500</span></td></tr><tr class=\"BdT Bdc($seperatorColor) Ta(end) Fz(s) Whs(nw)\" data-reactid=\"583\"><td class=\"Py(10px) Ta(start) Pend(10px)\" data-reactid=\"584\"><span data-reactid=\"585\">Jun 26, 2020</span></td><td class=\"Py(10px) Pstart(10px)\" data-reactid=\"586\"><span data-reactid=\"587\">364.41</span></td><td class=\"Py(10px) Pstart(10px)\" data-reactid=\"588\"><span data-reactid=\"589\">365.32</span></td><td class=\"Py(10px) Pstart(10px)\" data-reactid=\"590\"><span data-reactid=\"591\">353.02</span></td><td class=\"Py(10px) Pstart(10px)\" data-reactid=\"592\"><span data-reactid=\"593\">353.63</span></td><td class=\"Py(10px) Pstart(10px)\" data-reactid=\"594\"><span data-reactid=\"595\">352.99</span></td><td class=\"Py(10px) Pstart(10px)\" data-reactid=\"596\"><span data-reactid=\"597\">51,314,200</span></td></tr><tr class=\"BdT Bdc($seperatorColor) Ta(end) Fz(s) Whs(nw)\" data-reactid=\"598\"><td class=\"Py(10px) Ta(start) Pend(10px)\" data-reactid=\"599\"><span data-reactid=\"600\">Jun 25, 2020</span></td><td class=\"Py(10px) Pstart(10px)\" data-reactid=\"601\"><span data-reactid=\"602\">360.70</span></td><td class=\"Py(10px) Pstart(10px)\" data-reactid=\"603\"><span data-reactid=\"604\">365.00</span></td><td class=\"Py(10px) Pstart(10px)\" data-reactid=\"605\"><span data-reactid=\"606\">357.57</span></td><td class=\"Py(10px) Pstart(10px)\" data-reactid=\"607\"><span data-reactid=\"608\">364.84</span></td><td class=\"Py(10px) Pstart(10px)\" data-reactid=\"609\"><span data-reactid=\"610\">364.18</span></td><td class=\"Py(10px) Pstart(10px)\" data-reactid=\"611\"><span data-reactid=\"612\">34,380,600</span></td></tr><tr class=\"BdT Bdc($seperatorColor) Ta(end) Fz(s) Whs(nw)\" data-reactid=\"613\"><td class=\"Py(10px) Ta(start) Pend(10px)\" data-reactid=\"614\"><span data-reactid=\"615\">Jun 24, 2020</span></td><td class=\"Py(10px) Pstart(10px)\" data-reactid=\"616\"><span data-reactid=\"617\">365.00</span></td><td class=\"Py(10px) Pstart(10px)\" data-reactid=\"618\"><span data-reactid=\"619\">368.79</span></td><td class=\"Py(10px) Pstart(10px)\" data-reactid=\"620\"><span data-reactid=\"621\">358.52</span></td><td class=\"Py(10px) Pstart(10px)\" data-reactid=\"622\"><span data-reactid=\"623\">360.06</span></td><td class=\"Py(10px) Pstart(10px)\" data-reactid=\"624\"><span data-reactid=\"625\">359.41</span></td><td class=\"Py(10px) Pstart(10px)\" data-reactid=\"626\"><span data-reactid=\"627\">48,155,800</span></td></tr><tr class=\"BdT Bdc($seperatorColor) Ta(end) Fz(s) Whs(nw)\" data-reactid=\"628\"><td class=\"Py(10px) Ta(start) Pend(10px)\" data-reactid=\"629\"><span data-reactid=\"630\">Jun 23, 2020</span></td><td class=\"Py(10px) Pstart(10px)\" data-reactid=\"631\"><span data-reactid=\"632\">364.00</span></td><td class=\"Py(10px) Pstart(10px)\" data-reactid=\"633\"><span data-reactid=\"634\">372.38</span></td><td class=\"Py(10px) Pstart(10px)\" data-reactid=\"635\"><span data-reactid=\"636\">362.27</span></td><td class=\"Py(10px) Pstart(10px)\" data-reactid=\"637\"><span data-reactid=\"638\">366.53</span></td><td class=\"Py(10px) Pstart(10px)\" data-reactid=\"639\"><span data-reactid=\"640\">365.87</span></td><td class=\"Py(10px) Pstart(10px)\" data-reactid=\"641\"><span data-reactid=\"642\">53,038,900</span></td></tr><tr class=\"BdT Bdc($seperatorColor) Ta(end) Fz(s) Whs(nw)\" data-reactid=\"643\"><td class=\"Py(10px) Ta(start) Pend(10px)\" data-reactid=\"644\"><span data-reactid=\"645\">Jun 22, 2020</span></td><td class=\"Py(10px) Pstart(10px)\" data-reactid=\"646\"><span data-reactid=\"647\">351.34</span></td><td class=\"Py(10px) Pstart(10px)\" data-reactid=\"648\"><span data-reactid=\"649\">359.46</span></td><td class=\"Py(10px) Pstart(10px)\" data-reactid=\"650\"><span data-reactid=\"651\">351.15</span></td><td class=\"Py(10px) Pstart(10px)\" data-reactid=\"652\"><span data-reactid=\"653\">358.87</span></td><td class=\"Py(10px) Pstart(10px)\" data-reactid=\"654\"><span data-reactid=\"655\">358.22</span></td><td class=\"Py(10px) Pstart(10px)\" data-reactid=\"656\"><span data-reactid=\"657\">33,861,300</span></td></tr><tr class=\"BdT Bdc($seperatorColor) Ta(end) Fz(s) Whs(nw)\" data-reactid=\"658\"><td class=\"Py(10px) Ta(start) Pend(10px)\" data-reactid=\"659\"><span data-reactid=\"660\">Jun 19, 2020</span></td><td class=\"Py(10px) Pstart(10px)\" data-reactid=\"661\"><span data-reactid=\"662\">354.64</span></td><td class=\"Py(10px) Pstart(10px)\" data-reactid=\"663\"><span data-reactid=\"664\">356.56</span></td><td class=\"Py(10px) Pstart(10px)\" data-reactid=\"665\"><span data-reactid=\"666\">345.15</span></td><td class=\"Py(10px) Pstart(10px)\" data-reactid=\"667\"><span data-reactid=\"668\">349.72</span></td><td class=\"Py(10px) Pstart(10px)\" data-reactid=\"669\"><span data-reactid=\"670\">349.09</span></td><td class=\"Py(10px) Pstart(10px)\" data-reactid=\"671\"><span data-reactid=\"672\">66,119,000</span></td></tr><tr class=\"BdT Bdc($seperatorColor) Ta(end) Fz(s) Whs(nw)\" data-reactid=\"673\"><td class=\"Py(10px) Ta(start) Pend(10px)\" data-reactid=\"674\"><span data-reactid=\"675\">Jun 18, 2020</span></td><td class=\"Py(10px) Pstart(10px)\" data-reactid=\"676\"><span data-reactid=\"677\">351.41</span></td><td class=\"Py(10px) Pstart(10px)\" data-reactid=\"678\"><span data-reactid=\"679\">353.45</span></td><td class=\"Py(10px) Pstart(10px)\" data-reactid=\"680\"><span data-reactid=\"681\">349.22</span></td><td class=\"Py(10px) Pstart(10px)\" data-reactid=\"682\"><span data-reactid=\"683\">351.73</span></td><td class=\"Py(10px) Pstart(10px)\" data-reactid=\"684\"><span data-reactid=\"685\">351.10</span></td><td class=\"Py(10px) Pstart(10px)\" data-reactid=\"686\"><span data-reactid=\"687\">24,205,100</span></td></tr><tr class=\"BdT Bdc($seperatorColor) Ta(end) Fz(s) Whs(nw)\" data-reactid=\"688\"><td class=\"Py(10px) Ta(start) Pend(10px)\" data-reactid=\"689\"><span data-reactid=\"690\">Jun 17, 2020</span></td><td class=\"Py(10px) Pstart(10px)\" data-reactid=\"691\"><span data-reactid=\"692\">355.15</span></td><td class=\"Py(10px) Pstart(10px)\" data-reactid=\"693\"><span data-reactid=\"694\">355.40</span></td><td class=\"Py(10px) Pstart(10px)\" data-reactid=\"695\"><span data-reactid=\"696\">351.09</span></td><td class=\"Py(10px) Pstart(10px)\" data-reactid=\"697\"><span data-reactid=\"698\">351.59</span></td><td class=\"Py(10px) Pstart(10px)\" data-reactid=\"699\"><span data-reactid=\"700\">350.96</span></td><td class=\"Py(10px) Pstart(10px)\" data-reactid=\"701\"><span data-reactid=\"702\">28,532,000</span></td></tr><tr class=\"BdT Bdc($seperatorColor) Ta(end) Fz(s) Whs(nw)\" data-reactid=\"703\"><td class=\"Py(10px) Ta(start) Pend(10px)\" data-reactid=\"704\"><span data-reactid=\"705\">Jun 16, 2020</span></td><td class=\"Py(10px) Pstart(10px)\" data-reactid=\"706\"><span data-reactid=\"707\">351.46</span></td><td class=\"Py(10px) Pstart(10px)\" data-reactid=\"708\"><span data-reactid=\"709\">353.20</span></td><td class=\"Py(10px) Pstart(10px)\" data-reactid=\"710\"><span data-reactid=\"711\">344.72</span></td><td class=\"Py(10px) Pstart(10px)\" data-reactid=\"712\"><span data-reactid=\"713\">352.08</span></td><td class=\"Py(10px) Pstart(10px)\" data-reactid=\"714\"><span data-reactid=\"715\">351.45</span></td><td class=\"Py(10px) Pstart(10px)\" data-reactid=\"716\"><span data-reactid=\"717\">41,357,200</span></td></tr><tr class=\"BdT Bdc($seperatorColor) Ta(end) Fz(s) Whs(nw)\" data-reactid=\"718\"><td class=\"Py(10px) Ta(start) Pend(10px)\" data-reactid=\"719\"><span data-reactid=\"720\">Jun 15, 2020</span></td><td class=\"Py(10px) Pstart(10px)\" data-reactid=\"721\"><span data-reactid=\"722\">333.25</span></td><td class=\"Py(10px) Pstart(10px)\" data-reactid=\"723\"><span data-reactid=\"724\">345.68</span></td><td class=\"Py(10px) Pstart(10px)\" data-reactid=\"725\"><span data-reactid=\"726\">332.58</span></td><td class=\"Py(10px) Pstart(10px)\" data-reactid=\"727\"><span data-reactid=\"728\">342.99</span></td><td class=\"Py(10px) Pstart(10px)\" data-reactid=\"729\"><span data-reactid=\"730\">342.37</span></td><td class=\"Py(10px) Pstart(10px)\" data-reactid=\"731\"><span data-reactid=\"732\">34,702,200</span></td></tr><tr class=\"BdT Bdc($seperatorColor) Ta(end) Fz(s) Whs(nw)\" data-reactid=\"733\"><td class=\"Py(10px) Ta(start) Pend(10px)\" data-reactid=\"734\"><span data-reactid=\"735\">Jun 12, 2020</span></td><td class=\"Py(10px) Pstart(10px)\" data-reactid=\"736\"><span data-reactid=\"737\">344.72</span></td><td class=\"Py(10px) Pstart(10px)\" data-reactid=\"738\"><span data-reactid=\"739\">347.80</span></td><td class=\"Py(10px) Pstart(10px)\" data-reactid=\"740\"><span data-reactid=\"741\">334.22</span></td><td class=\"Py(10px) Pstart(10px)\" data-reactid=\"742\"><span data-reactid=\"743\">338.80</span></td><td class=\"Py(10px) Pstart(10px)\" data-reactid=\"744\"><span data-reactid=\"745\">338.19</span></td><td class=\"Py(10px) Pstart(10px)\" data-reactid=\"746\"><span data-reactid=\"747\">50,001,500</span></td></tr><tr class=\"BdT Bdc($seperatorColor) Ta(end) Fz(s) Whs(nw)\" data-reactid=\"748\"><td class=\"Py(10px) Ta(start) Pend(10px)\" data-reactid=\"749\"><span data-reactid=\"750\">Jun 11, 2020</span></td><td class=\"Py(10px) Pstart(10px)\" data-reactid=\"751\"><span data-reactid=\"752\">349.31</span></td><td class=\"Py(10px) Pstart(10px)\" data-reactid=\"753\"><span data-reactid=\"754\">351.06</span></td><td class=\"Py(10px) Pstart(10px)\" data-reactid=\"755\"><span data-reactid=\"756\">335.48</span></td><td class=\"Py(10px) Pstart(10px)\" data-reactid=\"757\"><span data-reactid=\"758\">335.90</span></td><td class=\"Py(10px) Pstart(10px)\" data-reactid=\"759\"><span data-reactid=\"760\">335.30</span></td><td class=\"Py(10px) Pstart(10px)\" data-reactid=\"761\"><span data-reactid=\"762\">50,415,600</span></td></tr><tr class=\"BdT Bdc($seperatorColor) Ta(end) Fz(s) Whs(nw)\" data-reactid=\"763\"><td class=\"Py(10px) Ta(start) Pend(10px)\" data-reactid=\"764\"><span data-reactid=\"765\">Jun 10, 2020</span></td><td class=\"Py(10px) Pstart(10px)\" data-reactid=\"766\"><span data-reactid=\"767\">347.90</span></td><td class=\"Py(10px) Pstart(10px)\" data-reactid=\"768\"><span data-reactid=\"769\">354.77</span></td><td class=\"Py(10px) Pstart(10px)\" data-reactid=\"770\"><span data-reactid=\"771\">346.09</span></td><td class=\"Py(10px) Pstart(10px)\" data-reactid=\"772\"><span data-reactid=\"773\">352.84</span></td><td class=\"Py(10px) Pstart(10px)\" data-reactid=\"774\"><span data-reactid=\"775\">352.20</span></td><td class=\"Py(10px) Pstart(10px)\" data-reactid=\"776\"><span data-reactid=\"777\">41,662,900</span></td></tr><tr class=\"BdT Bdc($seperatorColor) Ta(end) Fz(s) Whs(nw)\" data-reactid=\"778\"><td class=\"Py(10px) Ta(start) Pend(10px)\" data-reactid=\"779\"><span data-reactid=\"780\">Jun 09, 2020</span></td><td class=\"Py(10px) Pstart(10px)\" data-reactid=\"781\"><span data-reactid=\"782\">332.14</span></td><td class=\"Py(10px) Pstart(10px)\" data-reactid=\"783\"><span data-reactid=\"784\">345.61</span></td><td class=\"Py(10px) Pstart(10px)\" data-reactid=\"785\"><span data-reactid=\"786\">332.01</span></td><td class=\"Py(10px) Pstart(10px)\" data-reactid=\"787\"><span data-reactid=\"788\">343.99</span></td><td class=\"Py(10px) Pstart(10px)\" data-reactid=\"789\"><span data-reactid=\"790\">343.37</span></td><td class=\"Py(10px) Pstart(10px)\" data-reactid=\"791\"><span data-reactid=\"792\">36,928,100</span></td></tr><tr class=\"BdT Bdc($seperatorColor) Ta(end) Fz(s) Whs(nw)\" data-reactid=\"793\"><td class=\"Py(10px) Ta(start) Pend(10px)\" data-reactid=\"794\"><span data-reactid=\"795\">Jun 08, 2020</span></td><td class=\"Py(10px) Pstart(10px)\" data-reactid=\"796\"><span data-reactid=\"797\">330.25</span></td><td class=\"Py(10px) Pstart(10px)\" data-reactid=\"798\"><span data-reactid=\"799\">333.60</span></td><td class=\"Py(10px) Pstart(10px)\" data-reactid=\"800\"><span data-reactid=\"801\">327.32</span></td><td class=\"Py(10px) Pstart(10px)\" data-reactid=\"802\"><span data-reactid=\"803\">333.46</span></td><td class=\"Py(10px) Pstart(10px)\" data-reactid=\"804\"><span data-reactid=\"805\">332.86</span></td><td class=\"Py(10px) Pstart(10px)\" data-reactid=\"806\"><span data-reactid=\"807\">23,913,600</span></td></tr><tr class=\"BdT Bdc($seperatorColor) Ta(end) Fz(s) Whs(nw)\" data-reactid=\"808\"><td class=\"Py(10px) Ta(start) Pend(10px)\" data-reactid=\"809\"><span data-reactid=\"810\">Jun 05, 2020</span></td><td class=\"Py(10px) Pstart(10px)\" data-reactid=\"811\"><span data-reactid=\"812\">323.35</span></td><td class=\"Py(10px) Pstart(10px)\" data-reactid=\"813\"><span data-reactid=\"814\">331.75</span></td><td class=\"Py(10px) Pstart(10px)\" data-reactid=\"815\"><span data-reactid=\"816\">323.23</span></td><td class=\"Py(10px) Pstart(10px)\" data-reactid=\"817\"><span data-reactid=\"818\">331.50</span></td><td class=\"Py(10px) Pstart(10px)\" data-reactid=\"819\"><span data-reactid=\"820\">330.90</span></td><td class=\"Py(10px) Pstart(10px)\" data-reactid=\"821\"><span data-reactid=\"822\">34,312,600</span></td></tr><tr class=\"BdT Bdc($seperatorColor) Ta(end) Fz(s) Whs(nw)\" data-reactid=\"823\"><td class=\"Py(10px) Ta(start) Pend(10px)\" data-reactid=\"824\"><span data-reactid=\"825\">Jun 04, 2020</span></td><td class=\"Py(10px) Pstart(10px)\" data-reactid=\"826\"><span data-reactid=\"827\">324.39</span></td><td class=\"Py(10px) Pstart(10px)\" data-reactid=\"828\"><span data-reactid=\"829\">325.62</span></td><td class=\"Py(10px) Pstart(10px)\" data-reactid=\"830\"><span data-reactid=\"831\">320.78</span></td><td class=\"Py(10px) Pstart(10px)\" data-reactid=\"832\"><span data-reactid=\"833\">322.32</span></td><td class=\"Py(10px) Pstart(10px)\" data-reactid=\"834\"><span data-reactid=\"835\">321.74</span></td><td class=\"Py(10px) Pstart(10px)\" data-reactid=\"836\"><span data-reactid=\"837\">21,890,100</span></td></tr><tr class=\"BdT Bdc($seperatorColor) Ta(end) Fz(s) Whs(nw)\" data-reactid=\"838\"><td class=\"Py(10px) Ta(start) Pend(10px)\" data-reactid=\"839\"><span data-reactid=\"840\">Jun 03, 2020</span></td><td class=\"Py(10px) Pstart(10px)\" data-reactid=\"841\"><span data-reactid=\"842\">324.66</span></td><td class=\"Py(10px) Pstart(10px)\" data-reactid=\"843\"><span data-reactid=\"844\">326.20</span></td><td class=\"Py(10px) Pstart(10px)\" data-reactid=\"845\"><span data-reactid=\"846\">322.30</span></td><td class=\"Py(10px) Pstart(10px)\" data-reactid=\"847\"><span data-reactid=\"848\">325.12</span></td><td class=\"Py(10px) Pstart(10px)\" data-reactid=\"849\"><span data-reactid=\"850\">324.53</span></td><td class=\"Py(10px) Pstart(10px)\" data-reactid=\"851\"><span data-reactid=\"852\">26,122,800</span></td></tr><tr class=\"BdT Bdc($seperatorColor) Ta(end) Fz(s) Whs(nw)\" data-reactid=\"853\"><td class=\"Py(10px) Ta(start) Pend(10px)\" data-reactid=\"854\"><span data-reactid=\"855\">Jun 02, 2020</span></td><td class=\"Py(10px) Pstart(10px)\" data-reactid=\"856\"><span data-reactid=\"857\">320.75</span></td><td class=\"Py(10px) Pstart(10px)\" data-reactid=\"858\"><span data-reactid=\"859\">323.44</span></td><td class=\"Py(10px) Pstart(10px)\" data-reactid=\"860\"><span data-reactid=\"861\">318.93</span></td><td class=\"Py(10px) Pstart(10px)\" data-reactid=\"862\"><span data-reactid=\"863\">323.34</span></td><td class=\"Py(10px) Pstart(10px)\" data-reactid=\"864\"><span data-reactid=\"865\">322.76</span></td><td class=\"Py(10px) Pstart(10px)\" data-reactid=\"866\"><span data-reactid=\"867\">21,910,700</span></td></tr><tr class=\"BdT Bdc($seperatorColor) Ta(end) Fz(s) Whs(nw)\" data-reactid=\"868\"><td class=\"Py(10px) Ta(start) Pend(10px)\" data-reactid=\"869\"><span data-reactid=\"870\">Jun 01, 2020</span></td><td class=\"Py(10px) Pstart(10px)\" data-reactid=\"871\"><span data-reactid=\"872\">317.75</span></td><td class=\"Py(10px) Pstart(10px)\" data-reactid=\"873\"><span data-reactid=\"874\">322.35</span></td><td class=\"Py(10px) Pstart(10px)\" data-reactid=\"875\"><span data-reactid=\"876\">317.21</span></td><td class=\"Py(10px) Pstart(10px)\" data-reactid=\"877\"><span data-reactid=\"878\">321.85</span></td><td class=\"Py(10px) Pstart(10px)\" data-reactid=\"879\"><span data-reactid=\"880\">321.27</span></td><td class=\"Py(10px) Pstart(10px)\" data-reactid=\"881\"><span data-reactid=\"882\">20,197,800</span></td></tr><tr class=\"BdT Bdc($seperatorColor) Ta(end) Fz(s) Whs(nw)\" data-reactid=\"883\"><td class=\"Py(10px) Ta(start) Pend(10px)\" data-reactid=\"884\"><span data-reactid=\"885\">May 29, 2020</span></td><td class=\"Py(10px) Pstart(10px)\" data-reactid=\"886\"><span data-reactid=\"887\">319.25</span></td><td class=\"Py(10px) Pstart(10px)\" data-reactid=\"888\"><span data-reactid=\"889\">321.15</span></td><td class=\"Py(10px) Pstart(10px)\" data-reactid=\"890\"><span data-reactid=\"891\">316.47</span></td><td class=\"Py(10px) Pstart(10px)\" data-reactid=\"892\"><span data-reactid=\"893\">317.94</span></td><td class=\"Py(10px) Pstart(10px)\" data-reactid=\"894\"><span data-reactid=\"895\">317.37</span></td><td class=\"Py(10px) Pstart(10px)\" data-reactid=\"896\"><span data-reactid=\"897\">38,399,500</span></td></tr><tr class=\"BdT Bdc($seperatorColor) Ta(end) Fz(s) Whs(nw)\" data-reactid=\"898\"><td class=\"Py(10px) Ta(start) Pend(10px)\" data-reactid=\"899\"><span data-reactid=\"900\">May 28, 2020</span></td><td class=\"Py(10px) Pstart(10px)\" data-reactid=\"901\"><span data-reactid=\"902\">316.77</span></td><td class=\"Py(10px) Pstart(10px)\" data-reactid=\"903\"><span data-reactid=\"904\">323.44</span></td><td class=\"Py(10px) Pstart(10px)\" data-reactid=\"905\"><span data-reactid=\"906\">315.63</span></td><td class=\"Py(10px) Pstart(10px)\" data-reactid=\"907\"><span data-reactid=\"908\">318.25</span></td><td class=\"Py(10px) Pstart(10px)\" data-reactid=\"909\"><span data-reactid=\"910\">317.68</span></td><td class=\"Py(10px) Pstart(10px)\" data-reactid=\"911\"><span data-reactid=\"912\">33,390,200</span></td></tr><tr class=\"BdT Bdc($seperatorColor) Ta(end) Fz(s) Whs(nw)\" data-reactid=\"913\"><td class=\"Py(10px) Ta(start) Pend(10px)\" data-reactid=\"914\"><span data-reactid=\"915\">May 27, 2020</span></td><td class=\"Py(10px) Pstart(10px)\" data-reactid=\"916\"><span data-reactid=\"917\">316.14</span></td><td class=\"Py(10px) Pstart(10px)\" data-reactid=\"918\"><span data-reactid=\"919\">318.71</span></td><td class=\"Py(10px) Pstart(10px)\" data-reactid=\"920\"><span data-reactid=\"921\">313.09</span></td><td class=\"Py(10px) Pstart(10px)\" data-reactid=\"922\"><span data-reactid=\"923\">318.11</span></td><td class=\"Py(10px) Pstart(10px)\" data-reactid=\"924\"><span data-reactid=\"925\">317.54</span></td><td class=\"Py(10px) Pstart(10px)\" data-reactid=\"926\"><span data-reactid=\"927\">28,236,300</span></td></tr><tr class=\"BdT Bdc($seperatorColor) Ta(end) Fz(s) Whs(nw)\" data-reactid=\"928\"><td class=\"Py(10px) Ta(start) Pend(10px)\" data-reactid=\"929\"><span data-reactid=\"930\">May 26, 2020</span></td><td class=\"Py(10px) Pstart(10px)\" data-reactid=\"931\"><span data-reactid=\"932\">323.50</span></td><td class=\"Py(10px) Pstart(10px)\" data-reactid=\"933\"><span data-reactid=\"934\">324.24</span></td><td class=\"Py(10px) Pstart(10px)\" data-reactid=\"935\"><span data-reactid=\"936\">316.50</span></td><td class=\"Py(10px) Pstart(10px)\" data-reactid=\"937\"><span data-reactid=\"938\">316.73</span></td><td class=\"Py(10px) Pstart(10px)\" data-reactid=\"939\"><span data-reactid=\"940\">316.16</span></td><td class=\"Py(10px) Pstart(10px)\" data-reactid=\"941\"><span data-reactid=\"942\">31,380,500</span></td></tr><tr class=\"BdT Bdc($seperatorColor) Ta(end) Fz(s) Whs(nw)\" data-reactid=\"943\"><td class=\"Py(10px) Ta(start) Pend(10px)\" data-reactid=\"944\"><span data-reactid=\"945\">May 22, 2020</span></td><td class=\"Py(10px) Pstart(10px)\" data-reactid=\"946\"><span data-reactid=\"947\">315.77</span></td><td class=\"Py(10px) Pstart(10px)\" data-reactid=\"948\"><span data-reactid=\"949\">319.23</span></td><td class=\"Py(10px) Pstart(10px)\" data-reactid=\"950\"><span data-reactid=\"951\">315.35</span></td><td class=\"Py(10px) Pstart(10px)\" data-reactid=\"952\"><span data-reactid=\"953\">318.89</span></td><td class=\"Py(10px) Pstart(10px)\" data-reactid=\"954\"><span data-reactid=\"955\">318.32</span></td><td class=\"Py(10px) Pstart(10px)\" data-reactid=\"956\"><span data-reactid=\"957\">20,450,800</span></td></tr><tr class=\"BdT Bdc($seperatorColor) Ta(end) Fz(s) Whs(nw)\" data-reactid=\"958\"><td class=\"Py(10px) Ta(start) Pend(10px)\" data-reactid=\"959\"><span data-reactid=\"960\">May 21, 2020</span></td><td class=\"Py(10px) Pstart(10px)\" data-reactid=\"961\"><span data-reactid=\"962\">318.66</span></td><td class=\"Py(10px) Pstart(10px)\" data-reactid=\"963\"><span data-reactid=\"964\">320.89</span></td><td class=\"Py(10px) Pstart(10px)\" data-reactid=\"965\"><span data-reactid=\"966\">315.87</span></td><td class=\"Py(10px) Pstart(10px)\" data-reactid=\"967\"><span data-reactid=\"968\">316.85</span></td><td class=\"Py(10px) Pstart(10px)\" data-reactid=\"969\"><span data-reactid=\"970\">316.28</span></td><td class=\"Py(10px) Pstart(10px)\" data-reactid=\"971\"><span data-reactid=\"972\">25,672,200</span></td></tr><tr class=\"BdT Bdc($seperatorColor) Ta(end) Fz(s) Whs(nw)\" data-reactid=\"973\"><td class=\"Py(10px) Ta(start) Pend(10px)\" data-reactid=\"974\"><span data-reactid=\"975\">May 20, 2020</span></td><td class=\"Py(10px) Pstart(10px)\" data-reactid=\"976\"><span data-reactid=\"977\">316.68</span></td><td class=\"Py(10px) Pstart(10px)\" data-reactid=\"978\"><span data-reactid=\"979\">319.52</span></td><td class=\"Py(10px) Pstart(10px)\" data-reactid=\"980\"><span data-reactid=\"981\">316.52</span></td><td class=\"Py(10px) Pstart(10px)\" data-reactid=\"982\"><span data-reactid=\"983\">319.23</span></td><td class=\"Py(10px) Pstart(10px)\" data-reactid=\"984\"><span data-reactid=\"985\">318.66</span></td><td class=\"Py(10px) Pstart(10px)\" data-reactid=\"986\"><span data-reactid=\"987\">27,876,200</span></td></tr><tr class=\"BdT Bdc($seperatorColor) Ta(end) Fz(s) Whs(nw)\" data-reactid=\"988\"><td class=\"Py(10px) Ta(start) Pend(10px)\" data-reactid=\"989\"><span data-reactid=\"990\">May 19, 2020</span></td><td class=\"Py(10px) Pstart(10px)\" data-reactid=\"991\"><span data-reactid=\"992\">315.03</span></td><td class=\"Py(10px) Pstart(10px)\" data-reactid=\"993\"><span data-reactid=\"994\">318.52</span></td><td class=\"Py(10px) Pstart(10px)\" data-reactid=\"995\"><span data-reactid=\"996\">313.01</span></td><td class=\"Py(10px) Pstart(10px)\" data-reactid=\"997\"><span data-reactid=\"998\">313.14</span></td><td class=\"Py(10px) Pstart(10px)\" data-reactid=\"999\"><span data-reactid=\"1000\">312.58</span></td><td class=\"Py(10px) Pstart(10px)\" data-reactid=\"1001\"><span data-reactid=\"1002\">25,432,400</span></td></tr><tr class=\"BdT Bdc($seperatorColor) Ta(end) Fz(s) Whs(nw)\" data-reactid=\"1003\"><td class=\"Py(10px) Ta(start) Pend(10px)\" data-reactid=\"1004\"><span data-reactid=\"1005\">May 18, 2020</span></td><td class=\"Py(10px) Pstart(10px)\" data-reactid=\"1006\"><span data-reactid=\"1007\">313.17</span></td><td class=\"Py(10px) Pstart(10px)\" data-reactid=\"1008\"><span data-reactid=\"1009\">316.50</span></td><td class=\"Py(10px) Pstart(10px)\" data-reactid=\"1010\"><span data-reactid=\"1011\">310.32</span></td><td class=\"Py(10px) Pstart(10px)\" data-reactid=\"1012\"><span data-reactid=\"1013\">314.96</span></td><td class=\"Py(10px) Pstart(10px)\" data-reactid=\"1014\"><span data-reactid=\"1015\">314.39</span></td><td class=\"Py(10px) Pstart(10px)\" data-reactid=\"1016\"><span data-reactid=\"1017\">33,843,100</span></td></tr><tr class=\"BdT Bdc($seperatorColor) Ta(end) Fz(s) Whs(nw)\" data-reactid=\"1018\"><td class=\"Py(10px) Ta(start) Pend(10px)\" data-reactid=\"1019\"><span data-reactid=\"1020\">May 15, 2020</span></td><td class=\"Py(10px) Pstart(10px)\" data-reactid=\"1021\"><span data-reactid=\"1022\">300.35</span></td><td class=\"Py(10px) Pstart(10px)\" data-reactid=\"1023\"><span data-reactid=\"1024\">307.90</span></td><td class=\"Py(10px) Pstart(10px)\" data-reactid=\"1025\"><span data-reactid=\"1026\">300.21</span></td><td class=\"Py(10px) Pstart(10px)\" data-reactid=\"1027\"><span data-reactid=\"1028\">307.71</span></td><td class=\"Py(10px) Pstart(10px)\" data-reactid=\"1029\"><span data-reactid=\"1030\">307.16</span></td><td class=\"Py(10px) Pstart(10px)\" data-reactid=\"1031\"><span data-reactid=\"1032\">41,587,100</span></td></tr><tr class=\"BdT Bdc($seperatorColor) Ta(end) Fz(s) Whs(nw)\" data-reactid=\"1033\"><td class=\"Py(10px) Ta(start) Pend(10px)\" data-reactid=\"1034\"><span data-reactid=\"1035\">May 14, 2020</span></td><td class=\"Py(10px) Pstart(10px)\" data-reactid=\"1036\"><span data-reactid=\"1037\">304.51</span></td><td class=\"Py(10px) Pstart(10px)\" data-reactid=\"1038\"><span data-reactid=\"1039\">309.79</span></td><td class=\"Py(10px) Pstart(10px)\" data-reactid=\"1040\"><span data-reactid=\"1041\">301.53</span></td><td class=\"Py(10px) Pstart(10px)\" data-reactid=\"1042\"><span data-reactid=\"1043\">309.54</span></td><td class=\"Py(10px) Pstart(10px)\" data-reactid=\"1044\"><span data-reactid=\"1045\">308.98</span></td><td class=\"Py(10px) Pstart(10px)\" data-reactid=\"1046\"><span data-reactid=\"1047\">39,732,300</span></td></tr><tr class=\"BdT Bdc($seperatorColor) Ta(end) Fz(s) Whs(nw)\" data-reactid=\"1048\"><td class=\"Py(10px) Ta(start) Pend(10px)\" data-reactid=\"1049\"><span data-reactid=\"1050\">May 13, 2020</span></td><td class=\"Py(10px) Pstart(10px)\" data-reactid=\"1051\"><span data-reactid=\"1052\">312.15</span></td><td class=\"Py(10px) Pstart(10px)\" data-reactid=\"1053\"><span data-reactid=\"1054\">315.95</span></td><td class=\"Py(10px) Pstart(10px)\" data-reactid=\"1055\"><span data-reactid=\"1056\">303.21</span></td><td class=\"Py(10px) Pstart(10px)\" data-reactid=\"1057\"><span data-reactid=\"1058\">307.65</span></td><td class=\"Py(10px) Pstart(10px)\" data-reactid=\"1059\"><span data-reactid=\"1060\">307.10</span></td><td class=\"Py(10px) Pstart(10px)\" data-reactid=\"1061\"><span data-reactid=\"1062\">50,155,600</span></td></tr><tr class=\"BdT Bdc($seperatorColor) Ta(end) Fz(s) Whs(nw)\" data-reactid=\"1063\"><td class=\"Py(10px) Ta(start) Pend(10px)\" data-reactid=\"1064\"><span data-reactid=\"1065\">May 12, 2020</span></td><td class=\"Py(10px) Pstart(10px)\" data-reactid=\"1066\"><span data-reactid=\"1067\">317.83</span></td><td class=\"Py(10px) Pstart(10px)\" data-reactid=\"1068\"><span data-reactid=\"1069\">319.69</span></td><td class=\"Py(10px) Pstart(10px)\" data-reactid=\"1070\"><span data-reactid=\"1071\">310.91</span></td><td class=\"Py(10px) Pstart(10px)\" data-reactid=\"1072\"><span data-reactid=\"1073\">311.41</span></td><td class=\"Py(10px) Pstart(10px)\" data-reactid=\"1074\"><span data-reactid=\"1075\">310.85</span></td><td class=\"Py(10px) Pstart(10px)\" data-reactid=\"1076\"><span data-reactid=\"1077\">40,575,300</span></td></tr><tr class=\"BdT Bdc($seperatorColor) Ta(end) Fz(s) Whs(nw)\" data-reactid=\"1078\"><td class=\"Py(10px) Ta(start) Pend(10px)\" data-reactid=\"1079\"><span data-reactid=\"1080\">May 11, 2020</span></td><td class=\"Py(10px) Pstart(10px)\" data-reactid=\"1081\"><span data-reactid=\"1082\">308.10</span></td><td class=\"Py(10px) Pstart(10px)\" data-reactid=\"1083\"><span data-reactid=\"1084\">317.05</span></td><td class=\"Py(10px) Pstart(10px)\" data-reactid=\"1085\"><span data-reactid=\"1086\">307.24</span></td><td class=\"Py(10px) Pstart(10px)\" data-reactid=\"1087\"><span data-reactid=\"1088\">315.01</span></td><td class=\"Py(10px) Pstart(10px)\" data-reactid=\"1089\"><span data-reactid=\"1090\">314.44</span></td><td class=\"Py(10px) Pstart(10px)\" data-reactid=\"1091\"><span data-reactid=\"1092\">36,405,900</span></td></tr><tr class=\"BdT Bdc($seperatorColor) Ta(end) Fz(s) Whs(nw)\" data-reactid=\"1093\"><td class=\"Py(10px) Ta(start) Pend(10px)\" data-reactid=\"1094\"><span data-reactid=\"1095\">May 08, 2020</span></td><td class=\"Py(10px) Pstart(10px)\" data-reactid=\"1096\"><span data-reactid=\"1097\">305.64</span></td><td class=\"Py(10px) Pstart(10px)\" data-reactid=\"1098\"><span data-reactid=\"1099\">310.35</span></td><td class=\"Py(10px) Pstart(10px)\" data-reactid=\"1100\"><span data-reactid=\"1101\">304.29</span></td><td class=\"Py(10px) Pstart(10px)\" data-reactid=\"1102\"><span data-reactid=\"1103\">310.13</span></td><td class=\"Py(10px) Pstart(10px)\" data-reactid=\"1104\"><span data-reactid=\"1105\">309.57</span></td><td class=\"Py(10px) Pstart(10px)\" data-reactid=\"1106\"><span data-reactid=\"1107\">33,512,000</span></td></tr><tr class=\"BdT Bdc($seperatorColor) Ta(end) Fz(s) Whs(nw)\" data-reactid=\"1108\"><td class=\"Py(10px) Ta(start) Pend(10px)\" data-reactid=\"1109\"><span data-reactid=\"1110\">May 08, 2020</span></td><td class=\"Ta(c) Py(10px) Pstart(10px)\" colspan=\"6\" data-reactid=\"1111\"><strong data-reactid=\"1112\">0.82</strong><!-- react-text: 1113 --> <!-- /react-text --><span data-reactid=\"1114\">Dividend</span></td></tr><tr class=\"BdT Bdc($seperatorColor) Ta(end) Fz(s) Whs(nw)\" data-reactid=\"1115\"><td class=\"Py(10px) Ta(start) Pend(10px)\" data-reactid=\"1116\"><span data-reactid=\"1117\">May 07, 2020</span></td><td class=\"Py(10px) Pstart(10px)\" data-reactid=\"1118\"><span data-reactid=\"1119\">303.22</span></td><td class=\"Py(10px) Pstart(10px)\" data-reactid=\"1120\"><span data-reactid=\"1121\">305.17</span></td><td class=\"Py(10px) Pstart(10px)\" data-reactid=\"1122\"><span data-reactid=\"1123\">301.97</span></td><td class=\"Py(10px) Pstart(10px)\" data-reactid=\"1124\"><span data-reactid=\"1125\">303.74</span></td><td class=\"Py(10px) Pstart(10px)\" data-reactid=\"1126\"><span data-reactid=\"1127\">302.37</span></td><td class=\"Py(10px) Pstart(10px)\" data-reactid=\"1128\"><span data-reactid=\"1129\">28,803,800</span></td></tr><tr class=\"BdT Bdc($seperatorColor) Ta(end) Fz(s) Whs(nw)\" data-reactid=\"1130\"><td class=\"Py(10px) Ta(start) Pend(10px)\" data-reactid=\"1131\"><span data-reactid=\"1132\">May 06, 2020</span></td><td class=\"Py(10px) Pstart(10px)\" data-reactid=\"1133\"><span data-reactid=\"1134\">300.46</span></td><td class=\"Py(10px) Pstart(10px)\" data-reactid=\"1135\"><span data-reactid=\"1136\">303.24</span></td><td class=\"Py(10px) Pstart(10px)\" data-reactid=\"1137\"><span data-reactid=\"1138\">298.87</span></td><td class=\"Py(10px) Pstart(10px)\" data-reactid=\"1139\"><span data-reactid=\"1140\">300.63</span></td><td class=\"Py(10px) Pstart(10px)\" data-reactid=\"1141\"><span data-reactid=\"1142\">299.28</span></td><td class=\"Py(10px) Pstart(10px)\" data-reactid=\"1143\"><span data-reactid=\"1144\">35,583,400</span></td></tr><tr class=\"BdT Bdc($seperatorColor) Ta(end) Fz(s) Whs(nw)\" data-reactid=\"1145\"><td class=\"Py(10px) Ta(start) Pend(10px)\" data-reactid=\"1146\"><span data-reactid=\"1147\">May 05, 2020</span></td><td class=\"Py(10px) Pstart(10px)\" data-reactid=\"1148\"><span data-reactid=\"1149\">295.06</span></td><td class=\"Py(10px) Pstart(10px)\" data-reactid=\"1150\"><span data-reactid=\"1151\">301.00</span></td><td class=\"Py(10px) Pstart(10px)\" data-reactid=\"1152\"><span data-reactid=\"1153\">294.46</span></td><td class=\"Py(10px) Pstart(10px)\" data-reactid=\"1154\"><span data-reactid=\"1155\">297.56</span></td><td class=\"Py(10px) Pstart(10px)\" data-reactid=\"1156\"><span data-reactid=\"1157\">296.22</span></td><td class=\"Py(10px) Pstart(10px)\" data-reactid=\"1158\"><span data-reactid=\"1159\">36,937,800</span></td></tr><tr class=\"BdT Bdc($seperatorColor) Ta(end) Fz(s) Whs(nw)\" data-reactid=\"1160\"><td class=\"Py(10px) Ta(start) Pend(10px)\" data-reactid=\"1161\"><span data-reactid=\"1162\">May 04, 2020</span></td><td class=\"Py(10px) Pstart(10px)\" data-reactid=\"1163\"><span data-reactid=\"1164\">289.17</span></td><td class=\"Py(10px) Pstart(10px)\" data-reactid=\"1165\"><span data-reactid=\"1166\">293.69</span></td><td class=\"Py(10px) Pstart(10px)\" data-reactid=\"1167\"><span data-reactid=\"1168\">286.32</span></td><td class=\"Py(10px) Pstart(10px)\" data-reactid=\"1169\"><span data-reactid=\"1170\">293.16</span></td><td class=\"Py(10px) Pstart(10px)\" data-reactid=\"1171\"><span data-reactid=\"1172\">291.84</span></td><td class=\"Py(10px) Pstart(10px)\" data-reactid=\"1173\"><span data-reactid=\"1174\">33,392,000</span></td></tr><tr class=\"BdT Bdc($seperatorColor) Ta(end) Fz(s) Whs(nw)\" data-reactid=\"1175\"><td class=\"Py(10px) Ta(start) Pend(10px)\" data-reactid=\"1176\"><span data-reactid=\"1177\">May 01, 2020</span></td><td class=\"Py(10px) Pstart(10px)\" data-reactid=\"1178\"><span data-reactid=\"1179\">286.25</span></td><td class=\"Py(10px) Pstart(10px)\" data-reactid=\"1180\"><span data-reactid=\"1181\">299.00</span></td><td class=\"Py(10px) Pstart(10px)\" data-reactid=\"1182\"><span data-reactid=\"1183\">285.85</span></td><td class=\"Py(10px) Pstart(10px)\" data-reactid=\"1184\"><span data-reactid=\"1185\">289.07</span></td><td class=\"Py(10px) Pstart(10px)\" data-reactid=\"1186\"><span data-reactid=\"1187\">287.77</span></td><td class=\"Py(10px) Pstart(10px)\" data-reactid=\"1188\"><span data-reactid=\"1189\">60,154,200</span></td></tr><tr class=\"BdT Bdc($seperatorColor) Ta(end) Fz(s) Whs(nw)\" data-reactid=\"1190\"><td class=\"Py(10px) Ta(start) Pend(10px)\" data-reactid=\"1191\"><span data-reactid=\"1192\">Apr 30, 2020</span></td><td class=\"Py(10px) Pstart(10px)\" data-reactid=\"1193\"><span data-reactid=\"1194\">289.96</span></td><td class=\"Py(10px) Pstart(10px)\" data-reactid=\"1195\"><span data-reactid=\"1196\">294.53</span></td><td class=\"Py(10px) Pstart(10px)\" data-reactid=\"1197\"><span data-reactid=\"1198\">288.35</span></td><td class=\"Py(10px) Pstart(10px)\" data-reactid=\"1199\"><span data-reactid=\"1200\">293.80</span></td><td class=\"Py(10px) Pstart(10px)\" data-reactid=\"1201\"><span data-reactid=\"1202\">292.48</span></td><td class=\"Py(10px) Pstart(10px)\" data-reactid=\"1203\"><span data-reactid=\"1204\">45,457,600</span></td></tr><tr class=\"BdT Bdc($seperatorColor) Ta(end) Fz(s) Whs(nw)\" data-reactid=\"1205\"><td class=\"Py(10px) Ta(start) Pend(10px)\" data-reactid=\"1206\"><span data-reactid=\"1207\">Apr 29, 2020</span></td><td class=\"Py(10px) Pstart(10px)\" data-reactid=\"1208\"><span data-reactid=\"1209\">284.73</span></td><td class=\"Py(10px) Pstart(10px)\" data-reactid=\"1210\"><span data-reactid=\"1211\">289.67</span></td><td class=\"Py(10px) Pstart(10px)\" data-reactid=\"1212\"><span data-reactid=\"1213\">283.89</span></td><td class=\"Py(10px) Pstart(10px)\" data-reactid=\"1214\"><span data-reactid=\"1215\">287.73</span></td><td class=\"Py(10px) Pstart(10px)\" data-reactid=\"1216\"><span data-reactid=\"1217\">286.44</span></td><td class=\"Py(10px) Pstart(10px)\" data-reactid=\"1218\"><span data-reactid=\"1219\">34,320,200</span></td></tr><tr class=\"BdT Bdc($seperatorColor) Ta(end) Fz(s) Whs(nw)\" data-reactid=\"1220\"><td class=\"Py(10px) Ta(start) Pend(10px)\" data-reactid=\"1221\"><span data-reactid=\"1222\">Apr 28, 2020</span></td><td class=\"Py(10px) Pstart(10px)\" data-reactid=\"1223\"><span data-reactid=\"1224\">285.08</span></td><td class=\"Py(10px) Pstart(10px)\" data-reactid=\"1225\"><span data-reactid=\"1226\">285.83</span></td><td class=\"Py(10px) Pstart(10px)\" data-reactid=\"1227\"><span data-reactid=\"1228\">278.20</span></td><td class=\"Py(10px) Pstart(10px)\" data-reactid=\"1229\"><span data-reactid=\"1230\">278.58</span></td><td class=\"Py(10px) Pstart(10px)\" data-reactid=\"1231\"><span data-reactid=\"1232\">277.33</span></td><td class=\"Py(10px) Pstart(10px)\" data-reactid=\"1233\"><span data-reactid=\"1234\">28,001,200</span></td></tr><tr class=\"BdT Bdc($seperatorColor) Ta(end) Fz(s) Whs(nw)\" data-reactid=\"1235\"><td class=\"Py(10px) Ta(start) Pend(10px)\" data-reactid=\"1236\"><span data-reactid=\"1237\">Apr 27, 2020</span></td><td class=\"Py(10px) Pstart(10px)\" data-reactid=\"1238\"><span data-reactid=\"1239\">281.80</span></td><td class=\"Py(10px) Pstart(10px)\" data-reactid=\"1240\"><span data-reactid=\"1241\">284.54</span></td><td class=\"Py(10px) Pstart(10px)\" data-reactid=\"1242\"><span data-reactid=\"1243\">279.95</span></td><td class=\"Py(10px) Pstart(10px)\" data-reactid=\"1244\"><span data-reactid=\"1245\">283.17</span></td><td class=\"Py(10px) Pstart(10px)\" data-reactid=\"1246\"><span data-reactid=\"1247\">281.90</span></td><td class=\"Py(10px) Pstart(10px)\" data-reactid=\"1248\"><span data-reactid=\"1249\">29,271,900</span></td></tr><tr class=\"BdT Bdc($seperatorColor) Ta(end) Fz(s) Whs(nw)\" data-reactid=\"1250\"><td class=\"Py(10px) Ta(start) Pend(10px)\" data-reactid=\"1251\"><span data-reactid=\"1252\">Apr 24, 2020</span></td><td class=\"Py(10px) Pstart(10px)\" data-reactid=\"1253\"><span data-reactid=\"1254\">277.20</span></td><td class=\"Py(10px) Pstart(10px)\" data-reactid=\"1255\"><span data-reactid=\"1256\">283.01</span></td><td class=\"Py(10px) Pstart(10px)\" data-reactid=\"1257\"><span data-reactid=\"1258\">277.00</span></td><td class=\"Py(10px) Pstart(10px)\" data-reactid=\"1259\"><span data-reactid=\"1260\">282.97</span></td><td class=\"Py(10px) Pstart(10px)\" data-reactid=\"1261\"><span data-reactid=\"1262\">281.70</span></td><td class=\"Py(10px) Pstart(10px)\" data-reactid=\"1263\"><span data-reactid=\"1264\">31,627,200</span></td></tr><tr class=\"BdT Bdc($seperatorColor) Ta(end) Fz(s) Whs(nw)\" data-reactid=\"1265\"><td class=\"Py(10px) Ta(start) Pend(10px)\" data-reactid=\"1266\"><span data-reactid=\"1267\">Apr 23, 2020</span></td><td class=\"Py(10px) Pstart(10px)\" data-reactid=\"1268\"><span data-reactid=\"1269\">275.87</span></td><td class=\"Py(10px) Pstart(10px)\" data-reactid=\"1270\"><span data-reactid=\"1271\">281.75</span></td><td class=\"Py(10px) Pstart(10px)\" data-reactid=\"1272\"><span data-reactid=\"1273\">274.87</span></td><td class=\"Py(10px) Pstart(10px)\" data-reactid=\"1274\"><span data-reactid=\"1275\">275.03</span></td><td class=\"Py(10px) Pstart(10px)\" data-reactid=\"1276\"><span data-reactid=\"1277\">273.79</span></td><td class=\"Py(10px) Pstart(10px)\" data-reactid=\"1278\"><span data-reactid=\"1279\">31,203,600</span></td></tr><tr class=\"BdT Bdc($seperatorColor) Ta(end) Fz(s) Whs(nw)\" data-reactid=\"1280\"><td class=\"Py(10px) Ta(start) Pend(10px)\" data-reactid=\"1281\"><span data-reactid=\"1282\">Apr 22, 2020</span></td><td class=\"Py(10px) Pstart(10px)\" data-reactid=\"1283\"><span data-reactid=\"1284\">273.61</span></td><td class=\"Py(10px) Pstart(10px)\" data-reactid=\"1285\"><span data-reactid=\"1286\">277.90</span></td><td class=\"Py(10px) Pstart(10px)\" data-reactid=\"1287\"><span data-reactid=\"1288\">272.20</span></td><td class=\"Py(10px) Pstart(10px)\" data-reactid=\"1289\"><span data-reactid=\"1290\">276.10</span></td><td class=\"Py(10px) Pstart(10px)\" data-reactid=\"1291\"><span data-reactid=\"1292\">274.86</span></td><td class=\"Py(10px) Pstart(10px)\" data-reactid=\"1293\"><span data-reactid=\"1294\">29,264,300</span></td></tr><tr class=\"BdT Bdc($seperatorColor) Ta(end) Fz(s) Whs(nw)\" data-reactid=\"1295\"><td class=\"Py(10px) Ta(start) Pend(10px)\" data-reactid=\"1296\"><span data-reactid=\"1297\">Apr 21, 2020</span></td><td class=\"Py(10px) Pstart(10px)\" data-reactid=\"1298\"><span data-reactid=\"1299\">276.28</span></td><td class=\"Py(10px) Pstart(10px)\" data-reactid=\"1300\"><span data-reactid=\"1301\">277.25</span></td><td class=\"Py(10px) Pstart(10px)\" data-reactid=\"1302\"><span data-reactid=\"1303\">265.43</span></td><td class=\"Py(10px) Pstart(10px)\" data-reactid=\"1304\"><span data-reactid=\"1305\">268.37</span></td><td class=\"Py(10px) Pstart(10px)\" data-reactid=\"1306\"><span data-reactid=\"1307\">267.16</span></td><td class=\"Py(10px) Pstart(10px)\" data-reactid=\"1308\"><span data-reactid=\"1309\">45,247,900</span></td></tr><tr class=\"BdT Bdc($seperatorColor) Ta(end) Fz(s) Whs(nw)\" data-reactid=\"1310\"><td class=\"Py(10px) Ta(start) Pend(10px)\" data-reactid=\"1311\"><span data-reactid=\"1312\">Apr 20, 2020</span></td><td class=\"Py(10px) Pstart(10px)\" data-reactid=\"1313\"><span data-reactid=\"1314\">277.95</span></td><td class=\"Py(10px) Pstart(10px)\" data-reactid=\"1315\"><span data-reactid=\"1316\">281.68</span></td><td class=\"Py(10px) Pstart(10px)\" data-reactid=\"1317\"><span data-reactid=\"1318\">276.85</span></td><td class=\"Py(10px) Pstart(10px)\" data-reactid=\"1319\"><span data-reactid=\"1320\">276.93</span></td><td class=\"Py(10px) Pstart(10px)\" data-reactid=\"1321\"><span data-reactid=\"1322\">275.69</span></td><td class=\"Py(10px) Pstart(10px)\" data-reactid=\"1323\"><span data-reactid=\"1324\">32,503,800</span></td></tr><tr class=\"BdT Bdc($seperatorColor) Ta(end) Fz(s) Whs(nw)\" data-reactid=\"1325\"><td class=\"Py(10px) Ta(start) Pend(10px)\" data-reactid=\"1326\"><span data-reactid=\"1327\">Apr 17, 2020</span></td><td class=\"Py(10px) Pstart(10px)\" data-reactid=\"1328\"><span data-reactid=\"1329\">284.69</span></td><td class=\"Py(10px) Pstart(10px)\" data-reactid=\"1330\"><span data-reactid=\"1331\">286.95</span></td><td class=\"Py(10px) Pstart(10px)\" data-reactid=\"1332\"><span data-reactid=\"1333\">276.86</span></td><td class=\"Py(10px) Pstart(10px)\" data-reactid=\"1334\"><span data-reactid=\"1335\">282.80</span></td><td class=\"Py(10px) Pstart(10px)\" data-reactid=\"1336\"><span data-reactid=\"1337\">281.53</span></td><td class=\"Py(10px) Pstart(10px)\" data-reactid=\"1338\"><span data-reactid=\"1339\">53,812,500</span></td></tr><tr class=\"BdT Bdc($seperatorColor) Ta(end) Fz(s) Whs(nw)\" data-reactid=\"1340\"><td class=\"Py(10px) Ta(start) Pend(10px)\" data-reactid=\"1341\"><span data-reactid=\"1342\">Apr 16, 2020</span></td><td class=\"Py(10px) Pstart(10px)\" data-reactid=\"1343\"><span data-reactid=\"1344\">287.38</span></td><td class=\"Py(10px) Pstart(10px)\" data-reactid=\"1345\"><span data-reactid=\"1346\">288.20</span></td><td class=\"Py(10px) Pstart(10px)\" data-reactid=\"1347\"><span data-reactid=\"1348\">282.35</span></td><td class=\"Py(10px) Pstart(10px)\" data-reactid=\"1349\"><span data-reactid=\"1350\">286.69</span></td><td class=\"Py(10px) Pstart(10px)\" data-reactid=\"1351\"><span data-reactid=\"1352\">285.40</span></td><td class=\"Py(10px) Pstart(10px)\" data-reactid=\"1353\"><span data-reactid=\"1354\">39,281,300</span></td></tr><tr class=\"BdT Bdc($seperatorColor) Ta(end) Fz(s) Whs(nw)\" data-reactid=\"1355\"><td class=\"Py(10px) Ta(start) Pend(10px)\" data-reactid=\"1356\"><span data-reactid=\"1357\">Apr 15, 2020</span></td><td class=\"Py(10px) Pstart(10px)\" data-reactid=\"1358\"><span data-reactid=\"1359\">282.40</span></td><td class=\"Py(10px) Pstart(10px)\" data-reactid=\"1360\"><span data-reactid=\"1361\">286.33</span></td><td class=\"Py(10px) Pstart(10px)\" data-reactid=\"1362\"><span data-reactid=\"1363\">280.63</span></td><td class=\"Py(10px) Pstart(10px)\" data-reactid=\"1364\"><span data-reactid=\"1365\">284.43</span></td><td class=\"Py(10px) Pstart(10px)\" data-reactid=\"1366\"><span data-reactid=\"1367\">283.15</span></td><td class=\"Py(10px) Pstart(10px)\" data-reactid=\"1368\"><span data-reactid=\"1369\">32,788,600</span></td></tr><tr class=\"BdT Bdc($seperatorColor) Ta(end) Fz(s) Whs(nw)\" data-reactid=\"1370\"><td class=\"Py(10px) Ta(start) Pend(10px)\" data-reactid=\"1371\"><span data-reactid=\"1372\">Apr 14, 2020</span></td><td class=\"Py(10px) Pstart(10px)\" data-reactid=\"1373\"><span data-reactid=\"1374\">280.00</span></td><td class=\"Py(10px) Pstart(10px)\" data-reactid=\"1375\"><span data-reactid=\"1376\">288.25</span></td><td class=\"Py(10px) Pstart(10px)\" data-reactid=\"1377\"><span data-reactid=\"1378\">278.05</span></td><td class=\"Py(10px) Pstart(10px)\" data-reactid=\"1379\"><span data-reactid=\"1380\">287.05</span></td><td class=\"Py(10px) Pstart(10px)\" data-reactid=\"1381\"><span data-reactid=\"1382\">285.76</span></td><td class=\"Py(10px) Pstart(10px)\" data-reactid=\"1383\"><span data-reactid=\"1384\">48,748,700</span></td></tr><tr class=\"BdT Bdc($seperatorColor) Ta(end) Fz(s) Whs(nw)\" data-reactid=\"1385\"><td class=\"Py(10px) Ta(start) Pend(10px)\" data-reactid=\"1386\"><span data-reactid=\"1387\">Apr 13, 2020</span></td><td class=\"Py(10px) Pstart(10px)\" data-reactid=\"1388\"><span data-reactid=\"1389\">268.31</span></td><td class=\"Py(10px) Pstart(10px)\" data-reactid=\"1390\"><span data-reactid=\"1391\">273.70</span></td><td class=\"Py(10px) Pstart(10px)\" data-reactid=\"1392\"><span data-reactid=\"1393\">265.83</span></td><td class=\"Py(10px) Pstart(10px)\" data-reactid=\"1394\"><span data-reactid=\"1395\">273.25</span></td><td class=\"Py(10px) Pstart(10px)\" data-reactid=\"1396\"><span data-reactid=\"1397\">272.02</span></td><td class=\"Py(10px) Pstart(10px)\" data-reactid=\"1398\"><span data-reactid=\"1399\">32,755,700</span></td></tr><tr class=\"BdT Bdc($seperatorColor) Ta(end) Fz(s) Whs(nw)\" data-reactid=\"1400\"><td class=\"Py(10px) Ta(start) Pend(10px)\" data-reactid=\"1401\"><span data-reactid=\"1402\">Apr 09, 2020</span></td><td class=\"Py(10px) Pstart(10px)\" data-reactid=\"1403\"><span data-reactid=\"1404\">268.70</span></td><td class=\"Py(10px) Pstart(10px)\" data-reactid=\"1405\"><span data-reactid=\"1406\">270.07</span></td><td class=\"Py(10px) Pstart(10px)\" data-reactid=\"1407\"><span data-reactid=\"1408\">264.70</span></td><td class=\"Py(10px) Pstart(10px)\" data-reactid=\"1409\"><span data-reactid=\"1410\">267.99</span></td><td class=\"Py(10px) Pstart(10px)\" data-reactid=\"1411\"><span data-reactid=\"1412\">266.79</span></td><td class=\"Py(10px) Pstart(10px)\" data-reactid=\"1413\"><span data-reactid=\"1414\">40,529,100</span></td></tr><tr class=\"BdT Bdc($seperatorColor) Ta(end) Fz(s) Whs(nw)\" data-reactid=\"1415\"><td class=\"Py(10px) Ta(start) Pend(10px)\" data-reactid=\"1416\"><span data-reactid=\"1417\">Apr 08, 2020</span></td><td class=\"Py(10px) Pstart(10px)\" data-reactid=\"1418\"><span data-reactid=\"1419\">262.74</span></td><td class=\"Py(10px) Pstart(10px)\" data-reactid=\"1420\"><span data-reactid=\"1421\">267.37</span></td><td class=\"Py(10px) Pstart(10px)\" data-reactid=\"1422\"><span data-reactid=\"1423\">261.23</span></td><td class=\"Py(10px) Pstart(10px)\" data-reactid=\"1424\"><span data-reactid=\"1425\">266.07</span></td><td class=\"Py(10px) Pstart(10px)\" data-reactid=\"1426\"><span data-reactid=\"1427\">264.87</span></td><td class=\"Py(10px) Pstart(10px)\" data-reactid=\"1428\"><span data-reactid=\"1429\">42,223,800</span></td></tr><tr class=\"BdT Bdc($seperatorColor) Ta(end) Fz(s) Whs(nw)\" data-reactid=\"1430\"><td class=\"Py(10px) Ta(start) Pend(10px)\" data-reactid=\"1431\"><span data-reactid=\"1432\">Apr 07, 2020</span></td><td class=\"Py(10px) Pstart(10px)\" data-reactid=\"1433\"><span data-reactid=\"1434\">270.80</span></td><td class=\"Py(10px) Pstart(10px)\" data-reactid=\"1435\"><span data-reactid=\"1436\">271.70</span></td><td class=\"Py(10px) Pstart(10px)\" data-reactid=\"1437\"><span data-reactid=\"1438\">259.00</span></td><td class=\"Py(10px) Pstart(10px)\" data-reactid=\"1439\"><span data-reactid=\"1440\">259.43</span></td><td class=\"Py(10px) Pstart(10px)\" data-reactid=\"1441\"><span data-reactid=\"1442\">258.26</span></td><td class=\"Py(10px) Pstart(10px)\" data-reactid=\"1443\"><span data-reactid=\"1444\">50,721,800</span></td></tr><tr class=\"BdT Bdc($seperatorColor) Ta(end) Fz(s) Whs(nw)\" data-reactid=\"1445\"><td class=\"Py(10px) Ta(start) Pend(10px)\" data-reactid=\"1446\"><span data-reactid=\"1447\">Apr 06, 2020</span></td><td class=\"Py(10px) Pstart(10px)\" data-reactid=\"1448\"><span data-reactid=\"1449\">250.90</span></td><td class=\"Py(10px) Pstart(10px)\" data-reactid=\"1450\"><span data-reactid=\"1451\">263.11</span></td><td class=\"Py(10px) Pstart(10px)\" data-reactid=\"1452\"><span data-reactid=\"1453\">249.38</span></td><td class=\"Py(10px) Pstart(10px)\" data-reactid=\"1454\"><span data-reactid=\"1455\">262.47</span></td><td class=\"Py(10px) Pstart(10px)\" data-reactid=\"1456\"><span data-reactid=\"1457\">261.29</span></td><td class=\"Py(10px) Pstart(10px)\" data-reactid=\"1458\"><span data-reactid=\"1459\">50,455,100</span></td></tr><tr class=\"BdT Bdc($seperatorColor) Ta(end) Fz(s) Whs(nw)\" data-reactid=\"1460\"><td class=\"Py(10px) Ta(start) Pend(10px)\" data-reactid=\"1461\"><span data-reactid=\"1462\">Apr 03, 2020</span></td><td class=\"Py(10px) Pstart(10px)\" data-reactid=\"1463\"><span data-reactid=\"1464\">242.80</span></td><td class=\"Py(10px) Pstart(10px)\" data-reactid=\"1465\"><span data-reactid=\"1466\">245.70</span></td><td class=\"Py(10px) Pstart(10px)\" data-reactid=\"1467\"><span data-reactid=\"1468\">238.97</span></td><td class=\"Py(10px) Pstart(10px)\" data-reactid=\"1469\"><span data-reactid=\"1470\">241.41</span></td><td class=\"Py(10px) Pstart(10px)\" data-reactid=\"1471\"><span data-reactid=\"1472\">240.32</span></td><td class=\"Py(10px) Pstart(10px)\" data-reactid=\"1473\"><span data-reactid=\"1474\">32,470,000</span></td></tr><tr class=\"BdT Bdc($seperatorColor) Ta(end) Fz(s) Whs(nw)\" data-reactid=\"1475\"><td class=\"Py(10px) Ta(start) Pend(10px)\" data-reactid=\"1476\"><span data-reactid=\"1477\">Apr 02, 2020</span></td><td class=\"Py(10px) Pstart(10px)\" data-reactid=\"1478\"><span data-reactid=\"1479\">240.34</span></td><td class=\"Py(10px) Pstart(10px)\" data-reactid=\"1480\"><span data-reactid=\"1481\">245.15</span></td><td class=\"Py(10px) Pstart(10px)\" data-reactid=\"1482\"><span data-reactid=\"1483\">236.90</span></td><td class=\"Py(10px) Pstart(10px)\" data-reactid=\"1484\"><span data-reactid=\"1485\">244.93</span></td><td class=\"Py(10px) Pstart(10px)\" data-reactid=\"1486\"><span data-reactid=\"1487\">243.83</span></td><td class=\"Py(10px) Pstart(10px)\" data-reactid=\"1488\"><span data-reactid=\"1489\">41,483,500</span></td></tr><tr class=\"BdT Bdc($seperatorColor) Ta(end) Fz(s) Whs(nw)\" data-reactid=\"1490\"><td class=\"Py(10px) Ta(start) Pend(10px)\" data-reactid=\"1491\"><span data-reactid=\"1492\">Apr 01, 2020</span></td><td class=\"Py(10px) Pstart(10px)\" data-reactid=\"1493\"><span data-reactid=\"1494\">246.50</span></td><td class=\"Py(10px) Pstart(10px)\" data-reactid=\"1495\"><span data-reactid=\"1496\">248.72</span></td><td class=\"Py(10px) Pstart(10px)\" data-reactid=\"1497\"><span data-reactid=\"1498\">239.13</span></td><td class=\"Py(10px) Pstart(10px)\" data-reactid=\"1499\"><span data-reactid=\"1500\">240.91</span></td><td class=\"Py(10px) Pstart(10px)\" data-reactid=\"1501\"><span data-reactid=\"1502\">239.83</span></td><td class=\"Py(10px) Pstart(10px)\" data-reactid=\"1503\"><span data-reactid=\"1504\">44,054,600</span></td></tr><tr class=\"BdT Bdc($seperatorColor) Ta(end) Fz(s) Whs(nw)\" data-reactid=\"1505\"><td class=\"Py(10px) Ta(start) Pend(10px)\" data-reactid=\"1506\"><span data-reactid=\"1507\">Mar 31, 2020</span></td><td class=\"Py(10px) Pstart(10px)\" data-reactid=\"1508\"><span data-reactid=\"1509\">255.60</span></td><td class=\"Py(10px) Pstart(10px)\" data-reactid=\"1510\"><span data-reactid=\"1511\">262.49</span></td><td class=\"Py(10px) Pstart(10px)\" data-reactid=\"1512\"><span data-reactid=\"1513\">252.00</span></td><td class=\"Py(10px) Pstart(10px)\" data-reactid=\"1514\"><span data-reactid=\"1515\">254.29</span></td><td class=\"Py(10px) Pstart(10px)\" data-reactid=\"1516\"><span data-reactid=\"1517\">253.15</span></td><td class=\"Py(10px) Pstart(10px)\" data-reactid=\"1518\"><span data-reactid=\"1519\">49,250,500</span></td></tr><tr class=\"BdT Bdc($seperatorColor) Ta(end) Fz(s) Whs(nw)\" data-reactid=\"1520\"><td class=\"Py(10px) Ta(start) Pend(10px)\" data-reactid=\"1521\"><span data-reactid=\"1522\">Mar 30, 2020</span></td><td class=\"Py(10px) Pstart(10px)\" data-reactid=\"1523\"><span data-reactid=\"1524\">250.74</span></td><td class=\"Py(10px) Pstart(10px)\" data-reactid=\"1525\"><span data-reactid=\"1526\">255.52</span></td><td class=\"Py(10px) Pstart(10px)\" data-reactid=\"1527\"><span data-reactid=\"1528\">249.40</span></td><td class=\"Py(10px) Pstart(10px)\" data-reactid=\"1529\"><span data-reactid=\"1530\">254.81</span></td><td class=\"Py(10px) Pstart(10px)\" data-reactid=\"1531\"><span data-reactid=\"1532\">253.66</span></td><td class=\"Py(10px) Pstart(10px)\" data-reactid=\"1533\"><span data-reactid=\"1534\">41,994,100</span></td></tr></tbody><tfoot data-reactid=\"1535\"><tr class=\"BdT Bdc($seperatorColor) C($tertiaryColor) H(36px)\" data-reactid=\"1536\"><td class=\"Fz(xs)\" colspan=\"7\" data-reactid=\"1537\"><span data-reactid=\"1538\">*Close price adjusted for splits.</span><span class=\"Mstart(20px)\" data-reactid=\"1539\"><span data-reactid=\"1540\">**Adjusted close price adjusted for both dividends and splits.</span></span></td></tr></tfoot></table>"
      ]
     },
     "execution_count": 437,
     "metadata": {},
     "output_type": "execute_result"
    }
   ],
   "source": [
    "# This will tell us all the historical data on the page\n",
    "info = soup.find('table', class_ = 'W(100%) M(0)')\n",
    "info"
   ]
  },
  {
   "cell_type": "code",
   "execution_count": 438,
   "metadata": {},
   "outputs": [
    {
     "data": {
      "text/plain": [
       "[<td class=\"Py(10px) Ta(start) Pend(10px)\" data-reactid=\"52\"><span data-reactid=\"53\">Aug 17, 2020</span></td>,\n",
       " <td class=\"Py(10px) Pstart(10px)\" data-reactid=\"54\"><span data-reactid=\"55\">464.25</span></td>,\n",
       " <td class=\"Py(10px) Pstart(10px)\" data-reactid=\"56\"><span data-reactid=\"57\">464.35</span></td>,\n",
       " <td class=\"Py(10px) Pstart(10px)\" data-reactid=\"58\"><span data-reactid=\"59\">455.85</span></td>,\n",
       " <td class=\"Py(10px) Pstart(10px)\" data-reactid=\"60\"><span data-reactid=\"61\">457.23</span></td>,\n",
       " <td class=\"Py(10px) Pstart(10px)\" data-reactid=\"62\"><span data-reactid=\"63\">457.23</span></td>,\n",
       " <td class=\"Py(10px) Pstart(10px)\" data-reactid=\"64\"><span data-reactid=\"65\">16,521,676</span></td>]"
      ]
     },
     "execution_count": 438,
     "metadata": {},
     "output_type": "execute_result"
    }
   ],
   "source": [
    "# Instead of lookinf at all the webpage's data, let's look at all the entries for the most recent date\n",
    "columns = info.find_all('td')\n",
    "columns[0:7]"
   ]
  },
  {
   "cell_type": "code",
   "execution_count": 356,
   "metadata": {},
   "outputs": [
    {
     "data": {
      "text/plain": [
       "'Aug 17, 2020'"
      ]
     },
     "execution_count": 356,
     "metadata": {},
     "output_type": "execute_result"
    }
   ],
   "source": [
    "# The date is the first column, so let's extract that information\n",
    "# I want to see all the information for that date first, so when I call on the new open and adjusted close pirces,\n",
    "# I know i have the right numbers\n",
    "new_date = str(columns[0])\n",
    "new_date = new_date[-24:-12]\n",
    "new_date"
   ]
  },
  {
   "cell_type": "code",
   "execution_count": 361,
   "metadata": {},
   "outputs": [
    {
     "data": {
      "text/plain": [
       "464.25"
      ]
     },
     "execution_count": 361,
     "metadata": {},
     "output_type": "execute_result"
    }
   ],
   "source": [
    "# The open price is the second item in the list, so we'll call on it to extract the numerical information\n",
    "new_open_price = str(columns[1])\n",
    "new_open_price = new_open_price[-18:-12]\n",
    "new_open_price = float(new_open_price)\n",
    "new_open_price"
   ]
  },
  {
   "cell_type": "code",
   "execution_count": 362,
   "metadata": {},
   "outputs": [
    {
     "name": "stdout",
     "output_type": "stream",
     "text": [
      "457.82\n"
     ]
    }
   ],
   "source": [
    "# The adjusted close price id the sixth item in the list, so we'll call on it to extract the numerical information\n",
    "new_adj_close_price = str(columns[5])\n",
    "new_adj_close_price = new_adj_close_price[-18:-12]\n",
    "new_adj_close_price = float(new_adj_close_price)\n",
    "print(new_adj_close_price)"
   ]
  },
  {
   "cell_type": "code",
   "execution_count": 439,
   "metadata": {},
   "outputs": [
    {
     "data": {
      "text/plain": [
       "[<td class=\"Py(10px) Ta(start) Pend(10px)\" data-reactid=\"67\"><span data-reactid=\"68\">Aug 14, 2020</span></td>,\n",
       " <td class=\"Py(10px) Pstart(10px)\" data-reactid=\"69\"><span data-reactid=\"70\">459.32</span></td>,\n",
       " <td class=\"Py(10px) Pstart(10px)\" data-reactid=\"71\"><span data-reactid=\"72\">460.00</span></td>,\n",
       " <td class=\"Py(10px) Pstart(10px)\" data-reactid=\"73\"><span data-reactid=\"74\">452.18</span></td>,\n",
       " <td class=\"Py(10px) Pstart(10px)\" data-reactid=\"75\"><span data-reactid=\"76\">459.63</span></td>,\n",
       " <td class=\"Py(10px) Pstart(10px)\" data-reactid=\"77\"><span data-reactid=\"78\">459.63</span></td>,\n",
       " <td class=\"Py(10px) Pstart(10px)\" data-reactid=\"79\"><span data-reactid=\"80\">41,352,800</span></td>]"
      ]
     },
     "execution_count": 439,
     "metadata": {},
     "output_type": "execute_result"
    }
   ],
   "source": [
    "# Now we want the next dates information, so we move onto the next item in the list\n",
    "columns[7:14]"
   ]
  },
  {
   "cell_type": "code",
   "execution_count": 386,
   "metadata": {},
   "outputs": [
    {
     "data": {
      "text/plain": [
       "'Aug 14, 2020'"
      ]
     },
     "execution_count": 386,
     "metadata": {},
     "output_type": "execute_result"
    }
   ],
   "source": [
    "second_date = str(columns[7])\n",
    "second_date = second_date[-24:-12]\n",
    "second_date"
   ]
  },
  {
   "cell_type": "code",
   "execution_count": 368,
   "metadata": {},
   "outputs": [
    {
     "data": {
      "text/plain": [
       "459.32"
      ]
     },
     "execution_count": 368,
     "metadata": {},
     "output_type": "execute_result"
    }
   ],
   "source": [
    "second_open_price = str(columns[8])\n",
    "second_open_price = second_open_price[-18:-12]\n",
    "second_open_price = float(second_open_price)\n",
    "second_open_price"
   ]
  },
  {
   "cell_type": "code",
   "execution_count": 371,
   "metadata": {},
   "outputs": [
    {
     "name": "stdout",
     "output_type": "stream",
     "text": [
      "459.63\n"
     ]
    }
   ],
   "source": [
    "second_adj_close_price = str(columns[12])\n",
    "second_adj_close_price = second_adj_close_price[-18:-12]\n",
    "second_adj_close_price = float(second_adj_close_price)\n",
    "print(second_adj_close_price)"
   ]
  },
  {
   "cell_type": "code",
   "execution_count": 384,
   "metadata": {},
   "outputs": [
    {
     "data": {
      "text/plain": [
       "[<td class=\"Py(10px) Ta(start) Pend(10px)\" data-reactid=\"82\"><span data-reactid=\"83\">Aug 13, 2020</span></td>,\n",
       " <td class=\"Py(10px) Pstart(10px)\" data-reactid=\"84\"><span data-reactid=\"85\">457.72</span></td>,\n",
       " <td class=\"Py(10px) Pstart(10px)\" data-reactid=\"86\"><span data-reactid=\"87\">464.17</span></td>,\n",
       " <td class=\"Py(10px) Pstart(10px)\" data-reactid=\"88\"><span data-reactid=\"89\">455.71</span></td>,\n",
       " <td class=\"Py(10px) Pstart(10px)\" data-reactid=\"90\"><span data-reactid=\"91\">460.04</span></td>,\n",
       " <td class=\"Py(10px) Pstart(10px)\" data-reactid=\"92\"><span data-reactid=\"93\">460.04</span></td>,\n",
       " <td class=\"Py(10px) Pstart(10px)\" data-reactid=\"94\"><span data-reactid=\"95\">52,520,500</span></td>]"
      ]
     },
     "execution_count": 384,
     "metadata": {},
     "output_type": "execute_result"
    }
   ],
   "source": [
    "columns[14:21]"
   ]
  },
  {
   "cell_type": "code",
   "execution_count": 387,
   "metadata": {},
   "outputs": [
    {
     "data": {
      "text/plain": [
       "'Aug 13, 2020'"
      ]
     },
     "execution_count": 387,
     "metadata": {},
     "output_type": "execute_result"
    }
   ],
   "source": [
    "third_date = str(columns[14])\n",
    "third_date = third_date[-24:-12]\n",
    "third_date"
   ]
  },
  {
   "cell_type": "code",
   "execution_count": 389,
   "metadata": {},
   "outputs": [
    {
     "data": {
      "text/plain": [
       "457.72"
      ]
     },
     "execution_count": 389,
     "metadata": {},
     "output_type": "execute_result"
    }
   ],
   "source": [
    "third_open_price = str(columns[15])\n",
    "third_open_price = third_open_price[-18:-12]\n",
    "third_open_price = float(third_open_price)\n",
    "third_open_price"
   ]
  },
  {
   "cell_type": "code",
   "execution_count": 391,
   "metadata": {},
   "outputs": [
    {
     "name": "stdout",
     "output_type": "stream",
     "text": [
      "460.04\n"
     ]
    }
   ],
   "source": [
    "third_adj_close_price = str(columns[19])\n",
    "third_adj_close_price = third_adj_close_price[-18:-12]\n",
    "third_adj_close_price = float(third_adj_close_price)\n",
    "print(third_adj_close_price)"
   ]
  },
  {
   "cell_type": "code",
   "execution_count": 412,
   "metadata": {},
   "outputs": [
    {
     "data": {
      "text/plain": [
       "[<td class=\"Py(10px) Ta(start) Pend(10px)\" data-reactid=\"97\"><span data-reactid=\"98\">Aug 12, 2020</span></td>,\n",
       " <td class=\"Py(10px) Pstart(10px)\" data-reactid=\"99\"><span data-reactid=\"100\">441.99</span></td>,\n",
       " <td class=\"Py(10px) Pstart(10px)\" data-reactid=\"101\"><span data-reactid=\"102\">453.10</span></td>,\n",
       " <td class=\"Py(10px) Pstart(10px)\" data-reactid=\"103\"><span data-reactid=\"104\">441.19</span></td>,\n",
       " <td class=\"Py(10px) Pstart(10px)\" data-reactid=\"105\"><span data-reactid=\"106\">452.04</span></td>,\n",
       " <td class=\"Py(10px) Pstart(10px)\" data-reactid=\"107\"><span data-reactid=\"108\">452.04</span></td>,\n",
       " <td class=\"Py(10px) Pstart(10px)\" data-reactid=\"109\"><span data-reactid=\"110\">41,486,200</span></td>]"
      ]
     },
     "execution_count": 412,
     "metadata": {},
     "output_type": "execute_result"
    }
   ],
   "source": [
    "columns[21:28]"
   ]
  },
  {
   "cell_type": "code",
   "execution_count": 414,
   "metadata": {},
   "outputs": [
    {
     "data": {
      "text/plain": [
       "'Aug 12, 2020'"
      ]
     },
     "execution_count": 414,
     "metadata": {},
     "output_type": "execute_result"
    }
   ],
   "source": [
    "fourth_date = str(columns[21])\n",
    "fourth_date = fourth_date[-24:-12]\n",
    "fourth_date"
   ]
  },
  {
   "cell_type": "code",
   "execution_count": 416,
   "metadata": {},
   "outputs": [
    {
     "data": {
      "text/plain": [
       "441.99"
      ]
     },
     "execution_count": 416,
     "metadata": {},
     "output_type": "execute_result"
    }
   ],
   "source": [
    "fourth_open_price = str(columns[22])\n",
    "fourth_open_price = fourth_open_price[-18:-12]\n",
    "fourth_open_price = float(fourth_open_price)\n",
    "fourth_open_price"
   ]
  },
  {
   "cell_type": "code",
   "execution_count": 419,
   "metadata": {},
   "outputs": [
    {
     "name": "stdout",
     "output_type": "stream",
     "text": [
      "452.04\n"
     ]
    }
   ],
   "source": [
    "fourth_adj_close_price = str(columns[26])\n",
    "fourth_adj_close_price = fourth_adj_close_price[-18:-12]\n",
    "fourth_adj_close_price = float(fourth_adj_close_price)\n",
    "print(fourth_adj_close_price)"
   ]
  },
  {
   "cell_type": "code",
   "execution_count": 420,
   "metadata": {},
   "outputs": [],
   "source": [
    "# Now that I have all my new information, I want to put it in a dictionary so I can create a dataframe, then \n",
    "# concatenate it with the apple_chart data\n",
    "data = {'Date':[new_date, second_date, third_date, fourth_date],\n",
    "        'Open':[new_open_price, second_open_price,third_open_price, fourth_open_price],\n",
    "        'Adj Close':[new_adj_close_price, second_adj_close_price,third_adj_close_price, fourth_adj_close_price]}"
   ]
  },
  {
   "cell_type": "code",
   "execution_count": 421,
   "metadata": {},
   "outputs": [],
   "source": [
    "new_information = pd.DataFrame(data = data)"
   ]
  },
  {
   "cell_type": "code",
   "execution_count": 422,
   "metadata": {},
   "outputs": [
    {
     "data": {
      "text/html": [
       "<div>\n",
       "<style scoped>\n",
       "    .dataframe tbody tr th:only-of-type {\n",
       "        vertical-align: middle;\n",
       "    }\n",
       "\n",
       "    .dataframe tbody tr th {\n",
       "        vertical-align: top;\n",
       "    }\n",
       "\n",
       "    .dataframe thead th {\n",
       "        text-align: right;\n",
       "    }\n",
       "</style>\n",
       "<table border=\"1\" class=\"dataframe\">\n",
       "  <thead>\n",
       "    <tr style=\"text-align: right;\">\n",
       "      <th></th>\n",
       "      <th>Date</th>\n",
       "      <th>Open</th>\n",
       "      <th>Adj Close</th>\n",
       "    </tr>\n",
       "  </thead>\n",
       "  <tbody>\n",
       "    <tr>\n",
       "      <td>0</td>\n",
       "      <td>Aug 17, 2020</td>\n",
       "      <td>464.25</td>\n",
       "      <td>457.82</td>\n",
       "    </tr>\n",
       "    <tr>\n",
       "      <td>1</td>\n",
       "      <td>Aug 14, 2020</td>\n",
       "      <td>459.32</td>\n",
       "      <td>459.63</td>\n",
       "    </tr>\n",
       "    <tr>\n",
       "      <td>2</td>\n",
       "      <td>Aug 13, 2020</td>\n",
       "      <td>457.72</td>\n",
       "      <td>460.04</td>\n",
       "    </tr>\n",
       "    <tr>\n",
       "      <td>3</td>\n",
       "      <td>Aug 12, 2020</td>\n",
       "      <td>441.99</td>\n",
       "      <td>452.04</td>\n",
       "    </tr>\n",
       "  </tbody>\n",
       "</table>\n",
       "</div>"
      ],
      "text/plain": [
       "           Date    Open  Adj Close\n",
       "0  Aug 17, 2020  464.25     457.82\n",
       "1  Aug 14, 2020  459.32     459.63\n",
       "2  Aug 13, 2020  457.72     460.04\n",
       "3  Aug 12, 2020  441.99     452.04"
      ]
     },
     "execution_count": 422,
     "metadata": {},
     "output_type": "execute_result"
    }
   ],
   "source": [
    "new_information"
   ]
  },
  {
   "cell_type": "code",
   "execution_count": 423,
   "metadata": {},
   "outputs": [],
   "source": [
    "# Set the Date column to the pandas datetime format\n",
    "new_information['Date'] = pd.to_datetime(new_information.Date)"
   ]
  },
  {
   "cell_type": "code",
   "execution_count": 424,
   "metadata": {},
   "outputs": [
    {
     "data": {
      "text/html": [
       "<div>\n",
       "<style scoped>\n",
       "    .dataframe tbody tr th:only-of-type {\n",
       "        vertical-align: middle;\n",
       "    }\n",
       "\n",
       "    .dataframe tbody tr th {\n",
       "        vertical-align: top;\n",
       "    }\n",
       "\n",
       "    .dataframe thead th {\n",
       "        text-align: right;\n",
       "    }\n",
       "</style>\n",
       "<table border=\"1\" class=\"dataframe\">\n",
       "  <thead>\n",
       "    <tr style=\"text-align: right;\">\n",
       "      <th></th>\n",
       "      <th>Date</th>\n",
       "      <th>Open</th>\n",
       "      <th>Adj Close</th>\n",
       "    </tr>\n",
       "  </thead>\n",
       "  <tbody>\n",
       "    <tr>\n",
       "      <td>0</td>\n",
       "      <td>2020-08-17</td>\n",
       "      <td>464.25</td>\n",
       "      <td>457.82</td>\n",
       "    </tr>\n",
       "    <tr>\n",
       "      <td>1</td>\n",
       "      <td>2020-08-14</td>\n",
       "      <td>459.32</td>\n",
       "      <td>459.63</td>\n",
       "    </tr>\n",
       "    <tr>\n",
       "      <td>2</td>\n",
       "      <td>2020-08-13</td>\n",
       "      <td>457.72</td>\n",
       "      <td>460.04</td>\n",
       "    </tr>\n",
       "    <tr>\n",
       "      <td>3</td>\n",
       "      <td>2020-08-12</td>\n",
       "      <td>441.99</td>\n",
       "      <td>452.04</td>\n",
       "    </tr>\n",
       "  </tbody>\n",
       "</table>\n",
       "</div>"
      ],
      "text/plain": [
       "        Date    Open  Adj Close\n",
       "0 2020-08-17  464.25     457.82\n",
       "1 2020-08-14  459.32     459.63\n",
       "2 2020-08-13  457.72     460.04\n",
       "3 2020-08-12  441.99     452.04"
      ]
     },
     "execution_count": 424,
     "metadata": {},
     "output_type": "execute_result"
    }
   ],
   "source": [
    "new_information"
   ]
  },
  {
   "cell_type": "code",
   "execution_count": 425,
   "metadata": {},
   "outputs": [],
   "source": [
    "# The dataframes will not merge unless they're the same type, so let's change the apple_chart date type as well\n",
    "apple_chart['Date'] = pd.to_datetime(apple_chart.Date)"
   ]
  },
  {
   "cell_type": "code",
   "execution_count": 426,
   "metadata": {},
   "outputs": [
    {
     "name": "stdout",
     "output_type": "stream",
     "text": [
      "<class 'pandas.core.frame.DataFrame'>\n",
      "RangeIndex: 1260 entries, 0 to 1259\n",
      "Data columns (total 3 columns):\n",
      "Date         1260 non-null datetime64[ns]\n",
      "Open         1260 non-null float64\n",
      "Adj Close    1260 non-null float64\n",
      "dtypes: datetime64[ns](1), float64(2)\n",
      "memory usage: 29.7 KB\n"
     ]
    }
   ],
   "source": [
    "# Make sure the type changes\n",
    "apple_chart.info()"
   ]
  },
  {
   "cell_type": "code",
   "execution_count": 435,
   "metadata": {},
   "outputs": [
    {
     "data": {
      "text/html": [
       "<div>\n",
       "<style scoped>\n",
       "    .dataframe tbody tr th:only-of-type {\n",
       "        vertical-align: middle;\n",
       "    }\n",
       "\n",
       "    .dataframe tbody tr th {\n",
       "        vertical-align: top;\n",
       "    }\n",
       "\n",
       "    .dataframe thead th {\n",
       "        text-align: right;\n",
       "    }\n",
       "</style>\n",
       "<table border=\"1\" class=\"dataframe\">\n",
       "  <thead>\n",
       "    <tr style=\"text-align: right;\">\n",
       "      <th></th>\n",
       "      <th>Adj Close</th>\n",
       "      <th>Date</th>\n",
       "      <th>Open</th>\n",
       "    </tr>\n",
       "  </thead>\n",
       "  <tbody>\n",
       "    <tr>\n",
       "      <td>1254</td>\n",
       "      <td>437.870514</td>\n",
       "      <td>2020-08-04</td>\n",
       "      <td>436.529999</td>\n",
       "    </tr>\n",
       "    <tr>\n",
       "      <td>1255</td>\n",
       "      <td>439.457642</td>\n",
       "      <td>2020-08-05</td>\n",
       "      <td>437.510010</td>\n",
       "    </tr>\n",
       "    <tr>\n",
       "      <td>1256</td>\n",
       "      <td>454.790009</td>\n",
       "      <td>2020-08-06</td>\n",
       "      <td>441.619995</td>\n",
       "    </tr>\n",
       "    <tr>\n",
       "      <td>1257</td>\n",
       "      <td>444.450012</td>\n",
       "      <td>2020-08-07</td>\n",
       "      <td>452.820007</td>\n",
       "    </tr>\n",
       "    <tr>\n",
       "      <td>1258</td>\n",
       "      <td>450.910004</td>\n",
       "      <td>2020-08-10</td>\n",
       "      <td>450.399994</td>\n",
       "    </tr>\n",
       "    <tr>\n",
       "      <td>1259</td>\n",
       "      <td>443.695007</td>\n",
       "      <td>2020-08-11</td>\n",
       "      <td>447.875000</td>\n",
       "    </tr>\n",
       "    <tr>\n",
       "      <td>1260</td>\n",
       "      <td>452.040000</td>\n",
       "      <td>2020-08-12</td>\n",
       "      <td>441.990000</td>\n",
       "    </tr>\n",
       "    <tr>\n",
       "      <td>1261</td>\n",
       "      <td>460.040000</td>\n",
       "      <td>2020-08-13</td>\n",
       "      <td>457.720000</td>\n",
       "    </tr>\n",
       "    <tr>\n",
       "      <td>1262</td>\n",
       "      <td>459.630000</td>\n",
       "      <td>2020-08-14</td>\n",
       "      <td>459.320000</td>\n",
       "    </tr>\n",
       "    <tr>\n",
       "      <td>1263</td>\n",
       "      <td>457.820000</td>\n",
       "      <td>2020-08-17</td>\n",
       "      <td>464.250000</td>\n",
       "    </tr>\n",
       "  </tbody>\n",
       "</table>\n",
       "</div>"
      ],
      "text/plain": [
       "       Adj Close       Date        Open\n",
       "1254  437.870514 2020-08-04  436.529999\n",
       "1255  439.457642 2020-08-05  437.510010\n",
       "1256  454.790009 2020-08-06  441.619995\n",
       "1257  444.450012 2020-08-07  452.820007\n",
       "1258  450.910004 2020-08-10  450.399994\n",
       "1259  443.695007 2020-08-11  447.875000\n",
       "1260  452.040000 2020-08-12  441.990000\n",
       "1261  460.040000 2020-08-13  457.720000\n",
       "1262  459.630000 2020-08-14  459.320000\n",
       "1263  457.820000 2020-08-17  464.250000"
      ]
     },
     "execution_count": 435,
     "metadata": {},
     "output_type": "execute_result"
    }
   ],
   "source": [
    "# Now concatenate the dataframes, reset the index and sort by date to have the information in order\n",
    "combined = pd.concat([apple_chart, new_information], sort = True)\n",
    "combined.sort_values(by = 'Date', inplace = True)\n",
    "combined.reset_index(drop = True, inplace = True)\n",
    "combined.tail(10)"
   ]
  },
  {
   "cell_type": "markdown",
   "metadata": {},
   "source": [
    "### We have successfully updated our dataframe, without redownloading a csv file and  are on our way to creating a function to update our graph daily"
   ]
  },
  {
   "cell_type": "code",
   "execution_count": null,
   "metadata": {},
   "outputs": [],
   "source": []
  }
 ],
 "metadata": {
  "kernelspec": {
   "display_name": "Python 3",
   "language": "python",
   "name": "python3"
  },
  "language_info": {
   "codemirror_mode": {
    "name": "ipython",
    "version": 3
   },
   "file_extension": ".py",
   "mimetype": "text/x-python",
   "name": "python",
   "nbconvert_exporter": "python",
   "pygments_lexer": "ipython3",
   "version": "3.7.4"
  }
 },
 "nbformat": 4,
 "nbformat_minor": 4
}
