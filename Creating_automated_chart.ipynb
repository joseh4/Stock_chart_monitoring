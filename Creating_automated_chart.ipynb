{
 "cells": [
  {
   "cell_type": "code",
   "execution_count": 2,
   "metadata": {},
   "outputs": [],
   "source": [
    "import pandas as pd\n",
    "import numpy as np\n",
    "import matplotlib.pyplot as plt\n",
    "%matplotlib inline\n",
    "import requests\n",
    "from bs4 import BeautifulSoup\n",
    "import re\n",
    "import schedule\n",
    "import time\n",
    "from io import StringIO\n",
    "from datetime import datetime, timedelta\n",
    "import plotly.graph_objects as go"
   ]
  },
  {
   "cell_type": "code",
   "execution_count": 7,
   "metadata": {
    "jupyter": {
     "source_hidden": true
    }
   },
   "outputs": [],
   "source": [
    "# This function is used to graph and chart the stock data\n",
    "def chart(data):\n",
    "    #Load the Data\n",
    "    df = pd.read_csv(data)\n",
    "    \n",
    "    #Create a simple moving average with a 30 day window\n",
    "    SMA_30 = pd.DataFrame()\n",
    "    SMA_30['Adj_Close_Price'] = df['Adj Close'].rolling(window = 30).mean()\n",
    "    SMA_30\n",
    "    \n",
    "    # Short moving average for 100 days\n",
    "    SMA_100 = pd.DataFrame()\n",
    "    SMA_100['Adj_close_price'] = df['Adj Close'].rolling(window = 100).mean()\n",
    "    SMA_100\n",
    "    \n",
    "    # Create a dataframe of all adj close prices\n",
    "    data = pd.DataFrame()\n",
    "    data['Date'] = df['Date']\n",
    "    data['AAL_adj_close'] = df['Adj Close']\n",
    "    data['SMA_30'] = SMA_30['Adj_Close_Price']\n",
    "    data['SMA_100']= SMA_100['Adj_close_price']\n",
    "    \n",
    "    #Create a Function to signal when to buy and sell\n",
    "    def buy_sell(data):\n",
    "        sig_price_buy = []\n",
    "        sig_price_sell = []\n",
    "        flag = -1\n",
    "\n",
    "        for i in range(len(data)):\n",
    "            if data['SMA_30'][i] > data['SMA_100'][i]:\n",
    "                if flag != 1:\n",
    "                    sig_price_buy.append(data['AAL_adj_close'][i])\n",
    "                    sig_price_sell.append(np.nan)\n",
    "                    flag = 1\n",
    "                else:\n",
    "                    sig_price_buy.append(np.nan)\n",
    "                    sig_price_sell.append(np.nan)\n",
    "            elif data['SMA_30'][i] < data['SMA_100'][i]:\n",
    "                if flag !=0:\n",
    "                    sig_price_buy.append(np.nan)\n",
    "                    sig_price_sell.append(data['AAL_adj_close'][i])\n",
    "                    flag = 0\n",
    "                else:\n",
    "                    sig_price_buy.append(np.nan)\n",
    "                    sig_price_sell.append(np.nan)\n",
    "            else:\n",
    "                sig_price_buy.append(np.nan)\n",
    "                sig_price_sell.append(np.nan)\n",
    "\n",
    "        return (sig_price_buy, sig_price_sell)\n",
    "    \n",
    "    #store the buy and sell data into a variable\n",
    "    buy_sell = buy_sell(data)\n",
    "    data['buy_signal_price'] = buy_sell[0]\n",
    "    data['sell_signal_price']=buy_sell[1]\n",
    "    \n",
    "    #Looking for the dates of the buy signals\n",
    "    buy_dates = data.loc[data['buy_signal_price']>0]\n",
    "    \n",
    "    #Looking for the dates of the sell signals\n",
    "    sell_dates = data.loc[data['sell_signal_price']>0]\n",
    "    \n",
    "    #Dropping uneccessary columns\n",
    "    buy_dates.drop(columns = ['sell_signal_price', 'SMA_30', 'SMA_100'], inplace = True)\n",
    "    sell_dates.drop(columns = ['buy_signal_price', 'SMA_30', 'SMA_100'], inplace = True)\n",
    "    \n",
    "    # DF of dates with prices\n",
    "    dates = pd.concat([buy_dates, sell_dates],sort = True)\n",
    "    \n",
    "    # Now to organize by the dates, drop adj_close price column, and make date the index\n",
    "    dates.sort_values(by = 'Date', inplace = True)\n",
    "    dates.drop(columns = ['AAL_adj_close'],inplace = True)\n",
    "    dates.set_index('Date', inplace = True)\n",
    "\n",
    "    #visualize data and strategy to buy and sell stock\n",
    "    ab = plt.figure(figsize=(20,12))\n",
    "    combined.Date = pd.to_datetime(combined.Date).dt.strftime('%b %d %Y')\n",
    "    last_date = combined['Date'].iloc[-1]\n",
    "    first_date = combined['Date'].iloc[0]\n",
    "    plt.plot(data['AAL_adj_close'],label = 'PMAC', alpha = 0.35)\n",
    "    plt.plot(data['SMA_30'], label = 'SMA30', alpha = 0.35)\n",
    "    plt.plot(data['SMA_100'],label = 'SMA100', alpha = 0.35)\n",
    "    plt.scatter(data.index, data['buy_signal_price'],label = 'Buy',marker = '^', color = 'green')\n",
    "    plt.scatter(data.index, data['sell_signal_price'], label = 'Sell', marker = 'v', color = 'red')\n",
    "    plt.title('{} adj close price history buy and sell signals'.format(x))\n",
    "    plt.xlabel('{} - {}'.format(first_date, last_date))\n",
    "    plt.ylabel('Adj close price USD')\n",
    "    plt.legend()\n",
    "    plt.show()\n",
    "    print(dates)\n",
    "\n",
    "    return \n"
   ]
  },
  {
   "cell_type": "code",
   "execution_count": 8,
   "metadata": {
    "jupyter": {
     "source_hidden": true
    }
   },
   "outputs": [],
   "source": [
    "# Webscraping method to pull past 5 dates. \n",
    "def new_data(stock_name):\n",
    "    # Now that we saved our chart from yahoo.com, we can scrape new data to update our csv file\n",
    "    # This cell's code has already been written above in seperate cells. This cell condenses the retreival process.\n",
    "    page = requests.get('https://finance.yahoo.com/quote/{}/history?p={}'.format(stock_name, stock_name))\n",
    "    soup = BeautifulSoup(page.content, 'html.parser')\n",
    "    info = soup.find('table', class_ = 'W(100%) M(0)')\n",
    "    columns = info.find_all('td')\n",
    "\n",
    "    # First new date\n",
    "    new_date = str(columns[0])\n",
    "    new_date = new_date[-24:-12]\n",
    "    \n",
    "    # Retrieving new open price\n",
    "    new_open_price = str(columns[1])\n",
    "    new_open_price = new_open_price[-26:-12]\n",
    "    new_open_price = new_open_price.replace(\"55\",\"\")\n",
    "    new_open_price = re.sub('\"|a|r|e|-|c|>|<|/|s|p|t|i|d|=|,',\"\",new_open_price)\n",
    "    new_open_price = float(new_open_price)\n",
    "    \n",
    "    # Retrieving new adjusted close price\n",
    "    new_adj_close_price = str(columns[5])\n",
    "    new_adj_close_price = new_adj_close_price[-26:-8]\n",
    "    new_adj_close_price = new_adj_close_price.replace(\"63\",\"\")\n",
    "    new_adj_close_price = re.sub('\"|a|r|e|-|c|>|<|/|s|p|t|i|d|=|,',\"\",new_adj_close_price)\n",
    "    new_adj_close_price = float(new_adj_close_price)\n",
    "\n",
    "\n",
    "    # Creating column_info dictionary to be uploaded to new df\n",
    "    column_info = {'Date':[new_date],\n",
    "            'Open':[new_open_price],\n",
    "            'Adj Close':[new_adj_close_price]}\n",
    "    \n",
    "    # New df name of new_information. This is the newly webscraped data\n",
    "    new_information = pd.DataFrame(data = column_info)\n",
    "    \n",
    "    # Change the 'Date' type to datetime so it can concat with pre-existing csv file\n",
    "    new_information['Date'] = pd.to_datetime(new_information.Date)    \n",
    "    \n",
    "    return new_information"
   ]
  },
  {
   "cell_type": "markdown",
   "metadata": {},
   "source": [
    "### The cell below combines the webscraping function as well as the SMA and graphing function for ease of use"
   ]
  },
  {
   "cell_type": "code",
   "execution_count": 9,
   "metadata": {
    "collapsed": true,
    "jupyter": {
     "outputs_hidden": true,
     "source_hidden": true
    }
   },
   "outputs": [
    {
     "name": "stdout",
     "output_type": "stream",
     "text": [
      "Enter Stock: \n"
     ]
    },
    {
     "ename": "KeyboardInterrupt",
     "evalue": "",
     "output_type": "error",
     "traceback": [
      "\u001b[0;31m---------------------------------------------------------------------------\u001b[0m",
      "\u001b[0;31mKeyboardInterrupt\u001b[0m                         Traceback (most recent call last)",
      "\u001b[0;32m~/opt/anaconda3/lib/python3.7/site-packages/ipykernel/kernelbase.py\u001b[0m in \u001b[0;36m_input_request\u001b[0;34m(self, prompt, ident, parent, password)\u001b[0m\n\u001b[1;32m    884\u001b[0m             \u001b[0;32mtry\u001b[0m\u001b[0;34m:\u001b[0m\u001b[0;34m\u001b[0m\u001b[0;34m\u001b[0m\u001b[0m\n\u001b[0;32m--> 885\u001b[0;31m                 \u001b[0mident\u001b[0m\u001b[0;34m,\u001b[0m \u001b[0mreply\u001b[0m \u001b[0;34m=\u001b[0m \u001b[0mself\u001b[0m\u001b[0;34m.\u001b[0m\u001b[0msession\u001b[0m\u001b[0;34m.\u001b[0m\u001b[0mrecv\u001b[0m\u001b[0;34m(\u001b[0m\u001b[0mself\u001b[0m\u001b[0;34m.\u001b[0m\u001b[0mstdin_socket\u001b[0m\u001b[0;34m,\u001b[0m \u001b[0;36m0\u001b[0m\u001b[0;34m)\u001b[0m\u001b[0;34m\u001b[0m\u001b[0;34m\u001b[0m\u001b[0m\n\u001b[0m\u001b[1;32m    886\u001b[0m             \u001b[0;32mexcept\u001b[0m \u001b[0mException\u001b[0m\u001b[0;34m:\u001b[0m\u001b[0;34m\u001b[0m\u001b[0;34m\u001b[0m\u001b[0m\n",
      "\u001b[0;32m~/opt/anaconda3/lib/python3.7/site-packages/jupyter_client/session.py\u001b[0m in \u001b[0;36mrecv\u001b[0;34m(self, socket, mode, content, copy)\u001b[0m\n\u001b[1;32m    802\u001b[0m         \u001b[0;32mtry\u001b[0m\u001b[0;34m:\u001b[0m\u001b[0;34m\u001b[0m\u001b[0;34m\u001b[0m\u001b[0m\n\u001b[0;32m--> 803\u001b[0;31m             \u001b[0mmsg_list\u001b[0m \u001b[0;34m=\u001b[0m \u001b[0msocket\u001b[0m\u001b[0;34m.\u001b[0m\u001b[0mrecv_multipart\u001b[0m\u001b[0;34m(\u001b[0m\u001b[0mmode\u001b[0m\u001b[0;34m,\u001b[0m \u001b[0mcopy\u001b[0m\u001b[0;34m=\u001b[0m\u001b[0mcopy\u001b[0m\u001b[0;34m)\u001b[0m\u001b[0;34m\u001b[0m\u001b[0;34m\u001b[0m\u001b[0m\n\u001b[0m\u001b[1;32m    804\u001b[0m         \u001b[0;32mexcept\u001b[0m \u001b[0mzmq\u001b[0m\u001b[0;34m.\u001b[0m\u001b[0mZMQError\u001b[0m \u001b[0;32mas\u001b[0m \u001b[0me\u001b[0m\u001b[0;34m:\u001b[0m\u001b[0;34m\u001b[0m\u001b[0;34m\u001b[0m\u001b[0m\n",
      "\u001b[0;32m~/opt/anaconda3/lib/python3.7/site-packages/zmq/sugar/socket.py\u001b[0m in \u001b[0;36mrecv_multipart\u001b[0;34m(self, flags, copy, track)\u001b[0m\n\u001b[1;32m    474\u001b[0m         \"\"\"\n\u001b[0;32m--> 475\u001b[0;31m         \u001b[0mparts\u001b[0m \u001b[0;34m=\u001b[0m \u001b[0;34m[\u001b[0m\u001b[0mself\u001b[0m\u001b[0;34m.\u001b[0m\u001b[0mrecv\u001b[0m\u001b[0;34m(\u001b[0m\u001b[0mflags\u001b[0m\u001b[0;34m,\u001b[0m \u001b[0mcopy\u001b[0m\u001b[0;34m=\u001b[0m\u001b[0mcopy\u001b[0m\u001b[0;34m,\u001b[0m \u001b[0mtrack\u001b[0m\u001b[0;34m=\u001b[0m\u001b[0mtrack\u001b[0m\u001b[0;34m)\u001b[0m\u001b[0;34m]\u001b[0m\u001b[0;34m\u001b[0m\u001b[0;34m\u001b[0m\u001b[0m\n\u001b[0m\u001b[1;32m    476\u001b[0m         \u001b[0;31m# have first part already, only loop while more to receive\u001b[0m\u001b[0;34m\u001b[0m\u001b[0;34m\u001b[0m\u001b[0;34m\u001b[0m\u001b[0m\n",
      "\u001b[0;32mzmq/backend/cython/socket.pyx\u001b[0m in \u001b[0;36mzmq.backend.cython.socket.Socket.recv\u001b[0;34m()\u001b[0m\n",
      "\u001b[0;32mzmq/backend/cython/socket.pyx\u001b[0m in \u001b[0;36mzmq.backend.cython.socket.Socket.recv\u001b[0;34m()\u001b[0m\n",
      "\u001b[0;32mzmq/backend/cython/socket.pyx\u001b[0m in \u001b[0;36mzmq.backend.cython.socket._recv_copy\u001b[0;34m()\u001b[0m\n",
      "\u001b[0;32m~/opt/anaconda3/lib/python3.7/site-packages/zmq/backend/cython/checkrc.pxd\u001b[0m in \u001b[0;36mzmq.backend.cython.checkrc._check_rc\u001b[0;34m()\u001b[0m\n",
      "\u001b[0;31mKeyboardInterrupt\u001b[0m: ",
      "\nDuring handling of the above exception, another exception occurred:\n",
      "\u001b[0;31mKeyboardInterrupt\u001b[0m                         Traceback (most recent call last)",
      "\u001b[0;32m<ipython-input-9-2a2c15d473c2>\u001b[0m in \u001b[0;36m<module>\u001b[0;34m\u001b[0m\n\u001b[1;32m      1\u001b[0m \u001b[0;31m# Enter the stock you would like to see from your library\u001b[0m\u001b[0;34m\u001b[0m\u001b[0;34m\u001b[0m\u001b[0;34m\u001b[0m\u001b[0m\n\u001b[1;32m      2\u001b[0m \u001b[0mprint\u001b[0m\u001b[0;34m(\u001b[0m\u001b[0;34m'Enter Stock: '\u001b[0m\u001b[0;34m)\u001b[0m\u001b[0;34m\u001b[0m\u001b[0;34m\u001b[0m\u001b[0m\n\u001b[0;32m----> 3\u001b[0;31m \u001b[0mx\u001b[0m \u001b[0;34m=\u001b[0m \u001b[0minput\u001b[0m\u001b[0;34m(\u001b[0m\u001b[0;34m)\u001b[0m\u001b[0;34m\u001b[0m\u001b[0;34m\u001b[0m\u001b[0m\n\u001b[0m\u001b[1;32m      4\u001b[0m \u001b[0;34m\u001b[0m\u001b[0m\n\u001b[1;32m      5\u001b[0m \u001b[0;31m# Create a df from the new_data function that will retrieve the stock information you enter\u001b[0m\u001b[0;34m\u001b[0m\u001b[0;34m\u001b[0m\u001b[0;34m\u001b[0m\u001b[0m\n",
      "\u001b[0;32m~/opt/anaconda3/lib/python3.7/site-packages/ipykernel/kernelbase.py\u001b[0m in \u001b[0;36mraw_input\u001b[0;34m(self, prompt)\u001b[0m\n\u001b[1;32m    858\u001b[0m             \u001b[0mself\u001b[0m\u001b[0;34m.\u001b[0m\u001b[0m_parent_ident\u001b[0m\u001b[0;34m,\u001b[0m\u001b[0;34m\u001b[0m\u001b[0;34m\u001b[0m\u001b[0m\n\u001b[1;32m    859\u001b[0m             \u001b[0mself\u001b[0m\u001b[0;34m.\u001b[0m\u001b[0m_parent_header\u001b[0m\u001b[0;34m,\u001b[0m\u001b[0;34m\u001b[0m\u001b[0;34m\u001b[0m\u001b[0m\n\u001b[0;32m--> 860\u001b[0;31m             \u001b[0mpassword\u001b[0m\u001b[0;34m=\u001b[0m\u001b[0;32mFalse\u001b[0m\u001b[0;34m,\u001b[0m\u001b[0;34m\u001b[0m\u001b[0;34m\u001b[0m\u001b[0m\n\u001b[0m\u001b[1;32m    861\u001b[0m         )\n\u001b[1;32m    862\u001b[0m \u001b[0;34m\u001b[0m\u001b[0m\n",
      "\u001b[0;32m~/opt/anaconda3/lib/python3.7/site-packages/ipykernel/kernelbase.py\u001b[0m in \u001b[0;36m_input_request\u001b[0;34m(self, prompt, ident, parent, password)\u001b[0m\n\u001b[1;32m    888\u001b[0m             \u001b[0;32mexcept\u001b[0m \u001b[0mKeyboardInterrupt\u001b[0m\u001b[0;34m:\u001b[0m\u001b[0;34m\u001b[0m\u001b[0;34m\u001b[0m\u001b[0m\n\u001b[1;32m    889\u001b[0m                 \u001b[0;31m# re-raise KeyboardInterrupt, to truncate traceback\u001b[0m\u001b[0;34m\u001b[0m\u001b[0;34m\u001b[0m\u001b[0;34m\u001b[0m\u001b[0m\n\u001b[0;32m--> 890\u001b[0;31m                 \u001b[0;32mraise\u001b[0m \u001b[0mKeyboardInterrupt\u001b[0m\u001b[0;34m\u001b[0m\u001b[0;34m\u001b[0m\u001b[0m\n\u001b[0m\u001b[1;32m    891\u001b[0m             \u001b[0;32melse\u001b[0m\u001b[0;34m:\u001b[0m\u001b[0;34m\u001b[0m\u001b[0;34m\u001b[0m\u001b[0m\n\u001b[1;32m    892\u001b[0m                 \u001b[0;32mbreak\u001b[0m\u001b[0;34m\u001b[0m\u001b[0;34m\u001b[0m\u001b[0m\n",
      "\u001b[0;31mKeyboardInterrupt\u001b[0m: "
     ]
    }
   ],
   "source": [
    "# Enter the stock you would like to see from your library\n",
    "print('Enter Stock: ')\n",
    "x = input()\n",
    "\n",
    "# Create a df from the new_data function that will retrieve the stock information you enter\n",
    "new_info = new_data(f'{x}')\n",
    "\n",
    "# When the data is scraped, the time 00:00:00 also comes with it. That will not concat with our data\n",
    "# so we need to get rid of it\n",
    "new_info['Date'] = pd.to_datetime(new_info['Date']).dt.date\n",
    "\n",
    "# Make sure the Date type is datetime so it concats properly\n",
    "new_info['Date'] = pd.to_datetime(new_info.Date)\n",
    "\n",
    "# Read in our existing data\n",
    "stock_chart = pd.read_csv('{}.csv'.format(x))\n",
    "\n",
    "# Make sure the Date type is datetime so it concats properly\n",
    "stock_chart['Date'] = pd.to_datetime(stock_chart.Date)\n",
    "\n",
    "# Now we combined our newly webscraped data with our csv file\n",
    "combined = pd.concat([stock_chart, new_info], sort = False)\n",
    "combined.sort_values(by = 'Date', inplace = True)\n",
    "combined.reset_index(drop = True, inplace = True)\n",
    "combined.drop_duplicates(subset = ['Date'], inplace = True)\n",
    "combined = combined[['Date', 'Open', 'Adj Close']]\n",
    "\n",
    "# Save the combined data to a csv file\n",
    "combined.to_csv(f'{x}.csv', index = False)\n",
    "\n",
    "# Now to use our chart function to get a visual representaion of our data\n",
    "chart(f'{x}.csv')"
   ]
  },
  {
   "cell_type": "markdown",
   "metadata": {},
   "source": [
    "### Next goal is to create a code to automatically run each stock when the market opens, then every hour on the hour"
   ]
  },
  {
   "cell_type": "markdown",
   "metadata": {},
   "source": [
    "### On Aug 31, 2020, many companies split their stocks and my code broke. The second line on yahoo finance gave the date and the split ratio. The split ratio cannot be used in the process of craping, so creating an automated function to pull the first line of data is important."
   ]
  },
  {
   "cell_type": "code",
   "execution_count": 55,
   "metadata": {
    "collapsed": true,
    "jupyter": {
     "outputs_hidden": true
    }
   },
   "outputs": [
    {
     "data": {
      "text/html": [
       "<div>\n",
       "<style scoped>\n",
       "    .dataframe tbody tr th:only-of-type {\n",
       "        vertical-align: middle;\n",
       "    }\n",
       "\n",
       "    .dataframe tbody tr th {\n",
       "        vertical-align: top;\n",
       "    }\n",
       "\n",
       "    .dataframe thead th {\n",
       "        text-align: right;\n",
       "    }\n",
       "</style>\n",
       "<table border=\"1\" class=\"dataframe\">\n",
       "  <thead>\n",
       "    <tr style=\"text-align: right;\">\n",
       "      <th></th>\n",
       "      <th>Date</th>\n",
       "      <th>Open</th>\n",
       "      <th>High</th>\n",
       "      <th>Low</th>\n",
       "      <th>Close</th>\n",
       "      <th>Adj Close</th>\n",
       "      <th>Volume</th>\n",
       "    </tr>\n",
       "  </thead>\n",
       "  <tbody>\n",
       "    <tr>\n",
       "      <td>0</td>\n",
       "      <td>2019-09-03</td>\n",
       "      <td>51.607498</td>\n",
       "      <td>51.744999</td>\n",
       "      <td>51.055000</td>\n",
       "      <td>51.424999</td>\n",
       "      <td>50.919777</td>\n",
       "      <td>80092000</td>\n",
       "    </tr>\n",
       "    <tr>\n",
       "      <td>1</td>\n",
       "      <td>2019-09-04</td>\n",
       "      <td>52.097500</td>\n",
       "      <td>52.369999</td>\n",
       "      <td>51.830002</td>\n",
       "      <td>52.297501</td>\n",
       "      <td>51.783714</td>\n",
       "      <td>76752400</td>\n",
       "    </tr>\n",
       "    <tr>\n",
       "      <td>2</td>\n",
       "      <td>2019-09-05</td>\n",
       "      <td>53.000000</td>\n",
       "      <td>53.492500</td>\n",
       "      <td>52.877499</td>\n",
       "      <td>53.320000</td>\n",
       "      <td>52.796162</td>\n",
       "      <td>95654800</td>\n",
       "    </tr>\n",
       "    <tr>\n",
       "      <td>3</td>\n",
       "      <td>2019-09-06</td>\n",
       "      <td>53.512501</td>\n",
       "      <td>53.605000</td>\n",
       "      <td>53.127499</td>\n",
       "      <td>53.314999</td>\n",
       "      <td>52.791210</td>\n",
       "      <td>77449200</td>\n",
       "    </tr>\n",
       "    <tr>\n",
       "      <td>4</td>\n",
       "      <td>2019-09-09</td>\n",
       "      <td>53.709999</td>\n",
       "      <td>54.110001</td>\n",
       "      <td>52.767502</td>\n",
       "      <td>53.542500</td>\n",
       "      <td>53.016479</td>\n",
       "      <td>109237600</td>\n",
       "    </tr>\n",
       "    <tr>\n",
       "      <td>...</td>\n",
       "      <td>...</td>\n",
       "      <td>...</td>\n",
       "      <td>...</td>\n",
       "      <td>...</td>\n",
       "      <td>...</td>\n",
       "      <td>...</td>\n",
       "      <td>...</td>\n",
       "    </tr>\n",
       "    <tr>\n",
       "      <td>245</td>\n",
       "      <td>2020-08-21</td>\n",
       "      <td>119.262497</td>\n",
       "      <td>124.867500</td>\n",
       "      <td>119.250000</td>\n",
       "      <td>124.370003</td>\n",
       "      <td>124.370003</td>\n",
       "      <td>338054800</td>\n",
       "    </tr>\n",
       "    <tr>\n",
       "      <td>246</td>\n",
       "      <td>2020-08-24</td>\n",
       "      <td>128.697495</td>\n",
       "      <td>128.785004</td>\n",
       "      <td>123.937500</td>\n",
       "      <td>125.857498</td>\n",
       "      <td>125.857498</td>\n",
       "      <td>345937600</td>\n",
       "    </tr>\n",
       "    <tr>\n",
       "      <td>247</td>\n",
       "      <td>2020-08-25</td>\n",
       "      <td>124.697502</td>\n",
       "      <td>125.180000</td>\n",
       "      <td>123.052498</td>\n",
       "      <td>124.824997</td>\n",
       "      <td>124.824997</td>\n",
       "      <td>211495600</td>\n",
       "    </tr>\n",
       "    <tr>\n",
       "      <td>248</td>\n",
       "      <td>2020-08-26</td>\n",
       "      <td>126.180000</td>\n",
       "      <td>126.992500</td>\n",
       "      <td>125.082497</td>\n",
       "      <td>126.522499</td>\n",
       "      <td>126.522499</td>\n",
       "      <td>163022400</td>\n",
       "    </tr>\n",
       "    <tr>\n",
       "      <td>249</td>\n",
       "      <td>2020-08-27</td>\n",
       "      <td>127.142502</td>\n",
       "      <td>127.485001</td>\n",
       "      <td>123.832497</td>\n",
       "      <td>125.010002</td>\n",
       "      <td>125.010002</td>\n",
       "      <td>155552400</td>\n",
       "    </tr>\n",
       "  </tbody>\n",
       "</table>\n",
       "<p>250 rows × 7 columns</p>\n",
       "</div>"
      ],
      "text/plain": [
       "           Date        Open        High         Low       Close   Adj Close  \\\n",
       "0    2019-09-03   51.607498   51.744999   51.055000   51.424999   50.919777   \n",
       "1    2019-09-04   52.097500   52.369999   51.830002   52.297501   51.783714   \n",
       "2    2019-09-05   53.000000   53.492500   52.877499   53.320000   52.796162   \n",
       "3    2019-09-06   53.512501   53.605000   53.127499   53.314999   52.791210   \n",
       "4    2019-09-09   53.709999   54.110001   52.767502   53.542500   53.016479   \n",
       "..          ...         ...         ...         ...         ...         ...   \n",
       "245  2020-08-21  119.262497  124.867500  119.250000  124.370003  124.370003   \n",
       "246  2020-08-24  128.697495  128.785004  123.937500  125.857498  125.857498   \n",
       "247  2020-08-25  124.697502  125.180000  123.052498  124.824997  124.824997   \n",
       "248  2020-08-26  126.180000  126.992500  125.082497  126.522499  126.522499   \n",
       "249  2020-08-27  127.142502  127.485001  123.832497  125.010002  125.010002   \n",
       "\n",
       "        Volume  \n",
       "0     80092000  \n",
       "1     76752400  \n",
       "2     95654800  \n",
       "3     77449200  \n",
       "4    109237600  \n",
       "..         ...  \n",
       "245  338054800  \n",
       "246  345937600  \n",
       "247  211495600  \n",
       "248  163022400  \n",
       "249  155552400  \n",
       "\n",
       "[250 rows x 7 columns]"
      ]
     },
     "execution_count": 55,
     "metadata": {},
     "output_type": "execute_result"
    }
   ],
   "source": [
    "pd.read_csv('AAPL.csv')"
   ]
  },
  {
   "cell_type": "code",
   "execution_count": 56,
   "metadata": {
    "collapsed": true,
    "jupyter": {
     "outputs_hidden": true
    }
   },
   "outputs": [
    {
     "data": {
      "text/html": [
       "<div>\n",
       "<style scoped>\n",
       "    .dataframe tbody tr th:only-of-type {\n",
       "        vertical-align: middle;\n",
       "    }\n",
       "\n",
       "    .dataframe tbody tr th {\n",
       "        vertical-align: top;\n",
       "    }\n",
       "\n",
       "    .dataframe thead th {\n",
       "        text-align: right;\n",
       "    }\n",
       "</style>\n",
       "<table border=\"1\" class=\"dataframe\">\n",
       "  <thead>\n",
       "    <tr style=\"text-align: right;\">\n",
       "      <th></th>\n",
       "      <th>Date</th>\n",
       "      <th>Open</th>\n",
       "      <th>High</th>\n",
       "      <th>Low</th>\n",
       "      <th>Close</th>\n",
       "      <th>Adj Close</th>\n",
       "      <th>Volume</th>\n",
       "    </tr>\n",
       "  </thead>\n",
       "  <tbody>\n",
       "    <tr>\n",
       "      <td>0</td>\n",
       "      <td>2019-09-03</td>\n",
       "      <td>44.816002</td>\n",
       "      <td>45.790001</td>\n",
       "      <td>44.632000</td>\n",
       "      <td>45.001999</td>\n",
       "      <td>45.001999</td>\n",
       "      <td>26770500</td>\n",
       "    </tr>\n",
       "    <tr>\n",
       "      <td>1</td>\n",
       "      <td>2019-09-04</td>\n",
       "      <td>45.377998</td>\n",
       "      <td>45.692001</td>\n",
       "      <td>43.841999</td>\n",
       "      <td>44.136002</td>\n",
       "      <td>44.136002</td>\n",
       "      <td>28805000</td>\n",
       "    </tr>\n",
       "    <tr>\n",
       "      <td>2</td>\n",
       "      <td>2019-09-05</td>\n",
       "      <td>44.500000</td>\n",
       "      <td>45.959999</td>\n",
       "      <td>44.169998</td>\n",
       "      <td>45.916000</td>\n",
       "      <td>45.916000</td>\n",
       "      <td>36976500</td>\n",
       "    </tr>\n",
       "    <tr>\n",
       "      <td>3</td>\n",
       "      <td>2019-09-06</td>\n",
       "      <td>45.439999</td>\n",
       "      <td>45.928001</td>\n",
       "      <td>45.034000</td>\n",
       "      <td>45.490002</td>\n",
       "      <td>45.490002</td>\n",
       "      <td>20947000</td>\n",
       "    </tr>\n",
       "    <tr>\n",
       "      <td>4</td>\n",
       "      <td>2019-09-09</td>\n",
       "      <td>46.000000</td>\n",
       "      <td>46.751999</td>\n",
       "      <td>45.846001</td>\n",
       "      <td>46.358002</td>\n",
       "      <td>46.358002</td>\n",
       "      <td>24013500</td>\n",
       "    </tr>\n",
       "    <tr>\n",
       "      <td>...</td>\n",
       "      <td>...</td>\n",
       "      <td>...</td>\n",
       "      <td>...</td>\n",
       "      <td>...</td>\n",
       "      <td>...</td>\n",
       "      <td>...</td>\n",
       "      <td>...</td>\n",
       "    </tr>\n",
       "    <tr>\n",
       "      <td>245</td>\n",
       "      <td>2020-08-21</td>\n",
       "      <td>408.951996</td>\n",
       "      <td>419.097992</td>\n",
       "      <td>405.010010</td>\n",
       "      <td>409.996002</td>\n",
       "      <td>409.996002</td>\n",
       "      <td>107448000</td>\n",
       "    </tr>\n",
       "    <tr>\n",
       "      <td>246</td>\n",
       "      <td>2020-08-24</td>\n",
       "      <td>425.256012</td>\n",
       "      <td>425.799988</td>\n",
       "      <td>385.503998</td>\n",
       "      <td>402.839996</td>\n",
       "      <td>402.839996</td>\n",
       "      <td>100318000</td>\n",
       "    </tr>\n",
       "    <tr>\n",
       "      <td>247</td>\n",
       "      <td>2020-08-25</td>\n",
       "      <td>394.977997</td>\n",
       "      <td>405.589996</td>\n",
       "      <td>393.600006</td>\n",
       "      <td>404.667999</td>\n",
       "      <td>404.667999</td>\n",
       "      <td>53294500</td>\n",
       "    </tr>\n",
       "    <tr>\n",
       "      <td>248</td>\n",
       "      <td>2020-08-26</td>\n",
       "      <td>412.000000</td>\n",
       "      <td>433.200012</td>\n",
       "      <td>410.726013</td>\n",
       "      <td>430.634003</td>\n",
       "      <td>430.634003</td>\n",
       "      <td>71197000</td>\n",
       "    </tr>\n",
       "    <tr>\n",
       "      <td>249</td>\n",
       "      <td>2020-08-27</td>\n",
       "      <td>436.092010</td>\n",
       "      <td>459.119995</td>\n",
       "      <td>428.500000</td>\n",
       "      <td>447.750000</td>\n",
       "      <td>447.750000</td>\n",
       "      <td>118465000</td>\n",
       "    </tr>\n",
       "  </tbody>\n",
       "</table>\n",
       "<p>250 rows × 7 columns</p>\n",
       "</div>"
      ],
      "text/plain": [
       "           Date        Open        High         Low       Close   Adj Close  \\\n",
       "0    2019-09-03   44.816002   45.790001   44.632000   45.001999   45.001999   \n",
       "1    2019-09-04   45.377998   45.692001   43.841999   44.136002   44.136002   \n",
       "2    2019-09-05   44.500000   45.959999   44.169998   45.916000   45.916000   \n",
       "3    2019-09-06   45.439999   45.928001   45.034000   45.490002   45.490002   \n",
       "4    2019-09-09   46.000000   46.751999   45.846001   46.358002   46.358002   \n",
       "..          ...         ...         ...         ...         ...         ...   \n",
       "245  2020-08-21  408.951996  419.097992  405.010010  409.996002  409.996002   \n",
       "246  2020-08-24  425.256012  425.799988  385.503998  402.839996  402.839996   \n",
       "247  2020-08-25  394.977997  405.589996  393.600006  404.667999  404.667999   \n",
       "248  2020-08-26  412.000000  433.200012  410.726013  430.634003  430.634003   \n",
       "249  2020-08-27  436.092010  459.119995  428.500000  447.750000  447.750000   \n",
       "\n",
       "        Volume  \n",
       "0     26770500  \n",
       "1     28805000  \n",
       "2     36976500  \n",
       "3     20947000  \n",
       "4     24013500  \n",
       "..         ...  \n",
       "245  107448000  \n",
       "246  100318000  \n",
       "247   53294500  \n",
       "248   71197000  \n",
       "249  118465000  \n",
       "\n",
       "[250 rows x 7 columns]"
      ]
     },
     "execution_count": 56,
     "metadata": {},
     "output_type": "execute_result"
    }
   ],
   "source": [
    "pd.read_csv('TSLA.csv')"
   ]
  },
  {
   "cell_type": "markdown",
   "metadata": {},
   "source": [
    "Creating Function to webscrape multiple stocks"
   ]
  },
  {
   "cell_type": "code",
   "execution_count": 4,
   "metadata": {},
   "outputs": [],
   "source": [
    "def get_info(stocks):\n",
    "    # Webscraping method to pull past 5 dates. \n",
    "    # Now that we saved our chart from yahoo.com, we can scrape new data to update our csv file\n",
    "    # This cell's code has already been written above in seperate cells. This cell condenses the retreival process.\n",
    "\n",
    "    stocks = ['AAPL','TSLA']\n",
    "    for stock_name in stocks:\n",
    "        stock_name = stock_name.strip()\n",
    "        print(stock_name)\n",
    "        page = requests.get('https://finance.yahoo.com/quote/{}/history?p={}'.format(stock_name, stock_name))\n",
    "        soup = BeautifulSoup(page.content, 'html.parser')\n",
    "        info = soup.find('table', class_ = 'W(100%) M(0)')\n",
    "        columns = info.find_all('td')\n",
    "\n",
    "        # First new date\n",
    "        new_date = str(columns[0])\n",
    "        new_date = new_date[-24:-12]\n",
    "\n",
    "        # Retrieving new open price\n",
    "        new_open_price = str(columns[1])\n",
    "        new_open_price = new_open_price[-26:-12]\n",
    "        new_open_price = new_open_price.replace(\"55\",\"\")\n",
    "        new_open_price = re.sub('\"|a|r|e|-|c|>|<|/|s|p|t|i|d|=|,',\"\",new_open_price)\n",
    "        new_open_price = float(new_open_price)\n",
    "\n",
    "        # Retrieving new adjusted close price\n",
    "        new_adj_close_price = str(columns[5])\n",
    "        new_adj_close_price = new_adj_close_price[-26:-8]\n",
    "        new_adj_close_price = new_adj_close_price.replace(\"63\",\"\")\n",
    "        new_adj_close_price = re.sub('\"|a|r|e|-|c|>|<|/|s|p|t|i|d|=|,',\"\",new_adj_close_price)\n",
    "        new_adj_close_price = float(new_adj_close_price)\n",
    "\n",
    "        # Creating column_info dictionary to be uploaded to new df\n",
    "        column_info = {'Date':[new_date],\n",
    "                'Open':[new_open_price],\n",
    "                'Adj Close':[new_adj_close_price]}\n",
    "\n",
    "        # New df name of new_information. This is the newly webscraped data\n",
    "        new_info = pd.DataFrame(data = column_info)\n",
    "        new_info['Date'] = pd.to_datetime(new_info['Date']).dt.date\n",
    "\n",
    "\n",
    "        # Read in our existing data\n",
    "        stock_chart = pd.read_csv(f'{stock_name}.csv')\n",
    "        stock_chart['Date'] = pd.to_datetime(stock_chart['Date']).dt.date\n",
    "\n",
    "\n",
    "        # Make sure the Date type is datetime so it concats properly\n",
    "\n",
    "        # Now we combined our newly webscraped data with our csv file\n",
    "        combined = pd.concat([stock_chart, new_info], sort = False)\n",
    "        combined.sort_values(by = 'Date', inplace = True)\n",
    "        combined.reset_index(drop = True, inplace = True)\n",
    "        combined.drop_duplicates(subset = ['Date'], inplace = True)\n",
    "        combined = combined[['Date', 'Open', 'Adj Close']]\n",
    "        # Save the combined data to a csv file\n",
    "        combined.to_csv(f'{stock_name}.csv', index = False)"
   ]
  },
  {
   "cell_type": "code",
   "execution_count": 67,
   "metadata": {
    "jupyter": {
     "source_hidden": true
    }
   },
   "outputs": [
    {
     "name": "stdout",
     "output_type": "stream",
     "text": [
      "AAPL\n",
      "TSLA\n"
     ]
    }
   ],
   "source": [
    "get_info('stocks')"
   ]
  },
  {
   "cell_type": "code",
   "execution_count": 68,
   "metadata": {
    "collapsed": true,
    "jupyter": {
     "outputs_hidden": true,
     "source_hidden": true
    }
   },
   "outputs": [
    {
     "data": {
      "text/html": [
       "<div>\n",
       "<style scoped>\n",
       "    .dataframe tbody tr th:only-of-type {\n",
       "        vertical-align: middle;\n",
       "    }\n",
       "\n",
       "    .dataframe tbody tr th {\n",
       "        vertical-align: top;\n",
       "    }\n",
       "\n",
       "    .dataframe thead th {\n",
       "        text-align: right;\n",
       "    }\n",
       "</style>\n",
       "<table border=\"1\" class=\"dataframe\">\n",
       "  <thead>\n",
       "    <tr style=\"text-align: right;\">\n",
       "      <th></th>\n",
       "      <th>Date</th>\n",
       "      <th>Open</th>\n",
       "      <th>Adj Close</th>\n",
       "    </tr>\n",
       "  </thead>\n",
       "  <tbody>\n",
       "    <tr>\n",
       "      <td>0</td>\n",
       "      <td>2019-09-03</td>\n",
       "      <td>51.607498</td>\n",
       "      <td>50.919777</td>\n",
       "    </tr>\n",
       "    <tr>\n",
       "      <td>1</td>\n",
       "      <td>2019-09-04</td>\n",
       "      <td>52.097500</td>\n",
       "      <td>51.783714</td>\n",
       "    </tr>\n",
       "    <tr>\n",
       "      <td>2</td>\n",
       "      <td>2019-09-05</td>\n",
       "      <td>53.000000</td>\n",
       "      <td>52.796162</td>\n",
       "    </tr>\n",
       "    <tr>\n",
       "      <td>3</td>\n",
       "      <td>2019-09-06</td>\n",
       "      <td>53.512501</td>\n",
       "      <td>52.791210</td>\n",
       "    </tr>\n",
       "    <tr>\n",
       "      <td>4</td>\n",
       "      <td>2019-09-09</td>\n",
       "      <td>53.709999</td>\n",
       "      <td>53.016479</td>\n",
       "    </tr>\n",
       "    <tr>\n",
       "      <td>...</td>\n",
       "      <td>...</td>\n",
       "      <td>...</td>\n",
       "      <td>...</td>\n",
       "    </tr>\n",
       "    <tr>\n",
       "      <td>246</td>\n",
       "      <td>2020-08-24</td>\n",
       "      <td>128.697495</td>\n",
       "      <td>125.857498</td>\n",
       "    </tr>\n",
       "    <tr>\n",
       "      <td>247</td>\n",
       "      <td>2020-08-25</td>\n",
       "      <td>124.697502</td>\n",
       "      <td>124.824997</td>\n",
       "    </tr>\n",
       "    <tr>\n",
       "      <td>248</td>\n",
       "      <td>2020-08-26</td>\n",
       "      <td>126.180000</td>\n",
       "      <td>126.522499</td>\n",
       "    </tr>\n",
       "    <tr>\n",
       "      <td>249</td>\n",
       "      <td>2020-08-27</td>\n",
       "      <td>127.142502</td>\n",
       "      <td>125.010002</td>\n",
       "    </tr>\n",
       "    <tr>\n",
       "      <td>250</td>\n",
       "      <td>2020-08-31</td>\n",
       "      <td>127.580000</td>\n",
       "      <td>129.040000</td>\n",
       "    </tr>\n",
       "  </tbody>\n",
       "</table>\n",
       "<p>251 rows × 3 columns</p>\n",
       "</div>"
      ],
      "text/plain": [
       "           Date        Open   Adj Close\n",
       "0    2019-09-03   51.607498   50.919777\n",
       "1    2019-09-04   52.097500   51.783714\n",
       "2    2019-09-05   53.000000   52.796162\n",
       "3    2019-09-06   53.512501   52.791210\n",
       "4    2019-09-09   53.709999   53.016479\n",
       "..          ...         ...         ...\n",
       "246  2020-08-24  128.697495  125.857498\n",
       "247  2020-08-25  124.697502  124.824997\n",
       "248  2020-08-26  126.180000  126.522499\n",
       "249  2020-08-27  127.142502  125.010002\n",
       "250  2020-08-31  127.580000  129.040000\n",
       "\n",
       "[251 rows x 3 columns]"
      ]
     },
     "execution_count": 68,
     "metadata": {},
     "output_type": "execute_result"
    }
   ],
   "source": [
    "pd.read_csv('AAPL.csv')"
   ]
  },
  {
   "cell_type": "code",
   "execution_count": 69,
   "metadata": {
    "collapsed": true,
    "jupyter": {
     "outputs_hidden": true,
     "source_hidden": true
    }
   },
   "outputs": [
    {
     "data": {
      "text/html": [
       "<div>\n",
       "<style scoped>\n",
       "    .dataframe tbody tr th:only-of-type {\n",
       "        vertical-align: middle;\n",
       "    }\n",
       "\n",
       "    .dataframe tbody tr th {\n",
       "        vertical-align: top;\n",
       "    }\n",
       "\n",
       "    .dataframe thead th {\n",
       "        text-align: right;\n",
       "    }\n",
       "</style>\n",
       "<table border=\"1\" class=\"dataframe\">\n",
       "  <thead>\n",
       "    <tr style=\"text-align: right;\">\n",
       "      <th></th>\n",
       "      <th>Date</th>\n",
       "      <th>Open</th>\n",
       "      <th>Adj Close</th>\n",
       "    </tr>\n",
       "  </thead>\n",
       "  <tbody>\n",
       "    <tr>\n",
       "      <td>0</td>\n",
       "      <td>2019-09-03</td>\n",
       "      <td>44.816002</td>\n",
       "      <td>45.001999</td>\n",
       "    </tr>\n",
       "    <tr>\n",
       "      <td>1</td>\n",
       "      <td>2019-09-04</td>\n",
       "      <td>45.377998</td>\n",
       "      <td>44.136002</td>\n",
       "    </tr>\n",
       "    <tr>\n",
       "      <td>2</td>\n",
       "      <td>2019-09-05</td>\n",
       "      <td>44.500000</td>\n",
       "      <td>45.916000</td>\n",
       "    </tr>\n",
       "    <tr>\n",
       "      <td>3</td>\n",
       "      <td>2019-09-06</td>\n",
       "      <td>45.439999</td>\n",
       "      <td>45.490002</td>\n",
       "    </tr>\n",
       "    <tr>\n",
       "      <td>4</td>\n",
       "      <td>2019-09-09</td>\n",
       "      <td>46.000000</td>\n",
       "      <td>46.358002</td>\n",
       "    </tr>\n",
       "    <tr>\n",
       "      <td>...</td>\n",
       "      <td>...</td>\n",
       "      <td>...</td>\n",
       "      <td>...</td>\n",
       "    </tr>\n",
       "    <tr>\n",
       "      <td>246</td>\n",
       "      <td>2020-08-24</td>\n",
       "      <td>425.256012</td>\n",
       "      <td>402.839996</td>\n",
       "    </tr>\n",
       "    <tr>\n",
       "      <td>247</td>\n",
       "      <td>2020-08-25</td>\n",
       "      <td>394.977997</td>\n",
       "      <td>404.667999</td>\n",
       "    </tr>\n",
       "    <tr>\n",
       "      <td>248</td>\n",
       "      <td>2020-08-26</td>\n",
       "      <td>412.000000</td>\n",
       "      <td>430.634003</td>\n",
       "    </tr>\n",
       "    <tr>\n",
       "      <td>249</td>\n",
       "      <td>2020-08-27</td>\n",
       "      <td>436.092010</td>\n",
       "      <td>447.750000</td>\n",
       "    </tr>\n",
       "    <tr>\n",
       "      <td>250</td>\n",
       "      <td>2020-08-31</td>\n",
       "      <td>444.610000</td>\n",
       "      <td>498.320000</td>\n",
       "    </tr>\n",
       "  </tbody>\n",
       "</table>\n",
       "<p>251 rows × 3 columns</p>\n",
       "</div>"
      ],
      "text/plain": [
       "           Date        Open   Adj Close\n",
       "0    2019-09-03   44.816002   45.001999\n",
       "1    2019-09-04   45.377998   44.136002\n",
       "2    2019-09-05   44.500000   45.916000\n",
       "3    2019-09-06   45.439999   45.490002\n",
       "4    2019-09-09   46.000000   46.358002\n",
       "..          ...         ...         ...\n",
       "246  2020-08-24  425.256012  402.839996\n",
       "247  2020-08-25  394.977997  404.667999\n",
       "248  2020-08-26  412.000000  430.634003\n",
       "249  2020-08-27  436.092010  447.750000\n",
       "250  2020-08-31  444.610000  498.320000\n",
       "\n",
       "[251 rows x 3 columns]"
      ]
     },
     "execution_count": 69,
     "metadata": {},
     "output_type": "execute_result"
    }
   ],
   "source": [
    "pd.read_csv('TSLA.csv')"
   ]
  },
  {
   "cell_type": "code",
   "execution_count": 2,
   "metadata": {},
   "outputs": [],
   "source": [
    "# Webscraping to csv code\n",
    "# This makes it easier than going to yahoo finance and downloading each csv file\n",
    "class YahooFinanceHistory:\n",
    "    timeout = 2\n",
    "    crumb_link = 'https://finance.yahoo.com/quote/{0}/history?p={0}'\n",
    "    crumble_regex = r'CrumbStore\":{\"crumb\":\"(.*?)\"}'\n",
    "    quote_link = 'https://query1.finance.yahoo.com/v7/finance/download/{quote}?period1={dfrom}&period2={dto}&interval=1d&events=history&crumb={crumb}'\n",
    "\n",
    "    def __init__(self, symbol, days_back=7):\n",
    "        self.symbol = symbol\n",
    "        self.session = requests.Session()\n",
    "        self.dt = timedelta(days=days_back)\n",
    "\n",
    "    def get_crumb(self):\n",
    "        response = self.session.get(self.crumb_link.format(self.symbol), timeout=self.timeout)\n",
    "        response.raise_for_status()\n",
    "        match = re.search(self.crumble_regex, response.text)\n",
    "        if not match:\n",
    "            raise ValueError('Could not get crumb from Yahoo Finance')\n",
    "        else:\n",
    "            self.crumb = match.group(1)\n",
    "\n",
    "    def get_quote(self):\n",
    "        if not hasattr(self, 'crumb') or len(self.session.cookies) == 0:\n",
    "            self.get_crumb()\n",
    "        now = datetime.utcnow()\n",
    "        dateto = int(now.timestamp())\n",
    "        datefrom = int((now - self.dt).timestamp())\n",
    "        url = self.quote_link.format(quote=self.symbol, dfrom=datefrom, dto=dateto, crumb=self.crumb)\n",
    "        response = self.session.get(url)\n",
    "        response.raise_for_status()\n",
    "        return pd.read_csv(StringIO(response.text), parse_dates=['Date'])"
   ]
  },
  {
   "cell_type": "code",
   "execution_count": 22,
   "metadata": {},
   "outputs": [
    {
     "name": "stdout",
     "output_type": "stream",
     "text": [
      "Enter Stock\n"
     ]
    },
    {
     "name": "stdin",
     "output_type": "stream",
     "text": [
      " JPY=X\n"
     ]
    }
   ],
   "source": [
    "print('Enter Stock')\n",
    "x = input()\n",
    "df = YahooFinanceHistory(f'{x}', days_back=600).get_quote()\n",
    "df.to_csv(f'{x}.csv', index = False)"
   ]
  },
  {
   "cell_type": "code",
   "execution_count": 17,
   "metadata": {},
   "outputs": [],
   "source": [
    "stocks = []\n",
    "def get_info():\n",
    "    # Now that we saved our chart from yahoo.com, we can scrape new data to update our csv file\n",
    "    # This cell's code has already been written above in seperate cells. This cell condenses the retreival process.\n",
    "\n",
    "    stocks = []\n",
    "    for stock_name in stocks:\n",
    "        stock_name = stock_name.strip()\n",
    "        print(stock_name)\n",
    "        page = requests.get('https://finance.yahoo.com/quote/{}/history?p={}'.format(stock_name, stock_name))\n",
    "        soup = BeautifulSoup(page.content, 'html.parser')\n",
    "        info = soup.find('table', class_ = 'W(100%) M(0)')\n",
    "        columns = info.find_all('td')\n",
    "\n",
    "        # First new date\n",
    "        new_date = str(columns[0])\n",
    "        new_date = new_date[-24:-12]\n",
    "\n",
    "        # Retrieving new open price\n",
    "        new_open_price = str(columns[1])\n",
    "        new_open_price = new_open_price[-26:-12]\n",
    "        new_open_price = new_open_price.replace(\"55\",\"\")\n",
    "        new_open_price = re.sub('\"|a|r|e|-|c|>|<|/|s|p|t|i|d|=|,',\"\",new_open_price)\n",
    "        new_open_price = float(new_open_price)\n",
    "\n",
    "        # Retrieving new adjusted close price\n",
    "        new_adj_close_price = str(columns[5])\n",
    "        new_adj_close_price = new_adj_close_price[-26:-8]\n",
    "        new_adj_close_price = new_adj_close_price.replace(\"63\",\"\")\n",
    "        new_adj_close_price = re.sub('\"|a|r|e|-|c|>|<|/|s|p|t|i|d|=|,',\"\",new_adj_close_price)\n",
    "        new_adj_close_price = float(new_adj_close_price)\n",
    "\n",
    "        # Creating column_info dictionary to be uploaded to new df\n",
    "        column_info = {'Date':[new_date],\n",
    "                'Open':[new_open_price],\n",
    "                'Adj Close':[new_adj_close_price]}\n",
    "\n",
    "        # New df name of new_information. This is the newly webscraped data\n",
    "        new_info = pd.DataFrame(data = column_info)\n",
    "        new_info['Date'] = pd.to_datetime(new_info['Date']).dt.date\n",
    "\n",
    "\n",
    "        # Read in our existing data\n",
    "        stock_chart = pd.read_csv(f'{stock_name}.csv')\n",
    "        stock_chart['Date'] = pd.to_datetime(stock_chart['Date']).dt.date\n",
    "\n",
    "\n",
    "        # Make sure the Date type is datetime so it concats properly\n",
    "\n",
    "        # Now we combined our newly webscraped data with our csv file\n",
    "        combined = pd.concat([stock_chart, new_info], sort = False)\n",
    "        combined.sort_values(by = 'Date', inplace = True)\n",
    "        combined.reset_index(drop = True, inplace = True)\n",
    "        combined.drop_duplicates(subset = ['Date'], inplace = True)\n",
    "        combined = combined[['Date', 'Open', 'Adj Close']]\n",
    "        # Save the combined data to a csv file\n",
    "        combined.to_csv(f'{stock_name}.csv', index = False)\n"
   ]
  },
  {
   "cell_type": "code",
   "execution_count": 18,
   "metadata": {},
   "outputs": [
    {
     "name": "stdout",
     "output_type": "stream",
     "text": [
      "0\n"
     ]
    }
   ],
   "source": [
    "# Use this cell to keep a running tally of how many different stocks you are looking at and to \n",
    "# update the charts when you would like to\n",
    "print(len(stocks))\n",
    "get_info()"
   ]
  },
  {
   "cell_type": "code",
   "execution_count": 45,
   "metadata": {
    "collapsed": true,
    "jupyter": {
     "outputs_hidden": true,
     "source_hidden": true
    }
   },
   "outputs": [
    {
     "name": "stdout",
     "output_type": "stream",
     "text": [
      "^VIX\n",
      "005930.KS\n",
      "AAL\n",
      "AAPL\n",
      "ADA-USD\n",
      "ADM\n",
      "AM\n",
      "AMKBY\n",
      "AMZN\n",
      "AUDUSD=X\n",
      "BAC\n",
      "BAT-USD\n",
      "BDVSY\n",
      "BE\n",
      "BTC-USD\n",
      "CAIXY\n",
      "CCL\n",
      "COG\n",
      "COP\n",
      "CQP\n",
      "CVE\n",
      "CVS\n",
      "DGB-USD\n",
      "DKNG\n",
      "DOGE-USD\n",
      "DPW\n",
      "EOS-USD\n",
      "ETH-USD\n",
      "EURUSD=X\n",
      "FSLR\n",
      "FSLY\n",
      "GAXY\n",
      "GBPUSD=X\n",
      "GE\n",
      "GFI\n",
      "GIGA.V\n",
      "GNT-USD\n",
      "GOLD\n",
      "HNCKF\n",
      "HPQ\n",
      "HPS\n",
      "IBM\n",
      "ICX-USD\n",
      "INO\n",
      "ITVPF\n",
      "LRC-USD\n",
      "LUV\n",
      "M\n",
      "MLSPF\n",
      "MRO\n",
      "MSFT\n",
      "MU\n",
      "NDGPF\n",
      "NEE\n",
      "NEM\n",
      "NG\n",
      "NIO\n",
      "NKLA\n",
      "NLOK\n"
     ]
    },
    {
     "ename": "SSLError",
     "evalue": "HTTPSConnectionPool(host='finance.yahoo.com', port=443): Max retries exceeded with url: /quote/NLOK/history?p=NLOK (Caused by SSLError(SSLError(\"bad handshake: SysCallError(60, 'ETIMEDOUT')\")))",
     "output_type": "error",
     "traceback": [
      "\u001b[0;31m---------------------------------------------------------------------------\u001b[0m",
      "\u001b[0;31mSysCallError\u001b[0m                              Traceback (most recent call last)",
      "\u001b[0;32m~/opt/anaconda3/lib/python3.7/site-packages/urllib3/contrib/pyopenssl.py\u001b[0m in \u001b[0;36mwrap_socket\u001b[0;34m(self, sock, server_side, do_handshake_on_connect, suppress_ragged_eofs, server_hostname)\u001b[0m\n\u001b[1;32m    455\u001b[0m             \u001b[0;32mtry\u001b[0m\u001b[0;34m:\u001b[0m\u001b[0;34m\u001b[0m\u001b[0;34m\u001b[0m\u001b[0m\n\u001b[0;32m--> 456\u001b[0;31m                 \u001b[0mcnx\u001b[0m\u001b[0;34m.\u001b[0m\u001b[0mdo_handshake\u001b[0m\u001b[0;34m(\u001b[0m\u001b[0;34m)\u001b[0m\u001b[0;34m\u001b[0m\u001b[0;34m\u001b[0m\u001b[0m\n\u001b[0m\u001b[1;32m    457\u001b[0m             \u001b[0;32mexcept\u001b[0m \u001b[0mOpenSSL\u001b[0m\u001b[0;34m.\u001b[0m\u001b[0mSSL\u001b[0m\u001b[0;34m.\u001b[0m\u001b[0mWantReadError\u001b[0m\u001b[0;34m:\u001b[0m\u001b[0;34m\u001b[0m\u001b[0;34m\u001b[0m\u001b[0m\n",
      "\u001b[0;32m~/opt/anaconda3/lib/python3.7/site-packages/OpenSSL/SSL.py\u001b[0m in \u001b[0;36mdo_handshake\u001b[0;34m(self)\u001b[0m\n\u001b[1;32m   1914\u001b[0m         \u001b[0mresult\u001b[0m \u001b[0;34m=\u001b[0m \u001b[0m_lib\u001b[0m\u001b[0;34m.\u001b[0m\u001b[0mSSL_do_handshake\u001b[0m\u001b[0;34m(\u001b[0m\u001b[0mself\u001b[0m\u001b[0;34m.\u001b[0m\u001b[0m_ssl\u001b[0m\u001b[0;34m)\u001b[0m\u001b[0;34m\u001b[0m\u001b[0;34m\u001b[0m\u001b[0m\n\u001b[0;32m-> 1915\u001b[0;31m         \u001b[0mself\u001b[0m\u001b[0;34m.\u001b[0m\u001b[0m_raise_ssl_error\u001b[0m\u001b[0;34m(\u001b[0m\u001b[0mself\u001b[0m\u001b[0;34m.\u001b[0m\u001b[0m_ssl\u001b[0m\u001b[0;34m,\u001b[0m \u001b[0mresult\u001b[0m\u001b[0;34m)\u001b[0m\u001b[0;34m\u001b[0m\u001b[0;34m\u001b[0m\u001b[0m\n\u001b[0m\u001b[1;32m   1916\u001b[0m \u001b[0;34m\u001b[0m\u001b[0m\n",
      "\u001b[0;32m~/opt/anaconda3/lib/python3.7/site-packages/OpenSSL/SSL.py\u001b[0m in \u001b[0;36m_raise_ssl_error\u001b[0;34m(self, ssl, result)\u001b[0m\n\u001b[1;32m   1638\u001b[0m                     \u001b[0;32mif\u001b[0m \u001b[0merrno\u001b[0m \u001b[0;34m!=\u001b[0m \u001b[0;36m0\u001b[0m\u001b[0;34m:\u001b[0m\u001b[0;34m\u001b[0m\u001b[0;34m\u001b[0m\u001b[0m\n\u001b[0;32m-> 1639\u001b[0;31m                         \u001b[0;32mraise\u001b[0m \u001b[0mSysCallError\u001b[0m\u001b[0;34m(\u001b[0m\u001b[0merrno\u001b[0m\u001b[0;34m,\u001b[0m \u001b[0merrorcode\u001b[0m\u001b[0;34m.\u001b[0m\u001b[0mget\u001b[0m\u001b[0;34m(\u001b[0m\u001b[0merrno\u001b[0m\u001b[0;34m)\u001b[0m\u001b[0;34m)\u001b[0m\u001b[0;34m\u001b[0m\u001b[0;34m\u001b[0m\u001b[0m\n\u001b[0m\u001b[1;32m   1640\u001b[0m                 \u001b[0;32mraise\u001b[0m \u001b[0mSysCallError\u001b[0m\u001b[0;34m(\u001b[0m\u001b[0;34m-\u001b[0m\u001b[0;36m1\u001b[0m\u001b[0;34m,\u001b[0m \u001b[0;34m\"Unexpected EOF\"\u001b[0m\u001b[0;34m)\u001b[0m\u001b[0;34m\u001b[0m\u001b[0;34m\u001b[0m\u001b[0m\n",
      "\u001b[0;31mSysCallError\u001b[0m: (60, 'ETIMEDOUT')",
      "\nDuring handling of the above exception, another exception occurred:\n",
      "\u001b[0;31mSSLError\u001b[0m                                  Traceback (most recent call last)",
      "\u001b[0;32m~/opt/anaconda3/lib/python3.7/site-packages/urllib3/connectionpool.py\u001b[0m in \u001b[0;36murlopen\u001b[0;34m(self, method, url, body, headers, retries, redirect, assert_same_host, timeout, pool_timeout, release_conn, chunked, body_pos, **response_kw)\u001b[0m\n\u001b[1;32m    599\u001b[0m                                                   \u001b[0mbody\u001b[0m\u001b[0;34m=\u001b[0m\u001b[0mbody\u001b[0m\u001b[0;34m,\u001b[0m \u001b[0mheaders\u001b[0m\u001b[0;34m=\u001b[0m\u001b[0mheaders\u001b[0m\u001b[0;34m,\u001b[0m\u001b[0;34m\u001b[0m\u001b[0;34m\u001b[0m\u001b[0m\n\u001b[0;32m--> 600\u001b[0;31m                                                   chunked=chunked)\n\u001b[0m\u001b[1;32m    601\u001b[0m \u001b[0;34m\u001b[0m\u001b[0m\n",
      "\u001b[0;32m~/opt/anaconda3/lib/python3.7/site-packages/urllib3/connectionpool.py\u001b[0m in \u001b[0;36m_make_request\u001b[0;34m(self, conn, method, url, timeout, chunked, **httplib_request_kw)\u001b[0m\n\u001b[1;32m    342\u001b[0m         \u001b[0;32mtry\u001b[0m\u001b[0;34m:\u001b[0m\u001b[0;34m\u001b[0m\u001b[0;34m\u001b[0m\u001b[0m\n\u001b[0;32m--> 343\u001b[0;31m             \u001b[0mself\u001b[0m\u001b[0;34m.\u001b[0m\u001b[0m_validate_conn\u001b[0m\u001b[0;34m(\u001b[0m\u001b[0mconn\u001b[0m\u001b[0;34m)\u001b[0m\u001b[0;34m\u001b[0m\u001b[0;34m\u001b[0m\u001b[0m\n\u001b[0m\u001b[1;32m    344\u001b[0m         \u001b[0;32mexcept\u001b[0m \u001b[0;34m(\u001b[0m\u001b[0mSocketTimeout\u001b[0m\u001b[0;34m,\u001b[0m \u001b[0mBaseSSLError\u001b[0m\u001b[0;34m)\u001b[0m \u001b[0;32mas\u001b[0m \u001b[0me\u001b[0m\u001b[0;34m:\u001b[0m\u001b[0;34m\u001b[0m\u001b[0;34m\u001b[0m\u001b[0m\n",
      "\u001b[0;32m~/opt/anaconda3/lib/python3.7/site-packages/urllib3/connectionpool.py\u001b[0m in \u001b[0;36m_validate_conn\u001b[0;34m(self, conn)\u001b[0m\n\u001b[1;32m    838\u001b[0m         \u001b[0;32mif\u001b[0m \u001b[0;32mnot\u001b[0m \u001b[0mgetattr\u001b[0m\u001b[0;34m(\u001b[0m\u001b[0mconn\u001b[0m\u001b[0;34m,\u001b[0m \u001b[0;34m'sock'\u001b[0m\u001b[0;34m,\u001b[0m \u001b[0;32mNone\u001b[0m\u001b[0;34m)\u001b[0m\u001b[0;34m:\u001b[0m  \u001b[0;31m# AppEngine might not have  `.sock`\u001b[0m\u001b[0;34m\u001b[0m\u001b[0;34m\u001b[0m\u001b[0m\n\u001b[0;32m--> 839\u001b[0;31m             \u001b[0mconn\u001b[0m\u001b[0;34m.\u001b[0m\u001b[0mconnect\u001b[0m\u001b[0;34m(\u001b[0m\u001b[0;34m)\u001b[0m\u001b[0;34m\u001b[0m\u001b[0;34m\u001b[0m\u001b[0m\n\u001b[0m\u001b[1;32m    840\u001b[0m \u001b[0;34m\u001b[0m\u001b[0m\n",
      "\u001b[0;32m~/opt/anaconda3/lib/python3.7/site-packages/urllib3/connection.py\u001b[0m in \u001b[0;36mconnect\u001b[0;34m(self)\u001b[0m\n\u001b[1;32m    343\u001b[0m             \u001b[0mserver_hostname\u001b[0m\u001b[0;34m=\u001b[0m\u001b[0mserver_hostname\u001b[0m\u001b[0;34m,\u001b[0m\u001b[0;34m\u001b[0m\u001b[0;34m\u001b[0m\u001b[0m\n\u001b[0;32m--> 344\u001b[0;31m             ssl_context=context)\n\u001b[0m\u001b[1;32m    345\u001b[0m \u001b[0;34m\u001b[0m\u001b[0m\n",
      "\u001b[0;32m~/opt/anaconda3/lib/python3.7/site-packages/urllib3/util/ssl_.py\u001b[0m in \u001b[0;36mssl_wrap_socket\u001b[0;34m(sock, keyfile, certfile, cert_reqs, ca_certs, server_hostname, ssl_version, ciphers, ssl_context, ca_cert_dir)\u001b[0m\n\u001b[1;32m    346\u001b[0m         \u001b[0;32mif\u001b[0m \u001b[0mHAS_SNI\u001b[0m \u001b[0;32mand\u001b[0m \u001b[0mserver_hostname\u001b[0m \u001b[0;32mis\u001b[0m \u001b[0;32mnot\u001b[0m \u001b[0;32mNone\u001b[0m\u001b[0;34m:\u001b[0m\u001b[0;34m\u001b[0m\u001b[0;34m\u001b[0m\u001b[0m\n\u001b[0;32m--> 347\u001b[0;31m             \u001b[0;32mreturn\u001b[0m \u001b[0mcontext\u001b[0m\u001b[0;34m.\u001b[0m\u001b[0mwrap_socket\u001b[0m\u001b[0;34m(\u001b[0m\u001b[0msock\u001b[0m\u001b[0;34m,\u001b[0m \u001b[0mserver_hostname\u001b[0m\u001b[0;34m=\u001b[0m\u001b[0mserver_hostname\u001b[0m\u001b[0;34m)\u001b[0m\u001b[0;34m\u001b[0m\u001b[0;34m\u001b[0m\u001b[0m\n\u001b[0m\u001b[1;32m    348\u001b[0m \u001b[0;34m\u001b[0m\u001b[0m\n",
      "\u001b[0;32m~/opt/anaconda3/lib/python3.7/site-packages/urllib3/contrib/pyopenssl.py\u001b[0m in \u001b[0;36mwrap_socket\u001b[0;34m(self, sock, server_side, do_handshake_on_connect, suppress_ragged_eofs, server_hostname)\u001b[0m\n\u001b[1;32m    461\u001b[0m             \u001b[0;32mexcept\u001b[0m \u001b[0mOpenSSL\u001b[0m\u001b[0;34m.\u001b[0m\u001b[0mSSL\u001b[0m\u001b[0;34m.\u001b[0m\u001b[0mError\u001b[0m \u001b[0;32mas\u001b[0m \u001b[0me\u001b[0m\u001b[0;34m:\u001b[0m\u001b[0;34m\u001b[0m\u001b[0;34m\u001b[0m\u001b[0m\n\u001b[0;32m--> 462\u001b[0;31m                 \u001b[0;32mraise\u001b[0m \u001b[0mssl\u001b[0m\u001b[0;34m.\u001b[0m\u001b[0mSSLError\u001b[0m\u001b[0;34m(\u001b[0m\u001b[0;34m'bad handshake: %r'\u001b[0m \u001b[0;34m%\u001b[0m \u001b[0me\u001b[0m\u001b[0;34m)\u001b[0m\u001b[0;34m\u001b[0m\u001b[0;34m\u001b[0m\u001b[0m\n\u001b[0m\u001b[1;32m    463\u001b[0m             \u001b[0;32mbreak\u001b[0m\u001b[0;34m\u001b[0m\u001b[0;34m\u001b[0m\u001b[0m\n",
      "\u001b[0;31mSSLError\u001b[0m: (\"bad handshake: SysCallError(60, 'ETIMEDOUT')\",)",
      "\nDuring handling of the above exception, another exception occurred:\n",
      "\u001b[0;31mMaxRetryError\u001b[0m                             Traceback (most recent call last)",
      "\u001b[0;32m~/opt/anaconda3/lib/python3.7/site-packages/requests/adapters.py\u001b[0m in \u001b[0;36msend\u001b[0;34m(self, request, stream, timeout, verify, cert, proxies)\u001b[0m\n\u001b[1;32m    448\u001b[0m                     \u001b[0mretries\u001b[0m\u001b[0;34m=\u001b[0m\u001b[0mself\u001b[0m\u001b[0;34m.\u001b[0m\u001b[0mmax_retries\u001b[0m\u001b[0;34m,\u001b[0m\u001b[0;34m\u001b[0m\u001b[0;34m\u001b[0m\u001b[0m\n\u001b[0;32m--> 449\u001b[0;31m                     \u001b[0mtimeout\u001b[0m\u001b[0;34m=\u001b[0m\u001b[0mtimeout\u001b[0m\u001b[0;34m\u001b[0m\u001b[0;34m\u001b[0m\u001b[0m\n\u001b[0m\u001b[1;32m    450\u001b[0m                 )\n",
      "\u001b[0;32m~/opt/anaconda3/lib/python3.7/site-packages/urllib3/connectionpool.py\u001b[0m in \u001b[0;36murlopen\u001b[0;34m(self, method, url, body, headers, retries, redirect, assert_same_host, timeout, pool_timeout, release_conn, chunked, body_pos, **response_kw)\u001b[0m\n\u001b[1;32m    637\u001b[0m             retries = retries.increment(method, url, error=e, _pool=self,\n\u001b[0;32m--> 638\u001b[0;31m                                         _stacktrace=sys.exc_info()[2])\n\u001b[0m\u001b[1;32m    639\u001b[0m             \u001b[0mretries\u001b[0m\u001b[0;34m.\u001b[0m\u001b[0msleep\u001b[0m\u001b[0;34m(\u001b[0m\u001b[0;34m)\u001b[0m\u001b[0;34m\u001b[0m\u001b[0;34m\u001b[0m\u001b[0m\n",
      "\u001b[0;32m~/opt/anaconda3/lib/python3.7/site-packages/urllib3/util/retry.py\u001b[0m in \u001b[0;36mincrement\u001b[0;34m(self, method, url, response, error, _pool, _stacktrace)\u001b[0m\n\u001b[1;32m    398\u001b[0m         \u001b[0;32mif\u001b[0m \u001b[0mnew_retry\u001b[0m\u001b[0;34m.\u001b[0m\u001b[0mis_exhausted\u001b[0m\u001b[0;34m(\u001b[0m\u001b[0;34m)\u001b[0m\u001b[0;34m:\u001b[0m\u001b[0;34m\u001b[0m\u001b[0;34m\u001b[0m\u001b[0m\n\u001b[0;32m--> 399\u001b[0;31m             \u001b[0;32mraise\u001b[0m \u001b[0mMaxRetryError\u001b[0m\u001b[0;34m(\u001b[0m\u001b[0m_pool\u001b[0m\u001b[0;34m,\u001b[0m \u001b[0murl\u001b[0m\u001b[0;34m,\u001b[0m \u001b[0merror\u001b[0m \u001b[0;32mor\u001b[0m \u001b[0mResponseError\u001b[0m\u001b[0;34m(\u001b[0m\u001b[0mcause\u001b[0m\u001b[0;34m)\u001b[0m\u001b[0;34m)\u001b[0m\u001b[0;34m\u001b[0m\u001b[0;34m\u001b[0m\u001b[0m\n\u001b[0m\u001b[1;32m    400\u001b[0m \u001b[0;34m\u001b[0m\u001b[0m\n",
      "\u001b[0;31mMaxRetryError\u001b[0m: HTTPSConnectionPool(host='finance.yahoo.com', port=443): Max retries exceeded with url: /quote/NLOK/history?p=NLOK (Caused by SSLError(SSLError(\"bad handshake: SysCallError(60, 'ETIMEDOUT')\")))",
      "\nDuring handling of the above exception, another exception occurred:\n",
      "\u001b[0;31mSSLError\u001b[0m                                  Traceback (most recent call last)",
      "\u001b[0;32m<ipython-input-45-3672b1025204>\u001b[0m in \u001b[0;36m<module>\u001b[0;34m\u001b[0m\n\u001b[1;32m     49\u001b[0m \u001b[0;34m\u001b[0m\u001b[0m\n\u001b[1;32m     50\u001b[0m \u001b[0;32mwhile\u001b[0m \u001b[0;32mTrue\u001b[0m\u001b[0;34m:\u001b[0m\u001b[0;34m\u001b[0m\u001b[0;34m\u001b[0m\u001b[0m\n\u001b[0;32m---> 51\u001b[0;31m     \u001b[0mschedule\u001b[0m\u001b[0;34m.\u001b[0m\u001b[0mrun_pending\u001b[0m\u001b[0;34m(\u001b[0m\u001b[0;34m)\u001b[0m\u001b[0;34m\u001b[0m\u001b[0;34m\u001b[0m\u001b[0m\n\u001b[0m\u001b[1;32m     52\u001b[0m     \u001b[0mtime\u001b[0m\u001b[0;34m.\u001b[0m\u001b[0msleep\u001b[0m\u001b[0;34m(\u001b[0m\u001b[0;36m1\u001b[0m\u001b[0;34m)\u001b[0m\u001b[0;34m\u001b[0m\u001b[0;34m\u001b[0m\u001b[0m\n",
      "\u001b[0;32m~/opt/anaconda3/lib/python3.7/site-packages/schedule/__init__.py\u001b[0m in \u001b[0;36mrun_pending\u001b[0;34m()\u001b[0m\n\u001b[1;32m    561\u001b[0m     \u001b[0;34m:\u001b[0m\u001b[0mdata\u001b[0m\u001b[0;34m:\u001b[0m\u001b[0;31m`\u001b[0m\u001b[0mdefault\u001b[0m \u001b[0mscheduler\u001b[0m \u001b[0minstance\u001b[0m \u001b[0;34m<\u001b[0m\u001b[0mdefault_scheduler\u001b[0m\u001b[0;34m>\u001b[0m\u001b[0;31m`\u001b[0m\u001b[0;34m.\u001b[0m\u001b[0;34m\u001b[0m\u001b[0;34m\u001b[0m\u001b[0m\n\u001b[1;32m    562\u001b[0m     \"\"\"\n\u001b[0;32m--> 563\u001b[0;31m     \u001b[0mdefault_scheduler\u001b[0m\u001b[0;34m.\u001b[0m\u001b[0mrun_pending\u001b[0m\u001b[0;34m(\u001b[0m\u001b[0;34m)\u001b[0m\u001b[0;34m\u001b[0m\u001b[0;34m\u001b[0m\u001b[0m\n\u001b[0m\u001b[1;32m    564\u001b[0m \u001b[0;34m\u001b[0m\u001b[0m\n\u001b[1;32m    565\u001b[0m \u001b[0;34m\u001b[0m\u001b[0m\n",
      "\u001b[0;32m~/opt/anaconda3/lib/python3.7/site-packages/schedule/__init__.py\u001b[0m in \u001b[0;36mrun_pending\u001b[0;34m(self)\u001b[0m\n\u001b[1;32m     92\u001b[0m         \u001b[0mrunnable_jobs\u001b[0m \u001b[0;34m=\u001b[0m \u001b[0;34m(\u001b[0m\u001b[0mjob\u001b[0m \u001b[0;32mfor\u001b[0m \u001b[0mjob\u001b[0m \u001b[0;32min\u001b[0m \u001b[0mself\u001b[0m\u001b[0;34m.\u001b[0m\u001b[0mjobs\u001b[0m \u001b[0;32mif\u001b[0m \u001b[0mjob\u001b[0m\u001b[0;34m.\u001b[0m\u001b[0mshould_run\u001b[0m\u001b[0;34m)\u001b[0m\u001b[0;34m\u001b[0m\u001b[0;34m\u001b[0m\u001b[0m\n\u001b[1;32m     93\u001b[0m         \u001b[0;32mfor\u001b[0m \u001b[0mjob\u001b[0m \u001b[0;32min\u001b[0m \u001b[0msorted\u001b[0m\u001b[0;34m(\u001b[0m\u001b[0mrunnable_jobs\u001b[0m\u001b[0;34m)\u001b[0m\u001b[0;34m:\u001b[0m\u001b[0;34m\u001b[0m\u001b[0;34m\u001b[0m\u001b[0m\n\u001b[0;32m---> 94\u001b[0;31m             \u001b[0mself\u001b[0m\u001b[0;34m.\u001b[0m\u001b[0m_run_job\u001b[0m\u001b[0;34m(\u001b[0m\u001b[0mjob\u001b[0m\u001b[0;34m)\u001b[0m\u001b[0;34m\u001b[0m\u001b[0;34m\u001b[0m\u001b[0m\n\u001b[0m\u001b[1;32m     95\u001b[0m \u001b[0;34m\u001b[0m\u001b[0m\n\u001b[1;32m     96\u001b[0m     \u001b[0;32mdef\u001b[0m \u001b[0mrun_all\u001b[0m\u001b[0;34m(\u001b[0m\u001b[0mself\u001b[0m\u001b[0;34m,\u001b[0m \u001b[0mdelay_seconds\u001b[0m\u001b[0;34m=\u001b[0m\u001b[0;36m0\u001b[0m\u001b[0;34m)\u001b[0m\u001b[0;34m:\u001b[0m\u001b[0;34m\u001b[0m\u001b[0;34m\u001b[0m\u001b[0m\n",
      "\u001b[0;32m~/opt/anaconda3/lib/python3.7/site-packages/schedule/__init__.py\u001b[0m in \u001b[0;36m_run_job\u001b[0;34m(self, job)\u001b[0m\n\u001b[1;32m    145\u001b[0m \u001b[0;34m\u001b[0m\u001b[0m\n\u001b[1;32m    146\u001b[0m     \u001b[0;32mdef\u001b[0m \u001b[0m_run_job\u001b[0m\u001b[0;34m(\u001b[0m\u001b[0mself\u001b[0m\u001b[0;34m,\u001b[0m \u001b[0mjob\u001b[0m\u001b[0;34m)\u001b[0m\u001b[0;34m:\u001b[0m\u001b[0;34m\u001b[0m\u001b[0;34m\u001b[0m\u001b[0m\n\u001b[0;32m--> 147\u001b[0;31m         \u001b[0mret\u001b[0m \u001b[0;34m=\u001b[0m \u001b[0mjob\u001b[0m\u001b[0;34m.\u001b[0m\u001b[0mrun\u001b[0m\u001b[0;34m(\u001b[0m\u001b[0;34m)\u001b[0m\u001b[0;34m\u001b[0m\u001b[0;34m\u001b[0m\u001b[0m\n\u001b[0m\u001b[1;32m    148\u001b[0m         \u001b[0;32mif\u001b[0m \u001b[0misinstance\u001b[0m\u001b[0;34m(\u001b[0m\u001b[0mret\u001b[0m\u001b[0;34m,\u001b[0m \u001b[0mCancelJob\u001b[0m\u001b[0;34m)\u001b[0m \u001b[0;32mor\u001b[0m \u001b[0mret\u001b[0m \u001b[0;32mis\u001b[0m \u001b[0mCancelJob\u001b[0m\u001b[0;34m:\u001b[0m\u001b[0;34m\u001b[0m\u001b[0;34m\u001b[0m\u001b[0m\n\u001b[1;32m    149\u001b[0m             \u001b[0mself\u001b[0m\u001b[0;34m.\u001b[0m\u001b[0mcancel_job\u001b[0m\u001b[0;34m(\u001b[0m\u001b[0mjob\u001b[0m\u001b[0;34m)\u001b[0m\u001b[0;34m\u001b[0m\u001b[0;34m\u001b[0m\u001b[0m\n",
      "\u001b[0;32m~/opt/anaconda3/lib/python3.7/site-packages/schedule/__init__.py\u001b[0m in \u001b[0;36mrun\u001b[0;34m(self)\u001b[0m\n\u001b[1;32m    464\u001b[0m         \"\"\"\n\u001b[1;32m    465\u001b[0m         \u001b[0mlogger\u001b[0m\u001b[0;34m.\u001b[0m\u001b[0minfo\u001b[0m\u001b[0;34m(\u001b[0m\u001b[0;34m'Running job %s'\u001b[0m\u001b[0;34m,\u001b[0m \u001b[0mself\u001b[0m\u001b[0;34m)\u001b[0m\u001b[0;34m\u001b[0m\u001b[0;34m\u001b[0m\u001b[0m\n\u001b[0;32m--> 466\u001b[0;31m         \u001b[0mret\u001b[0m \u001b[0;34m=\u001b[0m \u001b[0mself\u001b[0m\u001b[0;34m.\u001b[0m\u001b[0mjob_func\u001b[0m\u001b[0;34m(\u001b[0m\u001b[0;34m)\u001b[0m\u001b[0;34m\u001b[0m\u001b[0;34m\u001b[0m\u001b[0m\n\u001b[0m\u001b[1;32m    467\u001b[0m         \u001b[0mself\u001b[0m\u001b[0;34m.\u001b[0m\u001b[0mlast_run\u001b[0m \u001b[0;34m=\u001b[0m \u001b[0mdatetime\u001b[0m\u001b[0;34m.\u001b[0m\u001b[0mdatetime\u001b[0m\u001b[0;34m.\u001b[0m\u001b[0mnow\u001b[0m\u001b[0;34m(\u001b[0m\u001b[0;34m)\u001b[0m\u001b[0;34m\u001b[0m\u001b[0;34m\u001b[0m\u001b[0m\n\u001b[1;32m    468\u001b[0m         \u001b[0mself\u001b[0m\u001b[0;34m.\u001b[0m\u001b[0m_schedule_next_run\u001b[0m\u001b[0;34m(\u001b[0m\u001b[0;34m)\u001b[0m\u001b[0;34m\u001b[0m\u001b[0;34m\u001b[0m\u001b[0m\n",
      "\u001b[0;32m<ipython-input-36-05c2d6994440>\u001b[0m in \u001b[0;36mget_info\u001b[0;34m()\u001b[0m\n\u001b[1;32m     22\u001b[0m         \u001b[0mstock_name\u001b[0m \u001b[0;34m=\u001b[0m \u001b[0mstock_name\u001b[0m\u001b[0;34m.\u001b[0m\u001b[0mstrip\u001b[0m\u001b[0;34m(\u001b[0m\u001b[0;34m)\u001b[0m\u001b[0;34m\u001b[0m\u001b[0;34m\u001b[0m\u001b[0m\n\u001b[1;32m     23\u001b[0m         \u001b[0mprint\u001b[0m\u001b[0;34m(\u001b[0m\u001b[0mstock_name\u001b[0m\u001b[0;34m)\u001b[0m\u001b[0;34m\u001b[0m\u001b[0;34m\u001b[0m\u001b[0m\n\u001b[0;32m---> 24\u001b[0;31m         \u001b[0mpage\u001b[0m \u001b[0;34m=\u001b[0m \u001b[0mrequests\u001b[0m\u001b[0;34m.\u001b[0m\u001b[0mget\u001b[0m\u001b[0;34m(\u001b[0m\u001b[0;34m'https://finance.yahoo.com/quote/{}/history?p={}'\u001b[0m\u001b[0;34m.\u001b[0m\u001b[0mformat\u001b[0m\u001b[0;34m(\u001b[0m\u001b[0mstock_name\u001b[0m\u001b[0;34m,\u001b[0m \u001b[0mstock_name\u001b[0m\u001b[0;34m)\u001b[0m\u001b[0;34m)\u001b[0m\u001b[0;34m\u001b[0m\u001b[0;34m\u001b[0m\u001b[0m\n\u001b[0m\u001b[1;32m     25\u001b[0m         \u001b[0msoup\u001b[0m \u001b[0;34m=\u001b[0m \u001b[0mBeautifulSoup\u001b[0m\u001b[0;34m(\u001b[0m\u001b[0mpage\u001b[0m\u001b[0;34m.\u001b[0m\u001b[0mcontent\u001b[0m\u001b[0;34m,\u001b[0m \u001b[0;34m'html.parser'\u001b[0m\u001b[0;34m)\u001b[0m\u001b[0;34m\u001b[0m\u001b[0;34m\u001b[0m\u001b[0m\n\u001b[1;32m     26\u001b[0m         \u001b[0minfo\u001b[0m \u001b[0;34m=\u001b[0m \u001b[0msoup\u001b[0m\u001b[0;34m.\u001b[0m\u001b[0mfind\u001b[0m\u001b[0;34m(\u001b[0m\u001b[0;34m'table'\u001b[0m\u001b[0;34m,\u001b[0m \u001b[0mclass_\u001b[0m \u001b[0;34m=\u001b[0m \u001b[0;34m'W(100%) M(0)'\u001b[0m\u001b[0;34m)\u001b[0m\u001b[0;34m\u001b[0m\u001b[0;34m\u001b[0m\u001b[0m\n",
      "\u001b[0;32m~/opt/anaconda3/lib/python3.7/site-packages/requests/api.py\u001b[0m in \u001b[0;36mget\u001b[0;34m(url, params, **kwargs)\u001b[0m\n\u001b[1;32m     73\u001b[0m \u001b[0;34m\u001b[0m\u001b[0m\n\u001b[1;32m     74\u001b[0m     \u001b[0mkwargs\u001b[0m\u001b[0;34m.\u001b[0m\u001b[0msetdefault\u001b[0m\u001b[0;34m(\u001b[0m\u001b[0;34m'allow_redirects'\u001b[0m\u001b[0;34m,\u001b[0m \u001b[0;32mTrue\u001b[0m\u001b[0;34m)\u001b[0m\u001b[0;34m\u001b[0m\u001b[0;34m\u001b[0m\u001b[0m\n\u001b[0;32m---> 75\u001b[0;31m     \u001b[0;32mreturn\u001b[0m \u001b[0mrequest\u001b[0m\u001b[0;34m(\u001b[0m\u001b[0;34m'get'\u001b[0m\u001b[0;34m,\u001b[0m \u001b[0murl\u001b[0m\u001b[0;34m,\u001b[0m \u001b[0mparams\u001b[0m\u001b[0;34m=\u001b[0m\u001b[0mparams\u001b[0m\u001b[0;34m,\u001b[0m \u001b[0;34m**\u001b[0m\u001b[0mkwargs\u001b[0m\u001b[0;34m)\u001b[0m\u001b[0;34m\u001b[0m\u001b[0;34m\u001b[0m\u001b[0m\n\u001b[0m\u001b[1;32m     76\u001b[0m \u001b[0;34m\u001b[0m\u001b[0m\n\u001b[1;32m     77\u001b[0m \u001b[0;34m\u001b[0m\u001b[0m\n",
      "\u001b[0;32m~/opt/anaconda3/lib/python3.7/site-packages/requests/api.py\u001b[0m in \u001b[0;36mrequest\u001b[0;34m(method, url, **kwargs)\u001b[0m\n\u001b[1;32m     58\u001b[0m     \u001b[0;31m# cases, and look like a memory leak in others.\u001b[0m\u001b[0;34m\u001b[0m\u001b[0;34m\u001b[0m\u001b[0;34m\u001b[0m\u001b[0m\n\u001b[1;32m     59\u001b[0m     \u001b[0;32mwith\u001b[0m \u001b[0msessions\u001b[0m\u001b[0;34m.\u001b[0m\u001b[0mSession\u001b[0m\u001b[0;34m(\u001b[0m\u001b[0;34m)\u001b[0m \u001b[0;32mas\u001b[0m \u001b[0msession\u001b[0m\u001b[0;34m:\u001b[0m\u001b[0;34m\u001b[0m\u001b[0;34m\u001b[0m\u001b[0m\n\u001b[0;32m---> 60\u001b[0;31m         \u001b[0;32mreturn\u001b[0m \u001b[0msession\u001b[0m\u001b[0;34m.\u001b[0m\u001b[0mrequest\u001b[0m\u001b[0;34m(\u001b[0m\u001b[0mmethod\u001b[0m\u001b[0;34m=\u001b[0m\u001b[0mmethod\u001b[0m\u001b[0;34m,\u001b[0m \u001b[0murl\u001b[0m\u001b[0;34m=\u001b[0m\u001b[0murl\u001b[0m\u001b[0;34m,\u001b[0m \u001b[0;34m**\u001b[0m\u001b[0mkwargs\u001b[0m\u001b[0;34m)\u001b[0m\u001b[0;34m\u001b[0m\u001b[0;34m\u001b[0m\u001b[0m\n\u001b[0m\u001b[1;32m     61\u001b[0m \u001b[0;34m\u001b[0m\u001b[0m\n\u001b[1;32m     62\u001b[0m \u001b[0;34m\u001b[0m\u001b[0m\n",
      "\u001b[0;32m~/opt/anaconda3/lib/python3.7/site-packages/requests/sessions.py\u001b[0m in \u001b[0;36mrequest\u001b[0;34m(self, method, url, params, data, headers, cookies, files, auth, timeout, allow_redirects, proxies, hooks, stream, verify, cert, json)\u001b[0m\n\u001b[1;32m    531\u001b[0m         }\n\u001b[1;32m    532\u001b[0m         \u001b[0msend_kwargs\u001b[0m\u001b[0;34m.\u001b[0m\u001b[0mupdate\u001b[0m\u001b[0;34m(\u001b[0m\u001b[0msettings\u001b[0m\u001b[0;34m)\u001b[0m\u001b[0;34m\u001b[0m\u001b[0;34m\u001b[0m\u001b[0m\n\u001b[0;32m--> 533\u001b[0;31m         \u001b[0mresp\u001b[0m \u001b[0;34m=\u001b[0m \u001b[0mself\u001b[0m\u001b[0;34m.\u001b[0m\u001b[0msend\u001b[0m\u001b[0;34m(\u001b[0m\u001b[0mprep\u001b[0m\u001b[0;34m,\u001b[0m \u001b[0;34m**\u001b[0m\u001b[0msend_kwargs\u001b[0m\u001b[0;34m)\u001b[0m\u001b[0;34m\u001b[0m\u001b[0;34m\u001b[0m\u001b[0m\n\u001b[0m\u001b[1;32m    534\u001b[0m \u001b[0;34m\u001b[0m\u001b[0m\n\u001b[1;32m    535\u001b[0m         \u001b[0;32mreturn\u001b[0m \u001b[0mresp\u001b[0m\u001b[0;34m\u001b[0m\u001b[0;34m\u001b[0m\u001b[0m\n",
      "\u001b[0;32m~/opt/anaconda3/lib/python3.7/site-packages/requests/sessions.py\u001b[0m in \u001b[0;36msend\u001b[0;34m(self, request, **kwargs)\u001b[0m\n\u001b[1;32m    644\u001b[0m \u001b[0;34m\u001b[0m\u001b[0m\n\u001b[1;32m    645\u001b[0m         \u001b[0;31m# Send the request\u001b[0m\u001b[0;34m\u001b[0m\u001b[0;34m\u001b[0m\u001b[0;34m\u001b[0m\u001b[0m\n\u001b[0;32m--> 646\u001b[0;31m         \u001b[0mr\u001b[0m \u001b[0;34m=\u001b[0m \u001b[0madapter\u001b[0m\u001b[0;34m.\u001b[0m\u001b[0msend\u001b[0m\u001b[0;34m(\u001b[0m\u001b[0mrequest\u001b[0m\u001b[0;34m,\u001b[0m \u001b[0;34m**\u001b[0m\u001b[0mkwargs\u001b[0m\u001b[0;34m)\u001b[0m\u001b[0;34m\u001b[0m\u001b[0;34m\u001b[0m\u001b[0m\n\u001b[0m\u001b[1;32m    647\u001b[0m \u001b[0;34m\u001b[0m\u001b[0m\n\u001b[1;32m    648\u001b[0m         \u001b[0;31m# Total elapsed time of the request (approximately)\u001b[0m\u001b[0;34m\u001b[0m\u001b[0;34m\u001b[0m\u001b[0;34m\u001b[0m\u001b[0m\n",
      "\u001b[0;32m~/opt/anaconda3/lib/python3.7/site-packages/requests/adapters.py\u001b[0m in \u001b[0;36msend\u001b[0;34m(self, request, stream, timeout, verify, cert, proxies)\u001b[0m\n\u001b[1;32m    512\u001b[0m             \u001b[0;32mif\u001b[0m \u001b[0misinstance\u001b[0m\u001b[0;34m(\u001b[0m\u001b[0me\u001b[0m\u001b[0;34m.\u001b[0m\u001b[0mreason\u001b[0m\u001b[0;34m,\u001b[0m \u001b[0m_SSLError\u001b[0m\u001b[0;34m)\u001b[0m\u001b[0;34m:\u001b[0m\u001b[0;34m\u001b[0m\u001b[0;34m\u001b[0m\u001b[0m\n\u001b[1;32m    513\u001b[0m                 \u001b[0;31m# This branch is for urllib3 v1.22 and later.\u001b[0m\u001b[0;34m\u001b[0m\u001b[0;34m\u001b[0m\u001b[0;34m\u001b[0m\u001b[0m\n\u001b[0;32m--> 514\u001b[0;31m                 \u001b[0;32mraise\u001b[0m \u001b[0mSSLError\u001b[0m\u001b[0;34m(\u001b[0m\u001b[0me\u001b[0m\u001b[0;34m,\u001b[0m \u001b[0mrequest\u001b[0m\u001b[0;34m=\u001b[0m\u001b[0mrequest\u001b[0m\u001b[0;34m)\u001b[0m\u001b[0;34m\u001b[0m\u001b[0;34m\u001b[0m\u001b[0m\n\u001b[0m\u001b[1;32m    515\u001b[0m \u001b[0;34m\u001b[0m\u001b[0m\n\u001b[1;32m    516\u001b[0m             \u001b[0;32mraise\u001b[0m \u001b[0mConnectionError\u001b[0m\u001b[0;34m(\u001b[0m\u001b[0me\u001b[0m\u001b[0;34m,\u001b[0m \u001b[0mrequest\u001b[0m\u001b[0;34m=\u001b[0m\u001b[0mrequest\u001b[0m\u001b[0;34m)\u001b[0m\u001b[0;34m\u001b[0m\u001b[0;34m\u001b[0m\u001b[0m\n",
      "\u001b[0;31mSSLError\u001b[0m: HTTPSConnectionPool(host='finance.yahoo.com', port=443): Max retries exceeded with url: /quote/NLOK/history?p=NLOK (Caused by SSLError(SSLError(\"bad handshake: SysCallError(60, 'ETIMEDOUT')\")))"
     ]
    }
   ],
   "source": [
    "# Creating schedule to collect new data every weekday the top of the hour.\n",
    "schedule.every().monday.at(\"09:00\").do(get_info)\n",
    "schedule.every().monday.at(\"10:00\").do(get_info)\n",
    "schedule.every().monday.at(\"11:00\").do(get_info)\n",
    "schedule.every().monday.at(\"12:00\").do(get_info)\n",
    "schedule.every().monday.at(\"13:00\").do(get_info)\n",
    "schedule.every().monday.at(\"14:00\").do(get_info)\n",
    "schedule.every().monday.at(\"15:00\").do(get_info)\n",
    "schedule.every().monday.at(\"16:00\").do(get_info)\n",
    "\n",
    "schedule.every().tuesday.at(\"09:00\").do(get_info)\n",
    "schedule.every().tuesday.at(\"10:00\").do(get_info)\n",
    "schedule.every().tuesday.at(\"11:00\").do(get_info)\n",
    "schedule.every().tuesday.at(\"12:00\").do(get_info)\n",
    "schedule.every().tuesday.at(\"13:00\").do(get_info)\n",
    "schedule.every().tuesday.at(\"14:00\").do(get_info)\n",
    "schedule.every().tuesday.at(\"15:00\").do(get_info)\n",
    "schedule.every().tuesday.at(\"16:00\").do(get_info)\n",
    "\n",
    "schedule.every().wednesday.at(\"09:00\").do(get_info)\n",
    "schedule.every().wednesday.at(\"10:00\").do(get_info)\n",
    "schedule.every().wednesday.at(\"11:00\").do(get_info)\n",
    "schedule.every().wednesday.at(\"12:00\").do(get_info)\n",
    "schedule.every().wednesday.at(\"13:00\").do(get_info)\n",
    "schedule.every().wednesday.at(\"14:00\").do(get_info)\n",
    "schedule.every().wednesday.at(\"15:00\").do(get_info)\n",
    "schedule.every().wednesday.at(\"16:00\").do(get_info)\n",
    "\n",
    "schedule.every().thursday.at(\"09:00\").do(get_info)\n",
    "schedule.every().thursday.at(\"10:00\").do(get_info)\n",
    "schedule.every().thursday.at(\"11:00\").do(get_info)\n",
    "schedule.every().thursday.at(\"12:00\").do(get_info)\n",
    "schedule.every().thursday.at(\"13:00\").do(get_info)\n",
    "schedule.every().thursday.at(\"14:00\").do(get_info)\n",
    "schedule.every().thursday.at(\"15:00\").do(get_info)\n",
    "schedule.every().thursday.at(\"16:00\").do(get_info)\n",
    "\n",
    "schedule.every().friday.at(\"09:00\").do(get_info)\n",
    "schedule.every().friday.at(\"10:00\").do(get_info)\n",
    "schedule.every().friday.at(\"11:00\").do(get_info)\n",
    "schedule.every().friday.at(\"12:00\").do(get_info)\n",
    "schedule.every().friday.at(\"13:00\").do(get_info)\n",
    "schedule.every().friday.at(\"14:00\").do(get_info)\n",
    "schedule.every().friday.at(\"15:00\").do(get_info)\n",
    "schedule.every().friday.at(\"16:00\").do(get_info)\n",
    "\n",
    "\n",
    "\n",
    "\n",
    "while True:\n",
    "    schedule.run_pending()\n",
    "    time.sleep(1)"
   ]
  },
  {
   "cell_type": "code",
   "execution_count": 21,
   "metadata": {},
   "outputs": [
    {
     "name": "stdout",
     "output_type": "stream",
     "text": [
      "Enter Stock\n"
     ]
    },
    {
     "name": "stdin",
     "output_type": "stream",
     "text": [
      " AAPL\n"
     ]
    },
    {
     "data": {
      "text/html": [
       "<div>\n",
       "<style scoped>\n",
       "    .dataframe tbody tr th:only-of-type {\n",
       "        vertical-align: middle;\n",
       "    }\n",
       "\n",
       "    .dataframe tbody tr th {\n",
       "        vertical-align: top;\n",
       "    }\n",
       "\n",
       "    .dataframe thead th {\n",
       "        text-align: right;\n",
       "    }\n",
       "</style>\n",
       "<table border=\"1\" class=\"dataframe\">\n",
       "  <thead>\n",
       "    <tr style=\"text-align: right;\">\n",
       "      <th></th>\n",
       "      <th>Date</th>\n",
       "      <th>Open</th>\n",
       "      <th>Adj Close</th>\n",
       "    </tr>\n",
       "  </thead>\n",
       "  <tbody>\n",
       "    <tr>\n",
       "      <td>1270</td>\n",
       "      <td>2020-09-17</td>\n",
       "      <td>109.72</td>\n",
       "      <td>111.43</td>\n",
       "    </tr>\n",
       "    <tr>\n",
       "      <td>1271</td>\n",
       "      <td>2020-09-18</td>\n",
       "      <td>110.40</td>\n",
       "      <td>107.76</td>\n",
       "    </tr>\n",
       "    <tr>\n",
       "      <td>1272</td>\n",
       "      <td>2020-09-21</td>\n",
       "      <td>104.54</td>\n",
       "      <td>110.08</td>\n",
       "    </tr>\n",
       "    <tr>\n",
       "      <td>1273</td>\n",
       "      <td>2020-09-22</td>\n",
       "      <td>112.68</td>\n",
       "      <td>110.27</td>\n",
       "    </tr>\n",
       "    <tr>\n",
       "      <td>1274</td>\n",
       "      <td>2020-09-23</td>\n",
       "      <td>111.62</td>\n",
       "      <td>108.25</td>\n",
       "    </tr>\n",
       "  </tbody>\n",
       "</table>\n",
       "</div>"
      ],
      "text/plain": [
       "            Date    Open  Adj Close\n",
       "1270  2020-09-17  109.72     111.43\n",
       "1271  2020-09-18  110.40     107.76\n",
       "1272  2020-09-21  104.54     110.08\n",
       "1273  2020-09-22  112.68     110.27\n",
       "1274  2020-09-23  111.62     108.25"
      ]
     },
     "execution_count": 21,
     "metadata": {},
     "output_type": "execute_result"
    }
   ],
   "source": [
    "print('Enter Stock')\n",
    "x = input()\n",
    "df = pd.read_csv(f'{x}.csv')\n",
    "df.tail()"
   ]
  },
  {
   "cell_type": "code",
   "execution_count": 8,
   "metadata": {},
   "outputs": [
    {
     "name": "stdout",
     "output_type": "stream",
     "text": [
      "Enter Stock\n",
      "CVE\n"
     ]
    },
    {
     "data": {
      "application/vnd.plotly.v1+json": {
       "config": {
        "plotlyServerURL": "https://plot.ly"
       },
       "data": [
        {
         "type": "scatter",
         "x": [
          "2019-01-24",
          "2019-01-25",
          "2019-01-28",
          "2019-01-29",
          "2019-01-30",
          "2019-01-31",
          "2019-02-01",
          "2019-02-04",
          "2019-02-05",
          "2019-02-06",
          "2019-02-07",
          "2019-02-08",
          "2019-02-11",
          "2019-02-12",
          "2019-02-13",
          "2019-02-14",
          "2019-02-15",
          "2019-02-19",
          "2019-02-20",
          "2019-02-21",
          "2019-02-22",
          "2019-02-25",
          "2019-02-26",
          "2019-02-27",
          "2019-02-28",
          "2019-03-01",
          "2019-03-04",
          "2019-03-05",
          "2019-03-06",
          "2019-03-07",
          "2019-03-08",
          "2019-03-11",
          "2019-03-12",
          "2019-03-13",
          "2019-03-14",
          "2019-03-15",
          "2019-03-18",
          "2019-03-19",
          "2019-03-20",
          "2019-03-21",
          "2019-03-22",
          "2019-03-25",
          "2019-03-26",
          "2019-03-27",
          "2019-03-28",
          "2019-03-29",
          "2019-04-01",
          "2019-04-02",
          "2019-04-03",
          "2019-04-04",
          "2019-04-05",
          "2019-04-08",
          "2019-04-09",
          "2019-04-10",
          "2019-04-11",
          "2019-04-12",
          "2019-04-15",
          "2019-04-16",
          "2019-04-17",
          "2019-04-18",
          "2019-04-22",
          "2019-04-23",
          "2019-04-24",
          "2019-04-25",
          "2019-04-26",
          "2019-04-29",
          "2019-04-30",
          "2019-05-01",
          "2019-05-02",
          "2019-05-03",
          "2019-05-06",
          "2019-05-07",
          "2019-05-08",
          "2019-05-09",
          "2019-05-10",
          "2019-05-13",
          "2019-05-14",
          "2019-05-15",
          "2019-05-16",
          "2019-05-17",
          "2019-05-20",
          "2019-05-21",
          "2019-05-22",
          "2019-05-23",
          "2019-05-24",
          "2019-05-28",
          "2019-05-29",
          "2019-05-30",
          "2019-05-31",
          "2019-06-03",
          "2019-06-04",
          "2019-06-05",
          "2019-06-06",
          "2019-06-07",
          "2019-06-10",
          "2019-06-11",
          "2019-06-12",
          "2019-06-13",
          "2019-06-14",
          "2019-06-17",
          "2019-06-18",
          "2019-06-19",
          "2019-06-20",
          "2019-06-21",
          "2019-06-24",
          "2019-06-25",
          "2019-06-26",
          "2019-06-27",
          "2019-06-28",
          "2019-07-01",
          "2019-07-02",
          "2019-07-03",
          "2019-07-05",
          "2019-07-08",
          "2019-07-09",
          "2019-07-10",
          "2019-07-11",
          "2019-07-12",
          "2019-07-15",
          "2019-07-16",
          "2019-07-17",
          "2019-07-18",
          "2019-07-19",
          "2019-07-22",
          "2019-07-23",
          "2019-07-24",
          "2019-07-25",
          "2019-07-26",
          "2019-07-29",
          "2019-07-30",
          "2019-07-31",
          "2019-08-01",
          "2019-08-02",
          "2019-08-05",
          "2019-08-06",
          "2019-08-07",
          "2019-08-08",
          "2019-08-09",
          "2019-08-12",
          "2019-08-13",
          "2019-08-14",
          "2019-08-15",
          "2019-08-16",
          "2019-08-19",
          "2019-08-20",
          "2019-08-21",
          "2019-08-22",
          "2019-08-23",
          "2019-08-26",
          "2019-08-27",
          "2019-08-28",
          "2019-08-29",
          "2019-08-30",
          "2019-09-03",
          "2019-09-04",
          "2019-09-05",
          "2019-09-06",
          "2019-09-09",
          "2019-09-10",
          "2019-09-11",
          "2019-09-12",
          "2019-09-13",
          "2019-09-16",
          "2019-09-17",
          "2019-09-18",
          "2019-09-19",
          "2019-09-20",
          "2019-09-23",
          "2019-09-24",
          "2019-09-25",
          "2019-09-26",
          "2019-09-27",
          "2019-09-30",
          "2019-10-01",
          "2019-10-02",
          "2019-10-03",
          "2019-10-04",
          "2019-10-07",
          "2019-10-08",
          "2019-10-09",
          "2019-10-10",
          "2019-10-11",
          "2019-10-14",
          "2019-10-15",
          "2019-10-16",
          "2019-10-17",
          "2019-10-18",
          "2019-10-21",
          "2019-10-22",
          "2019-10-23",
          "2019-10-24",
          "2019-10-25",
          "2019-10-28",
          "2019-10-29",
          "2019-10-30",
          "2019-10-31",
          "2019-11-01",
          "2019-11-04",
          "2019-11-05",
          "2019-11-06",
          "2019-11-07",
          "2019-11-08",
          "2019-11-11",
          "2019-11-12",
          "2019-11-13",
          "2019-11-14",
          "2019-11-15",
          "2019-11-18",
          "2019-11-19",
          "2019-11-20",
          "2019-11-21",
          "2019-11-22",
          "2019-11-25",
          "2019-11-26",
          "2019-11-27",
          "2019-11-29",
          "2019-12-02",
          "2019-12-03",
          "2019-12-04",
          "2019-12-05",
          "2019-12-06",
          "2019-12-09",
          "2019-12-10",
          "2019-12-11",
          "2019-12-12",
          "2019-12-13",
          "2019-12-16",
          "2019-12-17",
          "2019-12-18",
          "2019-12-19",
          "2019-12-20",
          "2019-12-23",
          "2019-12-24",
          "2019-12-26",
          "2019-12-27",
          "2019-12-30",
          "2019-12-31",
          "2020-01-02",
          "2020-01-03",
          "2020-01-06",
          "2020-01-07",
          "2020-01-08",
          "2020-01-09",
          "2020-01-10",
          "2020-01-13",
          "2020-01-14",
          "2020-01-15",
          "2020-01-16",
          "2020-01-17",
          "2020-01-21",
          "2020-01-22",
          "2020-01-23",
          "2020-01-24",
          "2020-01-27",
          "2020-01-28",
          "2020-01-29",
          "2020-01-30",
          "2020-01-31",
          "2020-02-03",
          "2020-02-04",
          "2020-02-05",
          "2020-02-06",
          "2020-02-07",
          "2020-02-10",
          "2020-02-11",
          "2020-02-12",
          "2020-02-13",
          "2020-02-14",
          "2020-02-18",
          "2020-02-19",
          "2020-02-20",
          "2020-02-21",
          "2020-02-24",
          "2020-02-25",
          "2020-02-26",
          "2020-02-27",
          "2020-02-28",
          "2020-03-02",
          "2020-03-03",
          "2020-03-04",
          "2020-03-05",
          "2020-03-06",
          "2020-03-09",
          "2020-03-10",
          "2020-03-11",
          "2020-03-12",
          "2020-03-13",
          "2020-03-16",
          "2020-03-17",
          "2020-03-18",
          "2020-03-19",
          "2020-03-20",
          "2020-03-23",
          "2020-03-24",
          "2020-03-25",
          "2020-03-26",
          "2020-03-27",
          "2020-03-30",
          "2020-03-31",
          "2020-04-01",
          "2020-04-02",
          "2020-04-03",
          "2020-04-06",
          "2020-04-07",
          "2020-04-08",
          "2020-04-09",
          "2020-04-13",
          "2020-04-14",
          "2020-04-15",
          "2020-04-16",
          "2020-04-17",
          "2020-04-20",
          "2020-04-21",
          "2020-04-22",
          "2020-04-23",
          "2020-04-24",
          "2020-04-27",
          "2020-04-28",
          "2020-04-29",
          "2020-04-30",
          "2020-05-01",
          "2020-05-04",
          "2020-05-05",
          "2020-05-06",
          "2020-05-07",
          "2020-05-08",
          "2020-05-11",
          "2020-05-12",
          "2020-05-13",
          "2020-05-14",
          "2020-05-15",
          "2020-05-18",
          "2020-05-19",
          "2020-05-20",
          "2020-05-21",
          "2020-05-22",
          "2020-05-26",
          "2020-05-27",
          "2020-05-28",
          "2020-05-29",
          "2020-06-01",
          "2020-06-02",
          "2020-06-03",
          "2020-06-04",
          "2020-06-05",
          "2020-06-08",
          "2020-06-09",
          "2020-06-10",
          "2020-06-11",
          "2020-06-12",
          "2020-06-15",
          "2020-06-16",
          "2020-06-17",
          "2020-06-18",
          "2020-06-19",
          "2020-06-22",
          "2020-06-23",
          "2020-06-24",
          "2020-06-25",
          "2020-06-26",
          "2020-06-29",
          "2020-06-30",
          "2020-07-01",
          "2020-07-02",
          "2020-07-06",
          "2020-07-07",
          "2020-07-08",
          "2020-07-09",
          "2020-07-10",
          "2020-07-13",
          "2020-07-14",
          "2020-07-15",
          "2020-07-16",
          "2020-07-17",
          "2020-07-20",
          "2020-07-21",
          "2020-07-22",
          "2020-07-23",
          "2020-07-24",
          "2020-07-27",
          "2020-07-28",
          "2020-07-29",
          "2020-07-30",
          "2020-07-31",
          "2020-08-03",
          "2020-08-04",
          "2020-08-05",
          "2020-08-06",
          "2020-08-07",
          "2020-08-10",
          "2020-08-11",
          "2020-08-12",
          "2020-08-13",
          "2020-08-14",
          "2020-08-17",
          "2020-08-18",
          "2020-08-19",
          "2020-08-20",
          "2020-08-21",
          "2020-08-24",
          "2020-08-25",
          "2020-08-26",
          "2020-08-27",
          "2020-08-28",
          "2020-08-31",
          "2020-09-01",
          "2020-09-02",
          "2020-09-03",
          "2020-09-04",
          "2020-09-08",
          "2020-09-09",
          "2020-09-10",
          "2020-09-11",
          "2020-09-14",
          "2020-09-15",
          "2020-09-16",
          "2020-09-17",
          "2020-09-18",
          "2020-09-21",
          "2020-09-22",
          "2020-09-23"
         ],
         "y": [
          7.341856,
          7.515514,
          7.5058669999999985,
          7.592696000000001,
          7.747057000000001,
          7.515514,
          7.4286850000000015,
          7.438333,
          7.5058669999999985,
          7.563753,
          7.322562,
          7.226085,
          7.283971000000001,
          7.592696000000001,
          8.046134,
          8.065430000000001,
          8.383802000000001,
          8.470631,
          8.547812,
          8.403098,
          8.576755,
          8.615346,
          8.875832,
          8.827594,
          8.837241,
          8.817946000000003,
          8.325916000000001,
          8.296973,
          8.075078,
          8.142612,
          7.920714999999999,
          8.258384,
          8.374153999999999,
          8.538165,
          8.538165,
          8.509058,
          8.644892,
          8.615785,
          8.897157,
          8.91656,
          8.489653,
          8.266496,
          8.460545,
          8.353817999999999,
          8.353817999999999,
          8.421735,
          8.858346000000003,
          8.829239,
          8.683701,
          8.712809,
          9.110610000000001,
          9.353172,
          9.285254,
          9.731567,
          9.566625,
          9.605433999999999,
          9.489006,
          9.566625,
          9.857699,
          9.789783,
          10.119666,
          10.129367,
          9.886806,
          9.857699,
          9.712162,
          9.653948,
          9.615138,
          9.110610000000001,
          8.829239,
          8.751617999999999,
          8.838941,
          8.625486,
          8.673999,
          8.703106,
          8.780726,
          8.489653,
          8.683701,
          8.567272,
          8.509058,
          8.382925,
          8.305306,
          8.509058,
          8.285900999999999,
          7.994827000000001,
          8.004529,
          8.043339,
          8.140365,
          8.08215,
          7.946314,
          7.820183,
          7.791075,
          7.490297999999999,
          7.645539,
          7.975422,
          8.023933999999999,
          8.159768,
          8.014231,
          8.209462,
          8.268032,
          8.512071,
          8.648733,
          8.551117,
          8.765871,
          8.599924,
          8.570641,
          8.560880000000001,
          8.765871,
          8.638971000000002,
          8.609686,
          8.678017,
          8.609686,
          8.599924,
          8.736586,
          8.765871,
          8.88301,
          9.156334,
          9.214901,
          9.341803,
          9.332042,
          9.156334,
          9.253948,
          9.039194,
          9.283234,
          9.322280000000001,
          9.400372,
          9.117287,
          8.961102,
          8.990386,
          8.678017,
          9.039194,
          9.058717999999999,
          8.873249000000003,
          8.619448,
          8.248508000000001,
          8.258271,
          8.063039,
          8.287555000000001,
          8.336364,
          8.297317,
          8.512071,
          8.082562,
          7.9751850000000015,
          7.9751850000000015,
          8.063039,
          8.023992999999999,
          8.336364,
          8.365647000000001,
          8.102086,
          8.209462,
          8.082562,
          8.307078,
          8.678017,
          8.521832,
          8.414455,
          8.512071,
          8.922056,
          8.892771,
          9.039194,
          9.127048,
          9.146571,
          9.311233,
          9.164214,
          10.310966,
          9.948317999999999,
          9.771894999999999,
          9.781695,
          9.762093,
          9.673882,
          9.526862,
          9.526862,
          9.487658,
          9.419047,
          9.193617999999999,
          8.938784,
          8.546732,
          8.605539,
          8.360508,
          8.399712,
          7.9684550000000005,
          7.870442,
          8.007661,
          8.409514,
          8.282097,
          8.370308999999999,
          8.429116,
          8.478123,
          8.419315,
          8.566334,
          8.507527,
          8.772161,
          8.605539,
          8.595738,
          8.52713,
          8.683949,
          8.478123,
          8.321302000000001,
          8.546732,
          8.713353999999999,
          8.879976,
          8.644745,
          9.017194,
          8.987791,
          9.174014999999999,
          9.056399,
          9.066201,
          8.860374,
          9.085804,
          8.968187,
          8.713353999999999,
          8.732957,
          8.879976,
          8.791765,
          8.909381,
          8.948586,
          8.899579,
          8.713353999999999,
          8.644745,
          8.360508,
          8.625143,
          8.52713,
          9.105406,
          9.026996,
          9.21322,
          9.223022,
          9.476179,
          9.525432,
          9.584535,
          9.732292,
          9.69289,
          9.751992999999999,
          9.712591,
          9.8899,
          9.860349000000001,
          10.017957000000001,
          9.909602,
          9.919452,
          9.998256,
          9.988406,
          10.037658,
          10.313472,
          10.254369,
          9.909602,
          9.840648,
          9.732292,
          9.525432,
          9.397375,
          9.348123,
          9.249619000000001,
          9.121561999999999,
          9.003356,
          8.954103,
          8.904850999999997,
          8.619186000000001,
          8.609335,
          8.727541,
          8.816195,
          8.924552,
          8.579784,
          8.50098,
          8.579784,
          9.003356,
          9.013206,
          8.796495,
          8.826047,
          8.88515,
          8.993505,
          8.845747,
          8.776794,
          8.766943,
          8.934402,
          9.052608,
          8.904850999999997,
          8.363073,
          8.116811,
          7.7917440000000004,
          7.348472,
          7.259817,
          7.348472,
          6.984004,
          6.865797,
          6.5702820000000015,
          5.801943,
          2.75814,
          3.053654,
          2.965,
          2.61,
          3,
          2.45,
          1.93,
          1.6,
          1.64,
          1.66,
          1.61,
          1.78,
          2.01,
          1.89,
          1.69,
          1.71,
          2.02,
          1.91,
          2.36,
          2.43,
          2.68,
          2.75,
          2.95,
          2.76,
          2.67,
          2.62,
          2.52,
          2.51,
          2.73,
          2.63,
          2.63,
          2.9,
          3.11,
          3.05,
          3.04,
          3.14,
          3.59,
          3.64,
          3.34,
          3.37,
          3.65,
          3.56,
          3.81,
          3.86,
          3.67,
          3.78,
          3.5,
          3.5,
          3.71,
          4.44,
          4.01,
          4.31,
          4.28,
          4.25,
          4.36,
          4.5,
          4.37,
          4.33,
          4.5,
          4.75,
          4.8,
          4.82,
          5.24,
          5.78,
          5.38,
          5.13,
          4.5,
          4.58,
          4.63,
          4.91,
          4.6,
          4.46,
          4.53,
          4.61,
          4.7,
          4.56,
          4.66,
          4.45,
          4.68,
          4.67,
          4.61,
          4.74,
          4.67,
          4.48,
          4.44,
          4.32,
          4.42,
          4.24,
          4.42,
          4.65,
          4.57,
          4.46,
          4.38,
          4.93,
          4.97,
          4.98,
          5.01,
          5.07,
          4.76,
          4.82,
          4.6,
          4.46,
          4.52,
          4.64,
          4.98,
          4.95,
          4.87,
          5.08,
          5.05,
          5.23,
          5.12,
          5.15,
          5.21,
          5.05,
          4.97,
          4.93,
          4.68,
          4.89,
          4.95,
          4.82,
          4.81,
          4.91,
          4.72,
          4.74,
          4.67,
          4.79,
          4.65,
          4.18,
          4.25,
          4.07,
          4.11,
          4.11,
          4.13,
          4.23,
          4.32,
          4.2767,
          3.96,
          3.99,
          3.9101
         ]
        }
       ],
       "layout": {
        "template": {
         "data": {
          "bar": [
           {
            "error_x": {
             "color": "#2a3f5f"
            },
            "error_y": {
             "color": "#2a3f5f"
            },
            "marker": {
             "line": {
              "color": "#E5ECF6",
              "width": 0.5
             }
            },
            "type": "bar"
           }
          ],
          "barpolar": [
           {
            "marker": {
             "line": {
              "color": "#E5ECF6",
              "width": 0.5
             }
            },
            "type": "barpolar"
           }
          ],
          "carpet": [
           {
            "aaxis": {
             "endlinecolor": "#2a3f5f",
             "gridcolor": "white",
             "linecolor": "white",
             "minorgridcolor": "white",
             "startlinecolor": "#2a3f5f"
            },
            "baxis": {
             "endlinecolor": "#2a3f5f",
             "gridcolor": "white",
             "linecolor": "white",
             "minorgridcolor": "white",
             "startlinecolor": "#2a3f5f"
            },
            "type": "carpet"
           }
          ],
          "choropleth": [
           {
            "colorbar": {
             "outlinewidth": 0,
             "ticks": ""
            },
            "type": "choropleth"
           }
          ],
          "contour": [
           {
            "colorbar": {
             "outlinewidth": 0,
             "ticks": ""
            },
            "colorscale": [
             [
              0,
              "#0d0887"
             ],
             [
              0.1111111111111111,
              "#46039f"
             ],
             [
              0.2222222222222222,
              "#7201a8"
             ],
             [
              0.3333333333333333,
              "#9c179e"
             ],
             [
              0.4444444444444444,
              "#bd3786"
             ],
             [
              0.5555555555555556,
              "#d8576b"
             ],
             [
              0.6666666666666666,
              "#ed7953"
             ],
             [
              0.7777777777777778,
              "#fb9f3a"
             ],
             [
              0.8888888888888888,
              "#fdca26"
             ],
             [
              1,
              "#f0f921"
             ]
            ],
            "type": "contour"
           }
          ],
          "contourcarpet": [
           {
            "colorbar": {
             "outlinewidth": 0,
             "ticks": ""
            },
            "type": "contourcarpet"
           }
          ],
          "heatmap": [
           {
            "colorbar": {
             "outlinewidth": 0,
             "ticks": ""
            },
            "colorscale": [
             [
              0,
              "#0d0887"
             ],
             [
              0.1111111111111111,
              "#46039f"
             ],
             [
              0.2222222222222222,
              "#7201a8"
             ],
             [
              0.3333333333333333,
              "#9c179e"
             ],
             [
              0.4444444444444444,
              "#bd3786"
             ],
             [
              0.5555555555555556,
              "#d8576b"
             ],
             [
              0.6666666666666666,
              "#ed7953"
             ],
             [
              0.7777777777777778,
              "#fb9f3a"
             ],
             [
              0.8888888888888888,
              "#fdca26"
             ],
             [
              1,
              "#f0f921"
             ]
            ],
            "type": "heatmap"
           }
          ],
          "heatmapgl": [
           {
            "colorbar": {
             "outlinewidth": 0,
             "ticks": ""
            },
            "colorscale": [
             [
              0,
              "#0d0887"
             ],
             [
              0.1111111111111111,
              "#46039f"
             ],
             [
              0.2222222222222222,
              "#7201a8"
             ],
             [
              0.3333333333333333,
              "#9c179e"
             ],
             [
              0.4444444444444444,
              "#bd3786"
             ],
             [
              0.5555555555555556,
              "#d8576b"
             ],
             [
              0.6666666666666666,
              "#ed7953"
             ],
             [
              0.7777777777777778,
              "#fb9f3a"
             ],
             [
              0.8888888888888888,
              "#fdca26"
             ],
             [
              1,
              "#f0f921"
             ]
            ],
            "type": "heatmapgl"
           }
          ],
          "histogram": [
           {
            "marker": {
             "colorbar": {
              "outlinewidth": 0,
              "ticks": ""
             }
            },
            "type": "histogram"
           }
          ],
          "histogram2d": [
           {
            "colorbar": {
             "outlinewidth": 0,
             "ticks": ""
            },
            "colorscale": [
             [
              0,
              "#0d0887"
             ],
             [
              0.1111111111111111,
              "#46039f"
             ],
             [
              0.2222222222222222,
              "#7201a8"
             ],
             [
              0.3333333333333333,
              "#9c179e"
             ],
             [
              0.4444444444444444,
              "#bd3786"
             ],
             [
              0.5555555555555556,
              "#d8576b"
             ],
             [
              0.6666666666666666,
              "#ed7953"
             ],
             [
              0.7777777777777778,
              "#fb9f3a"
             ],
             [
              0.8888888888888888,
              "#fdca26"
             ],
             [
              1,
              "#f0f921"
             ]
            ],
            "type": "histogram2d"
           }
          ],
          "histogram2dcontour": [
           {
            "colorbar": {
             "outlinewidth": 0,
             "ticks": ""
            },
            "colorscale": [
             [
              0,
              "#0d0887"
             ],
             [
              0.1111111111111111,
              "#46039f"
             ],
             [
              0.2222222222222222,
              "#7201a8"
             ],
             [
              0.3333333333333333,
              "#9c179e"
             ],
             [
              0.4444444444444444,
              "#bd3786"
             ],
             [
              0.5555555555555556,
              "#d8576b"
             ],
             [
              0.6666666666666666,
              "#ed7953"
             ],
             [
              0.7777777777777778,
              "#fb9f3a"
             ],
             [
              0.8888888888888888,
              "#fdca26"
             ],
             [
              1,
              "#f0f921"
             ]
            ],
            "type": "histogram2dcontour"
           }
          ],
          "mesh3d": [
           {
            "colorbar": {
             "outlinewidth": 0,
             "ticks": ""
            },
            "type": "mesh3d"
           }
          ],
          "parcoords": [
           {
            "line": {
             "colorbar": {
              "outlinewidth": 0,
              "ticks": ""
             }
            },
            "type": "parcoords"
           }
          ],
          "pie": [
           {
            "automargin": true,
            "type": "pie"
           }
          ],
          "scatter": [
           {
            "marker": {
             "colorbar": {
              "outlinewidth": 0,
              "ticks": ""
             }
            },
            "type": "scatter"
           }
          ],
          "scatter3d": [
           {
            "line": {
             "colorbar": {
              "outlinewidth": 0,
              "ticks": ""
             }
            },
            "marker": {
             "colorbar": {
              "outlinewidth": 0,
              "ticks": ""
             }
            },
            "type": "scatter3d"
           }
          ],
          "scattercarpet": [
           {
            "marker": {
             "colorbar": {
              "outlinewidth": 0,
              "ticks": ""
             }
            },
            "type": "scattercarpet"
           }
          ],
          "scattergeo": [
           {
            "marker": {
             "colorbar": {
              "outlinewidth": 0,
              "ticks": ""
             }
            },
            "type": "scattergeo"
           }
          ],
          "scattergl": [
           {
            "marker": {
             "colorbar": {
              "outlinewidth": 0,
              "ticks": ""
             }
            },
            "type": "scattergl"
           }
          ],
          "scattermapbox": [
           {
            "marker": {
             "colorbar": {
              "outlinewidth": 0,
              "ticks": ""
             }
            },
            "type": "scattermapbox"
           }
          ],
          "scatterpolar": [
           {
            "marker": {
             "colorbar": {
              "outlinewidth": 0,
              "ticks": ""
             }
            },
            "type": "scatterpolar"
           }
          ],
          "scatterpolargl": [
           {
            "marker": {
             "colorbar": {
              "outlinewidth": 0,
              "ticks": ""
             }
            },
            "type": "scatterpolargl"
           }
          ],
          "scatterternary": [
           {
            "marker": {
             "colorbar": {
              "outlinewidth": 0,
              "ticks": ""
             }
            },
            "type": "scatterternary"
           }
          ],
          "surface": [
           {
            "colorbar": {
             "outlinewidth": 0,
             "ticks": ""
            },
            "colorscale": [
             [
              0,
              "#0d0887"
             ],
             [
              0.1111111111111111,
              "#46039f"
             ],
             [
              0.2222222222222222,
              "#7201a8"
             ],
             [
              0.3333333333333333,
              "#9c179e"
             ],
             [
              0.4444444444444444,
              "#bd3786"
             ],
             [
              0.5555555555555556,
              "#d8576b"
             ],
             [
              0.6666666666666666,
              "#ed7953"
             ],
             [
              0.7777777777777778,
              "#fb9f3a"
             ],
             [
              0.8888888888888888,
              "#fdca26"
             ],
             [
              1,
              "#f0f921"
             ]
            ],
            "type": "surface"
           }
          ],
          "table": [
           {
            "cells": {
             "fill": {
              "color": "#EBF0F8"
             },
             "line": {
              "color": "white"
             }
            },
            "header": {
             "fill": {
              "color": "#C8D4E3"
             },
             "line": {
              "color": "white"
             }
            },
            "type": "table"
           }
          ]
         },
         "layout": {
          "annotationdefaults": {
           "arrowcolor": "#2a3f5f",
           "arrowhead": 0,
           "arrowwidth": 1
          },
          "coloraxis": {
           "colorbar": {
            "outlinewidth": 0,
            "ticks": ""
           }
          },
          "colorscale": {
           "diverging": [
            [
             0,
             "#8e0152"
            ],
            [
             0.1,
             "#c51b7d"
            ],
            [
             0.2,
             "#de77ae"
            ],
            [
             0.3,
             "#f1b6da"
            ],
            [
             0.4,
             "#fde0ef"
            ],
            [
             0.5,
             "#f7f7f7"
            ],
            [
             0.6,
             "#e6f5d0"
            ],
            [
             0.7,
             "#b8e186"
            ],
            [
             0.8,
             "#7fbc41"
            ],
            [
             0.9,
             "#4d9221"
            ],
            [
             1,
             "#276419"
            ]
           ],
           "sequential": [
            [
             0,
             "#0d0887"
            ],
            [
             0.1111111111111111,
             "#46039f"
            ],
            [
             0.2222222222222222,
             "#7201a8"
            ],
            [
             0.3333333333333333,
             "#9c179e"
            ],
            [
             0.4444444444444444,
             "#bd3786"
            ],
            [
             0.5555555555555556,
             "#d8576b"
            ],
            [
             0.6666666666666666,
             "#ed7953"
            ],
            [
             0.7777777777777778,
             "#fb9f3a"
            ],
            [
             0.8888888888888888,
             "#fdca26"
            ],
            [
             1,
             "#f0f921"
            ]
           ],
           "sequentialminus": [
            [
             0,
             "#0d0887"
            ],
            [
             0.1111111111111111,
             "#46039f"
            ],
            [
             0.2222222222222222,
             "#7201a8"
            ],
            [
             0.3333333333333333,
             "#9c179e"
            ],
            [
             0.4444444444444444,
             "#bd3786"
            ],
            [
             0.5555555555555556,
             "#d8576b"
            ],
            [
             0.6666666666666666,
             "#ed7953"
            ],
            [
             0.7777777777777778,
             "#fb9f3a"
            ],
            [
             0.8888888888888888,
             "#fdca26"
            ],
            [
             1,
             "#f0f921"
            ]
           ]
          },
          "colorway": [
           "#636efa",
           "#EF553B",
           "#00cc96",
           "#ab63fa",
           "#FFA15A",
           "#19d3f3",
           "#FF6692",
           "#B6E880",
           "#FF97FF",
           "#FECB52"
          ],
          "font": {
           "color": "#2a3f5f"
          },
          "geo": {
           "bgcolor": "white",
           "lakecolor": "white",
           "landcolor": "#E5ECF6",
           "showlakes": true,
           "showland": true,
           "subunitcolor": "white"
          },
          "hoverlabel": {
           "align": "left"
          },
          "hovermode": "closest",
          "mapbox": {
           "style": "light"
          },
          "paper_bgcolor": "white",
          "plot_bgcolor": "#E5ECF6",
          "polar": {
           "angularaxis": {
            "gridcolor": "white",
            "linecolor": "white",
            "ticks": ""
           },
           "bgcolor": "#E5ECF6",
           "radialaxis": {
            "gridcolor": "white",
            "linecolor": "white",
            "ticks": ""
           }
          },
          "scene": {
           "xaxis": {
            "backgroundcolor": "#E5ECF6",
            "gridcolor": "white",
            "gridwidth": 2,
            "linecolor": "white",
            "showbackground": true,
            "ticks": "",
            "zerolinecolor": "white"
           },
           "yaxis": {
            "backgroundcolor": "#E5ECF6",
            "gridcolor": "white",
            "gridwidth": 2,
            "linecolor": "white",
            "showbackground": true,
            "ticks": "",
            "zerolinecolor": "white"
           },
           "zaxis": {
            "backgroundcolor": "#E5ECF6",
            "gridcolor": "white",
            "gridwidth": 2,
            "linecolor": "white",
            "showbackground": true,
            "ticks": "",
            "zerolinecolor": "white"
           }
          },
          "shapedefaults": {
           "line": {
            "color": "#2a3f5f"
           }
          },
          "ternary": {
           "aaxis": {
            "gridcolor": "white",
            "linecolor": "white",
            "ticks": ""
           },
           "baxis": {
            "gridcolor": "white",
            "linecolor": "white",
            "ticks": ""
           },
           "bgcolor": "#E5ECF6",
           "caxis": {
            "gridcolor": "white",
            "linecolor": "white",
            "ticks": ""
           }
          },
          "title": {
           "x": 0.05
          },
          "xaxis": {
           "automargin": true,
           "gridcolor": "white",
           "linecolor": "white",
           "ticks": "",
           "title": {
            "standoff": 15
           },
           "zerolinecolor": "white",
           "zerolinewidth": 2
          },
          "yaxis": {
           "automargin": true,
           "gridcolor": "white",
           "linecolor": "white",
           "ticks": "",
           "title": {
            "standoff": 15
           },
           "zerolinecolor": "white",
           "zerolinewidth": 2
          }
         }
        },
        "title": {
         "text": "CVE"
        },
        "xaxis": {
         "rangeselector": {
          "buttons": [
           {
            "count": 10,
            "label": "10D",
            "step": "day",
            "stepmode": "backward"
           },
           {
            "count": 1,
            "label": "1M",
            "step": "month",
            "stepmode": "backward"
           },
           {
            "count": 6,
            "label": "6M",
            "step": "month",
            "stepmode": "backward"
           },
           {
            "count": 1,
            "label": "1Y",
            "step": "year",
            "stepmode": "backward"
           },
           {
            "count": 1,
            "label": "YTD",
            "step": "year",
            "stepmode": "backward"
           },
           {
            "step": "all"
           }
          ]
         },
         "rangeslider": {
          "visible": true
         },
         "title": {
          "text": "Dates"
         }
        },
        "yaxis": {
         "title": {
          "text": "Stock Price USD"
         }
        }
       }
      },
      "text/html": [
       "<div>                            <div id=\"b7b516f5-d18a-4bea-bcbf-5eacbcab5b02\" class=\"plotly-graph-div\" style=\"height:525px; width:100%;\"></div>            <script type=\"text/javascript\">                require([\"plotly\"], function(Plotly) {                    window.PLOTLYENV=window.PLOTLYENV || {};                                    if (document.getElementById(\"b7b516f5-d18a-4bea-bcbf-5eacbcab5b02\")) {                    Plotly.newPlot(                        \"b7b516f5-d18a-4bea-bcbf-5eacbcab5b02\",                        [{\"type\": \"scatter\", \"x\": [\"2019-01-24\", \"2019-01-25\", \"2019-01-28\", \"2019-01-29\", \"2019-01-30\", \"2019-01-31\", \"2019-02-01\", \"2019-02-04\", \"2019-02-05\", \"2019-02-06\", \"2019-02-07\", \"2019-02-08\", \"2019-02-11\", \"2019-02-12\", \"2019-02-13\", \"2019-02-14\", \"2019-02-15\", \"2019-02-19\", \"2019-02-20\", \"2019-02-21\", \"2019-02-22\", \"2019-02-25\", \"2019-02-26\", \"2019-02-27\", \"2019-02-28\", \"2019-03-01\", \"2019-03-04\", \"2019-03-05\", \"2019-03-06\", \"2019-03-07\", \"2019-03-08\", \"2019-03-11\", \"2019-03-12\", \"2019-03-13\", \"2019-03-14\", \"2019-03-15\", \"2019-03-18\", \"2019-03-19\", \"2019-03-20\", \"2019-03-21\", \"2019-03-22\", \"2019-03-25\", \"2019-03-26\", \"2019-03-27\", \"2019-03-28\", \"2019-03-29\", \"2019-04-01\", \"2019-04-02\", \"2019-04-03\", \"2019-04-04\", \"2019-04-05\", \"2019-04-08\", \"2019-04-09\", \"2019-04-10\", \"2019-04-11\", \"2019-04-12\", \"2019-04-15\", \"2019-04-16\", \"2019-04-17\", \"2019-04-18\", \"2019-04-22\", \"2019-04-23\", \"2019-04-24\", \"2019-04-25\", \"2019-04-26\", \"2019-04-29\", \"2019-04-30\", \"2019-05-01\", \"2019-05-02\", \"2019-05-03\", \"2019-05-06\", \"2019-05-07\", \"2019-05-08\", \"2019-05-09\", \"2019-05-10\", \"2019-05-13\", \"2019-05-14\", \"2019-05-15\", \"2019-05-16\", \"2019-05-17\", \"2019-05-20\", \"2019-05-21\", \"2019-05-22\", \"2019-05-23\", \"2019-05-24\", \"2019-05-28\", \"2019-05-29\", \"2019-05-30\", \"2019-05-31\", \"2019-06-03\", \"2019-06-04\", \"2019-06-05\", \"2019-06-06\", \"2019-06-07\", \"2019-06-10\", \"2019-06-11\", \"2019-06-12\", \"2019-06-13\", \"2019-06-14\", \"2019-06-17\", \"2019-06-18\", \"2019-06-19\", \"2019-06-20\", \"2019-06-21\", \"2019-06-24\", \"2019-06-25\", \"2019-06-26\", \"2019-06-27\", \"2019-06-28\", \"2019-07-01\", \"2019-07-02\", \"2019-07-03\", \"2019-07-05\", \"2019-07-08\", \"2019-07-09\", \"2019-07-10\", \"2019-07-11\", \"2019-07-12\", \"2019-07-15\", \"2019-07-16\", \"2019-07-17\", \"2019-07-18\", \"2019-07-19\", \"2019-07-22\", \"2019-07-23\", \"2019-07-24\", \"2019-07-25\", \"2019-07-26\", \"2019-07-29\", \"2019-07-30\", \"2019-07-31\", \"2019-08-01\", \"2019-08-02\", \"2019-08-05\", \"2019-08-06\", \"2019-08-07\", \"2019-08-08\", \"2019-08-09\", \"2019-08-12\", \"2019-08-13\", \"2019-08-14\", \"2019-08-15\", \"2019-08-16\", \"2019-08-19\", \"2019-08-20\", \"2019-08-21\", \"2019-08-22\", \"2019-08-23\", \"2019-08-26\", \"2019-08-27\", \"2019-08-28\", \"2019-08-29\", \"2019-08-30\", \"2019-09-03\", \"2019-09-04\", \"2019-09-05\", \"2019-09-06\", \"2019-09-09\", \"2019-09-10\", \"2019-09-11\", \"2019-09-12\", \"2019-09-13\", \"2019-09-16\", \"2019-09-17\", \"2019-09-18\", \"2019-09-19\", \"2019-09-20\", \"2019-09-23\", \"2019-09-24\", \"2019-09-25\", \"2019-09-26\", \"2019-09-27\", \"2019-09-30\", \"2019-10-01\", \"2019-10-02\", \"2019-10-03\", \"2019-10-04\", \"2019-10-07\", \"2019-10-08\", \"2019-10-09\", \"2019-10-10\", \"2019-10-11\", \"2019-10-14\", \"2019-10-15\", \"2019-10-16\", \"2019-10-17\", \"2019-10-18\", \"2019-10-21\", \"2019-10-22\", \"2019-10-23\", \"2019-10-24\", \"2019-10-25\", \"2019-10-28\", \"2019-10-29\", \"2019-10-30\", \"2019-10-31\", \"2019-11-01\", \"2019-11-04\", \"2019-11-05\", \"2019-11-06\", \"2019-11-07\", \"2019-11-08\", \"2019-11-11\", \"2019-11-12\", \"2019-11-13\", \"2019-11-14\", \"2019-11-15\", \"2019-11-18\", \"2019-11-19\", \"2019-11-20\", \"2019-11-21\", \"2019-11-22\", \"2019-11-25\", \"2019-11-26\", \"2019-11-27\", \"2019-11-29\", \"2019-12-02\", \"2019-12-03\", \"2019-12-04\", \"2019-12-05\", \"2019-12-06\", \"2019-12-09\", \"2019-12-10\", \"2019-12-11\", \"2019-12-12\", \"2019-12-13\", \"2019-12-16\", \"2019-12-17\", \"2019-12-18\", \"2019-12-19\", \"2019-12-20\", \"2019-12-23\", \"2019-12-24\", \"2019-12-26\", \"2019-12-27\", \"2019-12-30\", \"2019-12-31\", \"2020-01-02\", \"2020-01-03\", \"2020-01-06\", \"2020-01-07\", \"2020-01-08\", \"2020-01-09\", \"2020-01-10\", \"2020-01-13\", \"2020-01-14\", \"2020-01-15\", \"2020-01-16\", \"2020-01-17\", \"2020-01-21\", \"2020-01-22\", \"2020-01-23\", \"2020-01-24\", \"2020-01-27\", \"2020-01-28\", \"2020-01-29\", \"2020-01-30\", \"2020-01-31\", \"2020-02-03\", \"2020-02-04\", \"2020-02-05\", \"2020-02-06\", \"2020-02-07\", \"2020-02-10\", \"2020-02-11\", \"2020-02-12\", \"2020-02-13\", \"2020-02-14\", \"2020-02-18\", \"2020-02-19\", \"2020-02-20\", \"2020-02-21\", \"2020-02-24\", \"2020-02-25\", \"2020-02-26\", \"2020-02-27\", \"2020-02-28\", \"2020-03-02\", \"2020-03-03\", \"2020-03-04\", \"2020-03-05\", \"2020-03-06\", \"2020-03-09\", \"2020-03-10\", \"2020-03-11\", \"2020-03-12\", \"2020-03-13\", \"2020-03-16\", \"2020-03-17\", \"2020-03-18\", \"2020-03-19\", \"2020-03-20\", \"2020-03-23\", \"2020-03-24\", \"2020-03-25\", \"2020-03-26\", \"2020-03-27\", \"2020-03-30\", \"2020-03-31\", \"2020-04-01\", \"2020-04-02\", \"2020-04-03\", \"2020-04-06\", \"2020-04-07\", \"2020-04-08\", \"2020-04-09\", \"2020-04-13\", \"2020-04-14\", \"2020-04-15\", \"2020-04-16\", \"2020-04-17\", \"2020-04-20\", \"2020-04-21\", \"2020-04-22\", \"2020-04-23\", \"2020-04-24\", \"2020-04-27\", \"2020-04-28\", \"2020-04-29\", \"2020-04-30\", \"2020-05-01\", \"2020-05-04\", \"2020-05-05\", \"2020-05-06\", \"2020-05-07\", \"2020-05-08\", \"2020-05-11\", \"2020-05-12\", \"2020-05-13\", \"2020-05-14\", \"2020-05-15\", \"2020-05-18\", \"2020-05-19\", \"2020-05-20\", \"2020-05-21\", \"2020-05-22\", \"2020-05-26\", \"2020-05-27\", \"2020-05-28\", \"2020-05-29\", \"2020-06-01\", \"2020-06-02\", \"2020-06-03\", \"2020-06-04\", \"2020-06-05\", \"2020-06-08\", \"2020-06-09\", \"2020-06-10\", \"2020-06-11\", \"2020-06-12\", \"2020-06-15\", \"2020-06-16\", \"2020-06-17\", \"2020-06-18\", \"2020-06-19\", \"2020-06-22\", \"2020-06-23\", \"2020-06-24\", \"2020-06-25\", \"2020-06-26\", \"2020-06-29\", \"2020-06-30\", \"2020-07-01\", \"2020-07-02\", \"2020-07-06\", \"2020-07-07\", \"2020-07-08\", \"2020-07-09\", \"2020-07-10\", \"2020-07-13\", \"2020-07-14\", \"2020-07-15\", \"2020-07-16\", \"2020-07-17\", \"2020-07-20\", \"2020-07-21\", \"2020-07-22\", \"2020-07-23\", \"2020-07-24\", \"2020-07-27\", \"2020-07-28\", \"2020-07-29\", \"2020-07-30\", \"2020-07-31\", \"2020-08-03\", \"2020-08-04\", \"2020-08-05\", \"2020-08-06\", \"2020-08-07\", \"2020-08-10\", \"2020-08-11\", \"2020-08-12\", \"2020-08-13\", \"2020-08-14\", \"2020-08-17\", \"2020-08-18\", \"2020-08-19\", \"2020-08-20\", \"2020-08-21\", \"2020-08-24\", \"2020-08-25\", \"2020-08-26\", \"2020-08-27\", \"2020-08-28\", \"2020-08-31\", \"2020-09-01\", \"2020-09-02\", \"2020-09-03\", \"2020-09-04\", \"2020-09-08\", \"2020-09-09\", \"2020-09-10\", \"2020-09-11\", \"2020-09-14\", \"2020-09-15\", \"2020-09-16\", \"2020-09-17\", \"2020-09-18\", \"2020-09-21\", \"2020-09-22\", \"2020-09-23\"], \"y\": [7.341856, 7.515514, 7.5058669999999985, 7.592696000000001, 7.747057000000001, 7.515514, 7.4286850000000015, 7.438333, 7.5058669999999985, 7.563753, 7.322562, 7.226085, 7.283971000000001, 7.592696000000001, 8.046134, 8.065430000000001, 8.383802000000001, 8.470631, 8.547812, 8.403098, 8.576755, 8.615346, 8.875832, 8.827594, 8.837241, 8.817946000000003, 8.325916000000001, 8.296973, 8.075078, 8.142612, 7.920714999999999, 8.258384, 8.374153999999999, 8.538165, 8.538165, 8.509058, 8.644892, 8.615785, 8.897157, 8.91656, 8.489653, 8.266496, 8.460545, 8.353817999999999, 8.353817999999999, 8.421735, 8.858346000000003, 8.829239, 8.683701, 8.712809, 9.110610000000001, 9.353172, 9.285254, 9.731567, 9.566625, 9.605433999999999, 9.489006, 9.566625, 9.857699, 9.789783, 10.119666, 10.129367, 9.886806, 9.857699, 9.712162, 9.653948, 9.615138, 9.110610000000001, 8.829239, 8.751617999999999, 8.838941, 8.625486, 8.673999, 8.703106, 8.780726, 8.489653, 8.683701, 8.567272, 8.509058, 8.382925, 8.305306, 8.509058, 8.285900999999999, 7.994827000000001, 8.004529, 8.043339, 8.140365, 8.08215, 7.946314, 7.820183, 7.791075, 7.490297999999999, 7.645539, 7.975422, 8.023933999999999, 8.159768, 8.014231, 8.209462, 8.268032, 8.512071, 8.648733, 8.551117, 8.765871, 8.599924, 8.570641, 8.560880000000001, 8.765871, 8.638971000000002, 8.609686, 8.678017, 8.609686, 8.599924, 8.736586, 8.765871, 8.88301, 9.156334, 9.214901, 9.341803, 9.332042, 9.156334, 9.253948, 9.039194, 9.283234, 9.322280000000001, 9.400372, 9.117287, 8.961102, 8.990386, 8.678017, 9.039194, 9.058717999999999, 8.873249000000003, 8.619448, 8.248508000000001, 8.258271, 8.063039, 8.287555000000001, 8.336364, 8.297317, 8.512071, 8.082562, 7.9751850000000015, 7.9751850000000015, 8.063039, 8.023992999999999, 8.336364, 8.365647000000001, 8.102086, 8.209462, 8.082562, 8.307078, 8.678017, 8.521832, 8.414455, 8.512071, 8.922056, 8.892771, 9.039194, 9.127048, 9.146571, 9.311233, 9.164214, 10.310966, 9.948317999999999, 9.771894999999999, 9.781695, 9.762093, 9.673882, 9.526862, 9.526862, 9.487658, 9.419047, 9.193617999999999, 8.938784, 8.546732, 8.605539, 8.360508, 8.399712, 7.9684550000000005, 7.870442, 8.007661, 8.409514, 8.282097, 8.370308999999999, 8.429116, 8.478123, 8.419315, 8.566334, 8.507527, 8.772161, 8.605539, 8.595738, 8.52713, 8.683949, 8.478123, 8.321302000000001, 8.546732, 8.713353999999999, 8.879976, 8.644745, 9.017194, 8.987791, 9.174014999999999, 9.056399, 9.066201, 8.860374, 9.085804, 8.968187, 8.713353999999999, 8.732957, 8.879976, 8.791765, 8.909381, 8.948586, 8.899579, 8.713353999999999, 8.644745, 8.360508, 8.625143, 8.52713, 9.105406, 9.026996, 9.21322, 9.223022, 9.476179, 9.525432, 9.584535, 9.732292, 9.69289, 9.751992999999999, 9.712591, 9.8899, 9.860349000000001, 10.017957000000001, 9.909602, 9.919452, 9.998256, 9.988406, 10.037658, 10.313472, 10.254369, 9.909602, 9.840648, 9.732292, 9.525432, 9.397375, 9.348123, 9.249619000000001, 9.121561999999999, 9.003356, 8.954103, 8.904850999999997, 8.619186000000001, 8.609335, 8.727541, 8.816195, 8.924552, 8.579784, 8.50098, 8.579784, 9.003356, 9.013206, 8.796495, 8.826047, 8.88515, 8.993505, 8.845747, 8.776794, 8.766943, 8.934402, 9.052608, 8.904850999999997, 8.363073, 8.116811, 7.7917440000000004, 7.348472, 7.259817, 7.348472, 6.984004, 6.865797, 6.5702820000000015, 5.801943, 2.75814, 3.053654, 2.965, 2.61, 3.0, 2.45, 1.93, 1.6, 1.64, 1.66, 1.61, 1.78, 2.01, 1.89, 1.69, 1.71, 2.02, 1.91, 2.36, 2.43, 2.68, 2.75, 2.95, 2.76, 2.67, 2.62, 2.52, 2.51, 2.73, 2.63, 2.63, 2.9, 3.11, 3.05, 3.04, 3.14, 3.59, 3.64, 3.34, 3.37, 3.65, 3.56, 3.81, 3.86, 3.67, 3.78, 3.5, 3.5, 3.71, 4.44, 4.01, 4.31, 4.28, 4.25, 4.36, 4.5, 4.37, 4.33, 4.5, 4.75, 4.8, 4.82, 5.24, 5.78, 5.38, 5.13, 4.5, 4.58, 4.63, 4.91, 4.6, 4.46, 4.53, 4.61, 4.7, 4.56, 4.66, 4.45, 4.68, 4.67, 4.61, 4.74, 4.67, 4.48, 4.44, 4.32, 4.42, 4.24, 4.42, 4.65, 4.57, 4.46, 4.38, 4.93, 4.97, 4.98, 5.01, 5.07, 4.76, 4.82, 4.6, 4.46, 4.52, 4.64, 4.98, 4.95, 4.87, 5.08, 5.05, 5.23, 5.12, 5.15, 5.21, 5.05, 4.97, 4.93, 4.68, 4.89, 4.95, 4.82, 4.81, 4.91, 4.72, 4.74, 4.67, 4.79, 4.65, 4.18, 4.25, 4.07, 4.11, 4.11, 4.13, 4.23, 4.32, 4.2767, 3.96, 3.99, 3.9101]}],                        {\"template\": {\"data\": {\"bar\": [{\"error_x\": {\"color\": \"#2a3f5f\"}, \"error_y\": {\"color\": \"#2a3f5f\"}, \"marker\": {\"line\": {\"color\": \"#E5ECF6\", \"width\": 0.5}}, \"type\": \"bar\"}], \"barpolar\": [{\"marker\": {\"line\": {\"color\": \"#E5ECF6\", \"width\": 0.5}}, \"type\": \"barpolar\"}], \"carpet\": [{\"aaxis\": {\"endlinecolor\": \"#2a3f5f\", \"gridcolor\": \"white\", \"linecolor\": \"white\", \"minorgridcolor\": \"white\", \"startlinecolor\": \"#2a3f5f\"}, \"baxis\": {\"endlinecolor\": \"#2a3f5f\", \"gridcolor\": \"white\", \"linecolor\": \"white\", \"minorgridcolor\": \"white\", \"startlinecolor\": \"#2a3f5f\"}, \"type\": \"carpet\"}], \"choropleth\": [{\"colorbar\": {\"outlinewidth\": 0, \"ticks\": \"\"}, \"type\": \"choropleth\"}], \"contour\": [{\"colorbar\": {\"outlinewidth\": 0, \"ticks\": \"\"}, \"colorscale\": [[0.0, \"#0d0887\"], [0.1111111111111111, \"#46039f\"], [0.2222222222222222, \"#7201a8\"], [0.3333333333333333, \"#9c179e\"], [0.4444444444444444, \"#bd3786\"], [0.5555555555555556, \"#d8576b\"], [0.6666666666666666, \"#ed7953\"], [0.7777777777777778, \"#fb9f3a\"], [0.8888888888888888, \"#fdca26\"], [1.0, \"#f0f921\"]], \"type\": \"contour\"}], \"contourcarpet\": [{\"colorbar\": {\"outlinewidth\": 0, \"ticks\": \"\"}, \"type\": \"contourcarpet\"}], \"heatmap\": [{\"colorbar\": {\"outlinewidth\": 0, \"ticks\": \"\"}, \"colorscale\": [[0.0, \"#0d0887\"], [0.1111111111111111, \"#46039f\"], [0.2222222222222222, \"#7201a8\"], [0.3333333333333333, \"#9c179e\"], [0.4444444444444444, \"#bd3786\"], [0.5555555555555556, \"#d8576b\"], [0.6666666666666666, \"#ed7953\"], [0.7777777777777778, \"#fb9f3a\"], [0.8888888888888888, \"#fdca26\"], [1.0, \"#f0f921\"]], \"type\": \"heatmap\"}], \"heatmapgl\": [{\"colorbar\": {\"outlinewidth\": 0, \"ticks\": \"\"}, \"colorscale\": [[0.0, \"#0d0887\"], [0.1111111111111111, \"#46039f\"], [0.2222222222222222, \"#7201a8\"], [0.3333333333333333, \"#9c179e\"], [0.4444444444444444, \"#bd3786\"], [0.5555555555555556, \"#d8576b\"], [0.6666666666666666, \"#ed7953\"], [0.7777777777777778, \"#fb9f3a\"], [0.8888888888888888, \"#fdca26\"], [1.0, \"#f0f921\"]], \"type\": \"heatmapgl\"}], \"histogram\": [{\"marker\": {\"colorbar\": {\"outlinewidth\": 0, \"ticks\": \"\"}}, \"type\": \"histogram\"}], \"histogram2d\": [{\"colorbar\": {\"outlinewidth\": 0, \"ticks\": \"\"}, \"colorscale\": [[0.0, \"#0d0887\"], [0.1111111111111111, \"#46039f\"], [0.2222222222222222, \"#7201a8\"], [0.3333333333333333, \"#9c179e\"], [0.4444444444444444, \"#bd3786\"], [0.5555555555555556, \"#d8576b\"], [0.6666666666666666, \"#ed7953\"], [0.7777777777777778, \"#fb9f3a\"], [0.8888888888888888, \"#fdca26\"], [1.0, \"#f0f921\"]], \"type\": \"histogram2d\"}], \"histogram2dcontour\": [{\"colorbar\": {\"outlinewidth\": 0, \"ticks\": \"\"}, \"colorscale\": [[0.0, \"#0d0887\"], [0.1111111111111111, \"#46039f\"], [0.2222222222222222, \"#7201a8\"], [0.3333333333333333, \"#9c179e\"], [0.4444444444444444, \"#bd3786\"], [0.5555555555555556, \"#d8576b\"], [0.6666666666666666, \"#ed7953\"], [0.7777777777777778, \"#fb9f3a\"], [0.8888888888888888, \"#fdca26\"], [1.0, \"#f0f921\"]], \"type\": \"histogram2dcontour\"}], \"mesh3d\": [{\"colorbar\": {\"outlinewidth\": 0, \"ticks\": \"\"}, \"type\": \"mesh3d\"}], \"parcoords\": [{\"line\": {\"colorbar\": {\"outlinewidth\": 0, \"ticks\": \"\"}}, \"type\": \"parcoords\"}], \"pie\": [{\"automargin\": true, \"type\": \"pie\"}], \"scatter\": [{\"marker\": {\"colorbar\": {\"outlinewidth\": 0, \"ticks\": \"\"}}, \"type\": \"scatter\"}], \"scatter3d\": [{\"line\": {\"colorbar\": {\"outlinewidth\": 0, \"ticks\": \"\"}}, \"marker\": {\"colorbar\": {\"outlinewidth\": 0, \"ticks\": \"\"}}, \"type\": \"scatter3d\"}], \"scattercarpet\": [{\"marker\": {\"colorbar\": {\"outlinewidth\": 0, \"ticks\": \"\"}}, \"type\": \"scattercarpet\"}], \"scattergeo\": [{\"marker\": {\"colorbar\": {\"outlinewidth\": 0, \"ticks\": \"\"}}, \"type\": \"scattergeo\"}], \"scattergl\": [{\"marker\": {\"colorbar\": {\"outlinewidth\": 0, \"ticks\": \"\"}}, \"type\": \"scattergl\"}], \"scattermapbox\": [{\"marker\": {\"colorbar\": {\"outlinewidth\": 0, \"ticks\": \"\"}}, \"type\": \"scattermapbox\"}], \"scatterpolar\": [{\"marker\": {\"colorbar\": {\"outlinewidth\": 0, \"ticks\": \"\"}}, \"type\": \"scatterpolar\"}], \"scatterpolargl\": [{\"marker\": {\"colorbar\": {\"outlinewidth\": 0, \"ticks\": \"\"}}, \"type\": \"scatterpolargl\"}], \"scatterternary\": [{\"marker\": {\"colorbar\": {\"outlinewidth\": 0, \"ticks\": \"\"}}, \"type\": \"scatterternary\"}], \"surface\": [{\"colorbar\": {\"outlinewidth\": 0, \"ticks\": \"\"}, \"colorscale\": [[0.0, \"#0d0887\"], [0.1111111111111111, \"#46039f\"], [0.2222222222222222, \"#7201a8\"], [0.3333333333333333, \"#9c179e\"], [0.4444444444444444, \"#bd3786\"], [0.5555555555555556, \"#d8576b\"], [0.6666666666666666, \"#ed7953\"], [0.7777777777777778, \"#fb9f3a\"], [0.8888888888888888, \"#fdca26\"], [1.0, \"#f0f921\"]], \"type\": \"surface\"}], \"table\": [{\"cells\": {\"fill\": {\"color\": \"#EBF0F8\"}, \"line\": {\"color\": \"white\"}}, \"header\": {\"fill\": {\"color\": \"#C8D4E3\"}, \"line\": {\"color\": \"white\"}}, \"type\": \"table\"}]}, \"layout\": {\"annotationdefaults\": {\"arrowcolor\": \"#2a3f5f\", \"arrowhead\": 0, \"arrowwidth\": 1}, \"coloraxis\": {\"colorbar\": {\"outlinewidth\": 0, \"ticks\": \"\"}}, \"colorscale\": {\"diverging\": [[0, \"#8e0152\"], [0.1, \"#c51b7d\"], [0.2, \"#de77ae\"], [0.3, \"#f1b6da\"], [0.4, \"#fde0ef\"], [0.5, \"#f7f7f7\"], [0.6, \"#e6f5d0\"], [0.7, \"#b8e186\"], [0.8, \"#7fbc41\"], [0.9, \"#4d9221\"], [1, \"#276419\"]], \"sequential\": [[0.0, \"#0d0887\"], [0.1111111111111111, \"#46039f\"], [0.2222222222222222, \"#7201a8\"], [0.3333333333333333, \"#9c179e\"], [0.4444444444444444, \"#bd3786\"], [0.5555555555555556, \"#d8576b\"], [0.6666666666666666, \"#ed7953\"], [0.7777777777777778, \"#fb9f3a\"], [0.8888888888888888, \"#fdca26\"], [1.0, \"#f0f921\"]], \"sequentialminus\": [[0.0, \"#0d0887\"], [0.1111111111111111, \"#46039f\"], [0.2222222222222222, \"#7201a8\"], [0.3333333333333333, \"#9c179e\"], [0.4444444444444444, \"#bd3786\"], [0.5555555555555556, \"#d8576b\"], [0.6666666666666666, \"#ed7953\"], [0.7777777777777778, \"#fb9f3a\"], [0.8888888888888888, \"#fdca26\"], [1.0, \"#f0f921\"]]}, \"colorway\": [\"#636efa\", \"#EF553B\", \"#00cc96\", \"#ab63fa\", \"#FFA15A\", \"#19d3f3\", \"#FF6692\", \"#B6E880\", \"#FF97FF\", \"#FECB52\"], \"font\": {\"color\": \"#2a3f5f\"}, \"geo\": {\"bgcolor\": \"white\", \"lakecolor\": \"white\", \"landcolor\": \"#E5ECF6\", \"showlakes\": true, \"showland\": true, \"subunitcolor\": \"white\"}, \"hoverlabel\": {\"align\": \"left\"}, \"hovermode\": \"closest\", \"mapbox\": {\"style\": \"light\"}, \"paper_bgcolor\": \"white\", \"plot_bgcolor\": \"#E5ECF6\", \"polar\": {\"angularaxis\": {\"gridcolor\": \"white\", \"linecolor\": \"white\", \"ticks\": \"\"}, \"bgcolor\": \"#E5ECF6\", \"radialaxis\": {\"gridcolor\": \"white\", \"linecolor\": \"white\", \"ticks\": \"\"}}, \"scene\": {\"xaxis\": {\"backgroundcolor\": \"#E5ECF6\", \"gridcolor\": \"white\", \"gridwidth\": 2, \"linecolor\": \"white\", \"showbackground\": true, \"ticks\": \"\", \"zerolinecolor\": \"white\"}, \"yaxis\": {\"backgroundcolor\": \"#E5ECF6\", \"gridcolor\": \"white\", \"gridwidth\": 2, \"linecolor\": \"white\", \"showbackground\": true, \"ticks\": \"\", \"zerolinecolor\": \"white\"}, \"zaxis\": {\"backgroundcolor\": \"#E5ECF6\", \"gridcolor\": \"white\", \"gridwidth\": 2, \"linecolor\": \"white\", \"showbackground\": true, \"ticks\": \"\", \"zerolinecolor\": \"white\"}}, \"shapedefaults\": {\"line\": {\"color\": \"#2a3f5f\"}}, \"ternary\": {\"aaxis\": {\"gridcolor\": \"white\", \"linecolor\": \"white\", \"ticks\": \"\"}, \"baxis\": {\"gridcolor\": \"white\", \"linecolor\": \"white\", \"ticks\": \"\"}, \"bgcolor\": \"#E5ECF6\", \"caxis\": {\"gridcolor\": \"white\", \"linecolor\": \"white\", \"ticks\": \"\"}}, \"title\": {\"x\": 0.05}, \"xaxis\": {\"automargin\": true, \"gridcolor\": \"white\", \"linecolor\": \"white\", \"ticks\": \"\", \"title\": {\"standoff\": 15}, \"zerolinecolor\": \"white\", \"zerolinewidth\": 2}, \"yaxis\": {\"automargin\": true, \"gridcolor\": \"white\", \"linecolor\": \"white\", \"ticks\": \"\", \"title\": {\"standoff\": 15}, \"zerolinecolor\": \"white\", \"zerolinewidth\": 2}}}, \"title\": {\"text\": \"CVE\"}, \"xaxis\": {\"rangeselector\": {\"buttons\": [{\"count\": 10, \"label\": \"10D\", \"step\": \"day\", \"stepmode\": \"backward\"}, {\"count\": 1, \"label\": \"1M\", \"step\": \"month\", \"stepmode\": \"backward\"}, {\"count\": 6, \"label\": \"6M\", \"step\": \"month\", \"stepmode\": \"backward\"}, {\"count\": 1, \"label\": \"1Y\", \"step\": \"year\", \"stepmode\": \"backward\"}, {\"count\": 1, \"label\": \"YTD\", \"step\": \"year\", \"stepmode\": \"backward\"}, {\"step\": \"all\"}]}, \"rangeslider\": {\"visible\": true}, \"title\": {\"text\": \"Dates\"}}, \"yaxis\": {\"title\": {\"text\": \"Stock Price USD\"}}},                        {\"responsive\": true}                    ).then(function(){\n",
       "                            \n",
       "var gd = document.getElementById('b7b516f5-d18a-4bea-bcbf-5eacbcab5b02');\n",
       "var x = new MutationObserver(function (mutations, observer) {{\n",
       "        var display = window.getComputedStyle(gd).display;\n",
       "        if (!display || display === 'none') {{\n",
       "            console.log([gd, 'removed!']);\n",
       "            Plotly.purge(gd);\n",
       "            observer.disconnect();\n",
       "        }}\n",
       "}});\n",
       "\n",
       "// Listen for the removal of the full notebook cells\n",
       "var notebookContainer = gd.closest('#notebook-container');\n",
       "if (notebookContainer) {{\n",
       "    x.observe(notebookContainer, {childList: true});\n",
       "}}\n",
       "\n",
       "// Listen for the clearing of the current output cell\n",
       "var outputEl = gd.closest('.output');\n",
       "if (outputEl) {{\n",
       "    x.observe(outputEl, {childList: true});\n",
       "}}\n",
       "\n",
       "                        })                };                });            </script>        </div>"
      ]
     },
     "metadata": {},
     "output_type": "display_data"
    }
   ],
   "source": [
    "# Enter stock name you want to see\n",
    "print('Enter Stock')\n",
    "stock = input()\n",
    "\n",
    "# df is equal to stock name csv you want to see\n",
    "df = pd.read_csv(f'{stock}.csv')\n",
    "x = df['Date']\n",
    "y = df['Adj Close']\n",
    "\n",
    "# Creating graph\n",
    "fig = go.Figure()\n",
    "\n",
    "# Graph is going to be a scatter plot, and we want a range slider\n",
    "fig.add_trace(go.Scatter(x=x, y=y, ))\n",
    "fig.update_layout(title = f'{stock}', yaxis_title = 'Stock Price USD', xaxis_title = 'Dates')\n",
    "fig.update_xaxes(\n",
    "    rangeslider_visible = True,\n",
    "        rangeselector = dict(\n",
    "            buttons = list([\n",
    "                dict(count = 10, label = '10D', step = 'day', stepmode = 'backward'),\n",
    "                dict(count = 1, label = '1M', step = 'month', stepmode = 'backward'),\n",
    "                dict(count = 6, label = '6M', step = 'month', stepmode = 'backward'),\n",
    "                dict(count = 1, label = '1Y', step = 'year', stepmode = 'backward'),\n",
    "                dict(count = 1, label = 'YTD', step = 'year', stepmode = 'backward'),\n",
    "                dict(step = 'all'),\n",
    "                    ])))\n",
    "\n",
    "fig.show()"
   ]
  },
  {
   "cell_type": "code",
   "execution_count": null,
   "metadata": {},
   "outputs": [],
   "source": []
  }
 ],
 "metadata": {
  "kernelspec": {
   "display_name": "Python 3",
   "language": "python",
   "name": "python3"
  },
  "language_info": {
   "codemirror_mode": {
    "name": "ipython",
    "version": 3
   },
   "file_extension": ".py",
   "mimetype": "text/x-python",
   "name": "python",
   "nbconvert_exporter": "python",
   "pygments_lexer": "ipython3",
   "version": "3.7.4"
  }
 },
 "nbformat": 4,
 "nbformat_minor": 4
}
